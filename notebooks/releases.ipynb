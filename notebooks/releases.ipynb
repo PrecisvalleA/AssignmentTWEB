{
 "cells": [
  {
   "metadata": {},
   "cell_type": "markdown",
   "source": "Import libraries for data cleaning ",
   "id": "a901df29f14c16d3"
  },
  {
   "cell_type": "code",
   "id": "initial_id",
   "metadata": {
    "collapsed": true,
    "ExecuteTime": {
     "end_time": "2025-02-06T11:57:47.793124Z",
     "start_time": "2025-02-06T11:57:47.783174Z"
    }
   },
   "source": [
    "import csv\n",
    "from tokenize import String\n",
    "\n",
    "from db_connection import get_db_engine\n",
    "from db_connection import execute_query\n",
    "import numpy as np\n",
    "import pandas as pd\n",
    "import seaborn as sns\n",
    "import os\n",
    "import re"
   ],
   "outputs": [],
   "execution_count": 21
  },
  {
   "metadata": {},
   "cell_type": "markdown",
   "source": "Reading CSV file",
   "id": "5927963eebe59e4b"
  },
  {
   "metadata": {
    "ExecuteTime": {
     "end_time": "2025-02-06T11:57:49.258717Z",
     "start_time": "2025-02-06T11:57:47.913898Z"
    }
   },
   "cell_type": "code",
   "source": "df_releases = pd.read_csv(r\"C:\\Users\\ricca\\Desktop\\CSV\\releases.csv\\releases.csv\")",
   "id": "b5f70a56c5ff2bbd",
   "outputs": [],
   "execution_count": 22
  },
  {
   "metadata": {},
   "cell_type": "markdown",
   "source": "Top records of CSV file: releases.csv",
   "id": "2b8612a0cbed6ab9"
  },
  {
   "metadata": {
    "ExecuteTime": {
     "end_time": "2025-02-06T11:57:49.578625Z",
     "start_time": "2025-02-06T11:57:49.551630Z"
    }
   },
   "cell_type": "code",
   "source": "df_releases",
   "id": "547e23333307265b",
   "outputs": [
    {
     "data": {
      "text/plain": [
       "              id    country        date        type rating\n",
       "0        1000001    Andorra  2023-07-21  Theatrical    NaN\n",
       "1        1000001  Argentina  2023-07-20  Theatrical    ATP\n",
       "2        1000001  Australia  2023-07-19  Theatrical     PG\n",
       "3        1000001  Australia  2023-10-01     Digital     PG\n",
       "4        1000001    Austria  2023-07-20  Theatrical    NaN\n",
       "...          ...        ...         ...         ...    ...\n",
       "1332777  1940967        USA  1909-01-01  Theatrical    NaN\n",
       "1332778  1940968     Sweden  1908-11-11  Theatrical    NaN\n",
       "1332779  1940969     France  1902-01-01  Theatrical    NaN\n",
       "1332780  1940970     France  1902-01-01  Theatrical    NaN\n",
       "1332781  1940971     France  1902-01-01  Theatrical    NaN\n",
       "\n",
       "[1332782 rows x 5 columns]"
      ],
      "text/html": [
       "<div>\n",
       "<style scoped>\n",
       "    .dataframe tbody tr th:only-of-type {\n",
       "        vertical-align: middle;\n",
       "    }\n",
       "\n",
       "    .dataframe tbody tr th {\n",
       "        vertical-align: top;\n",
       "    }\n",
       "\n",
       "    .dataframe thead th {\n",
       "        text-align: right;\n",
       "    }\n",
       "</style>\n",
       "<table border=\"1\" class=\"dataframe\">\n",
       "  <thead>\n",
       "    <tr style=\"text-align: right;\">\n",
       "      <th></th>\n",
       "      <th>id</th>\n",
       "      <th>country</th>\n",
       "      <th>date</th>\n",
       "      <th>type</th>\n",
       "      <th>rating</th>\n",
       "    </tr>\n",
       "  </thead>\n",
       "  <tbody>\n",
       "    <tr>\n",
       "      <th>0</th>\n",
       "      <td>1000001</td>\n",
       "      <td>Andorra</td>\n",
       "      <td>2023-07-21</td>\n",
       "      <td>Theatrical</td>\n",
       "      <td>NaN</td>\n",
       "    </tr>\n",
       "    <tr>\n",
       "      <th>1</th>\n",
       "      <td>1000001</td>\n",
       "      <td>Argentina</td>\n",
       "      <td>2023-07-20</td>\n",
       "      <td>Theatrical</td>\n",
       "      <td>ATP</td>\n",
       "    </tr>\n",
       "    <tr>\n",
       "      <th>2</th>\n",
       "      <td>1000001</td>\n",
       "      <td>Australia</td>\n",
       "      <td>2023-07-19</td>\n",
       "      <td>Theatrical</td>\n",
       "      <td>PG</td>\n",
       "    </tr>\n",
       "    <tr>\n",
       "      <th>3</th>\n",
       "      <td>1000001</td>\n",
       "      <td>Australia</td>\n",
       "      <td>2023-10-01</td>\n",
       "      <td>Digital</td>\n",
       "      <td>PG</td>\n",
       "    </tr>\n",
       "    <tr>\n",
       "      <th>4</th>\n",
       "      <td>1000001</td>\n",
       "      <td>Austria</td>\n",
       "      <td>2023-07-20</td>\n",
       "      <td>Theatrical</td>\n",
       "      <td>NaN</td>\n",
       "    </tr>\n",
       "    <tr>\n",
       "      <th>...</th>\n",
       "      <td>...</td>\n",
       "      <td>...</td>\n",
       "      <td>...</td>\n",
       "      <td>...</td>\n",
       "      <td>...</td>\n",
       "    </tr>\n",
       "    <tr>\n",
       "      <th>1332777</th>\n",
       "      <td>1940967</td>\n",
       "      <td>USA</td>\n",
       "      <td>1909-01-01</td>\n",
       "      <td>Theatrical</td>\n",
       "      <td>NaN</td>\n",
       "    </tr>\n",
       "    <tr>\n",
       "      <th>1332778</th>\n",
       "      <td>1940968</td>\n",
       "      <td>Sweden</td>\n",
       "      <td>1908-11-11</td>\n",
       "      <td>Theatrical</td>\n",
       "      <td>NaN</td>\n",
       "    </tr>\n",
       "    <tr>\n",
       "      <th>1332779</th>\n",
       "      <td>1940969</td>\n",
       "      <td>France</td>\n",
       "      <td>1902-01-01</td>\n",
       "      <td>Theatrical</td>\n",
       "      <td>NaN</td>\n",
       "    </tr>\n",
       "    <tr>\n",
       "      <th>1332780</th>\n",
       "      <td>1940970</td>\n",
       "      <td>France</td>\n",
       "      <td>1902-01-01</td>\n",
       "      <td>Theatrical</td>\n",
       "      <td>NaN</td>\n",
       "    </tr>\n",
       "    <tr>\n",
       "      <th>1332781</th>\n",
       "      <td>1940971</td>\n",
       "      <td>France</td>\n",
       "      <td>1902-01-01</td>\n",
       "      <td>Theatrical</td>\n",
       "      <td>NaN</td>\n",
       "    </tr>\n",
       "  </tbody>\n",
       "</table>\n",
       "<p>1332782 rows × 5 columns</p>\n",
       "</div>"
      ]
     },
     "execution_count": 23,
     "metadata": {},
     "output_type": "execute_result"
    }
   ],
   "execution_count": 23
  },
  {
   "metadata": {},
   "cell_type": "markdown",
   "source": "Checking for total dimension of the csv",
   "id": "8ad89536ddd1700a"
  },
  {
   "metadata": {
    "ExecuteTime": {
     "end_time": "2025-02-06T11:57:49.744058Z",
     "start_time": "2025-02-06T11:57:49.738392Z"
    }
   },
   "cell_type": "code",
   "source": "df_releases.shape",
   "id": "b9e5a2d172c56567",
   "outputs": [
    {
     "data": {
      "text/plain": [
       "(1332782, 5)"
      ]
     },
     "execution_count": 24,
     "metadata": {},
     "output_type": "execute_result"
    }
   ],
   "execution_count": 24
  },
  {
   "metadata": {},
   "cell_type": "markdown",
   "source": "Rename 'id' column in 'id_actor'. \"inplace = True\" modifies directly the df without creating a copy",
   "id": "12ddee03a9746eac"
  },
  {
   "metadata": {
    "ExecuteTime": {
     "end_time": "2025-02-06T11:57:49.831298Z",
     "start_time": "2025-02-06T11:57:49.821446Z"
    }
   },
   "cell_type": "code",
   "source": "df_releases.rename(columns = {\"id\":\"id_release\"} , inplace = True)\n",
   "id": "432a0e47a6fceb51",
   "outputs": [],
   "execution_count": 25
  },
  {
   "metadata": {
    "ExecuteTime": {
     "end_time": "2025-02-06T11:57:50.271096Z",
     "start_time": "2025-02-06T11:57:50.264100Z"
    }
   },
   "cell_type": "code",
   "source": "df_releases.columns",
   "id": "d511c93c310c027a",
   "outputs": [
    {
     "data": {
      "text/plain": [
       "Index(['id_release', 'country', 'date', 'type', 'rating'], dtype='object')"
      ]
     },
     "execution_count": 26,
     "metadata": {},
     "output_type": "execute_result"
    }
   ],
   "execution_count": 26
  },
  {
   "metadata": {},
   "cell_type": "markdown",
   "source": "Check info about column type",
   "id": "e0715abbf6238708"
  },
  {
   "metadata": {
    "ExecuteTime": {
     "end_time": "2025-02-06T11:57:50.477298Z",
     "start_time": "2025-02-06T11:57:50.472285Z"
    }
   },
   "cell_type": "code",
   "source": "df_releases.dtypes",
   "id": "4a8f184564b2c2d",
   "outputs": [
    {
     "data": {
      "text/plain": [
       "id_release     int64\n",
       "country       object\n",
       "date          object\n",
       "type          object\n",
       "rating        object\n",
       "dtype: object"
      ]
     },
     "execution_count": 27,
     "metadata": {},
     "output_type": "execute_result"
    }
   ],
   "execution_count": 27
  },
  {
   "metadata": {},
   "cell_type": "markdown",
   "source": "Correction of data type of the records",
   "id": "f7e67212b7997077"
  },
  {
   "metadata": {
    "ExecuteTime": {
     "end_time": "2025-02-06T11:57:51.832087Z",
     "start_time": "2025-02-06T11:57:50.546726Z"
    }
   },
   "cell_type": "code",
   "source": [
    "df_releases['id_release'] = df_releases['id_release'].astype('Int64')\n",
    "df_releases['country'] = df_releases['country'].fillna(pd.NA).astype('string')\n",
    "df_releases[\"date\"] = pd.to_datetime(df_releases[\"date\"], errors=\"coerce\")\n",
    "df_releases['type'] = df_releases['type'].fillna(pd.NA).astype('string')\n",
    "df_releases['rating'] = df_releases['rating'].fillna(pd.NA).astype('string')\n",
    "df_releases.dtypes"
   ],
   "id": "20c87a6f2699e841",
   "outputs": [
    {
     "data": {
      "text/plain": [
       "id_release             Int64\n",
       "country       string[python]\n",
       "date          datetime64[ns]\n",
       "type          string[python]\n",
       "rating        string[python]\n",
       "dtype: object"
      ]
     },
     "execution_count": 28,
     "metadata": {},
     "output_type": "execute_result"
    }
   ],
   "execution_count": 28
  },
  {
   "metadata": {},
   "cell_type": "markdown",
   "source": "Check if there are duplicates",
   "id": "3cc33c02e392bc4f"
  },
  {
   "metadata": {
    "ExecuteTime": {
     "end_time": "2025-02-06T12:05:50.470894Z",
     "start_time": "2025-02-06T12:05:50.257638Z"
    }
   },
   "cell_type": "code",
   "source": "df_releases.duplicated(subset=[\"id_release\", \"country\", \"date\", \"type\"]).sum()\n",
   "id": "e288c88bf9b288cd",
   "outputs": [
    {
     "data": {
      "text/plain": [
       "np.int64(5421)"
      ]
     },
     "execution_count": 42,
     "metadata": {},
     "output_type": "execute_result"
    }
   ],
   "execution_count": 42
  },
  {
   "metadata": {
    "ExecuteTime": {
     "end_time": "2025-02-06T12:06:06.367429Z",
     "start_time": "2025-02-06T12:06:05.634717Z"
    }
   },
   "cell_type": "code",
   "source": [
    "df_releases.drop_duplicates(subset=[\"id_release\", \"country\", \"date\", \"type\"], inplace=True)\n",
    "df_releases.duplicated().sum()"
   ],
   "id": "31233cfa0b9b3ce1",
   "outputs": [
    {
     "data": {
      "text/plain": [
       "np.int64(0)"
      ]
     },
     "execution_count": 43,
     "metadata": {},
     "output_type": "execute_result"
    }
   ],
   "execution_count": 43
  },
  {
   "metadata": {},
   "cell_type": "markdown",
   "source": "Check the missing values",
   "id": "66200eda95af4101"
  },
  {
   "metadata": {
    "ExecuteTime": {
     "end_time": "2025-02-06T12:06:08.860079Z",
     "start_time": "2025-02-06T12:06:08.777751Z"
    }
   },
   "cell_type": "code",
   "source": "df_releases.isnull().sum()",
   "id": "fcef002a4002753c",
   "outputs": [
    {
     "data": {
      "text/plain": [
       "id_release         0\n",
       "country            0\n",
       "date               0\n",
       "type               0\n",
       "rating        998802\n",
       "dtype: int64"
      ]
     },
     "execution_count": 44,
     "metadata": {},
     "output_type": "execute_result"
    }
   ],
   "execution_count": 44
  },
  {
   "metadata": {},
   "cell_type": "markdown",
   "source": "Dropping records with missing value ",
   "id": "c17318c3ff878166"
  },
  {
   "metadata": {
    "ExecuteTime": {
     "end_time": "2025-02-06T12:06:11.243252Z",
     "start_time": "2025-02-06T12:06:10.976531Z"
    }
   },
   "cell_type": "code",
   "source": [
    "df_releases.dropna(subset=['id_release', 'country', 'date', 'type'], inplace = True)\n",
    "df_releases.isnull().sum()"
   ],
   "id": "920630a50cad8756",
   "outputs": [
    {
     "data": {
      "text/plain": [
       "id_release         0\n",
       "country            0\n",
       "date               0\n",
       "type               0\n",
       "rating        998802\n",
       "dtype: int64"
      ]
     },
     "execution_count": 45,
     "metadata": {},
     "output_type": "execute_result"
    }
   ],
   "execution_count": 45
  },
  {
   "metadata": {},
   "cell_type": "markdown",
   "source": "Connecting to PostgreSQL database and creating the table",
   "id": "811a335d54b41131"
  },
  {
   "metadata": {
    "ExecuteTime": {
     "end_time": "2025-02-06T12:06:14.607583Z",
     "start_time": "2025-02-06T12:06:13.551292Z"
    }
   },
   "cell_type": "code",
   "source": [
    "engine = get_db_engine()\n",
    "sql = \\\n",
    "    \"\"\"CREATE TABLE IF NOT EXISTS releases (\n",
    "            id_release INTEGER CHECK (id_release>=0),\n",
    "            country TEXT CHECK (country<>''),\n",
    "            date DATE,\n",
    "            type TEXT CHECK (type<>''),\n",
    "            rating TEXT,\n",
    "            \n",
    "\n",
    "            PRIMARY KEY (id_release, country, date, type)\n",
    "            );\n",
    "    \"\"\"\n",
    "execute_query(sql)"
   ],
   "id": "97ce79ed13aee1bf",
   "outputs": [
    {
     "name": "stdout",
     "output_type": "stream",
     "text": [
      "Success!\n"
     ]
    }
   ],
   "execution_count": 46
  },
  {
   "metadata": {},
   "cell_type": "markdown",
   "source": "Population of the table using .to_sql function",
   "id": "6e1030aa844b0306"
  },
  {
   "metadata": {
    "ExecuteTime": {
     "end_time": "2025-02-06T12:06:56.171172Z",
     "start_time": "2025-02-06T12:06:21.602333Z"
    }
   },
   "cell_type": "code",
   "source": "df_releases.to_sql(\"releases\", engine, if_exists=\"append\", index=False)",
   "id": "5b9fa46f35add793",
   "outputs": [
    {
     "ename": "IntegrityError",
     "evalue": "(psycopg2.errors.UniqueViolation) ERRORE:  un valore chiave duplicato viola il vincolo univoco \"releases_pkey\"\nDETAIL:  La chiave (id_release, country, date)=(1000002, Ireland, 2020-07-24) esiste già.\n\n[SQL: INSERT INTO releases (id_release, country, date, type, rating) VALUES (%(id_release__0)s, %(country__0)s, %(date__0)s, %(type__0)s, %(rating__0)s), (%(id_release__1)s, %(country__1)s, %(date__1)s, %(type__1)s, %(rating__1)s), (%(id_release__2)s, %(co ... 87168 characters truncated ... ting__998)s), (%(id_release__999)s, %(country__999)s, %(date__999)s, %(type__999)s, %(rating__999)s)]\n[parameters: {'rating__0': None, 'type__0': 'Theatrical', 'country__0': 'Andorra', 'date__0': datetime.datetime(2023, 7, 21, 0, 0), 'id_release__0': 1000001, 'rating__1': 'ATP', 'type__1': 'Theatrical', 'country__1': 'Argentina', 'date__1': datetime.datetime(2023, 7, 20, 0, 0), 'id_release__1': 1000001, 'rating__2': 'PG', 'type__2': 'Theatrical', 'country__2': 'Australia', 'date__2': datetime.datetime(2023, 7, 19, 0, 0), 'id_release__2': 1000001, 'rating__3': 'PG', 'type__3': 'Digital', 'country__3': 'Australia', 'date__3': datetime.datetime(2023, 10, 1, 0, 0), 'id_release__3': 1000001, 'rating__4': None, 'type__4': 'Theatrical', 'country__4': 'Austria', 'date__4': datetime.datetime(2023, 7, 20, 0, 0), 'id_release__4': 1000001, 'rating__5': None, 'type__5': 'Theatrical', 'country__5': 'Austria', 'date__5': datetime.datetime(2023, 7, 21, 0, 0), 'id_release__5': 1000001, 'rating__6': None, 'type__6': 'Theatrical', 'country__6': 'Bahrain', 'date__6': datetime.datetime(2023, 8, 10, 0, 0), 'id_release__6': 1000001, 'rating__7': None, 'type__7': 'Theatrical', 'country__7': 'Belgium', 'date__7': datetime.datetime(2023, 7, 19, 0, 0), 'id_release__7': 1000001, 'rating__8': None, 'type__8': 'Theatrical', 'country__8': 'Bolivarian Republic of Venezuela', 'date__8': datetime.datetime(2023, 7, 20, 0, 0), 'id_release__8': 1000001, 'rating__9': None, 'type__9': 'Theatrical', 'country__9': 'Bolivia', 'date__9': datetime.datetime(2023, 7, 20, 0, 0), 'id_release__9': 1000001 ... 4900 parameters truncated ... 'rating__990': None, 'type__990': 'Premiere', 'country__990': 'Canada', 'date__990': datetime.datetime(2014, 9, 8, 0, 0), 'id_release__990': 1000012, 'rating__991': None, 'type__991': 'Theatrical limited', 'country__991': 'Canada', 'date__991': datetime.datetime(2014, 10, 24, 0, 0), 'id_release__991': 1000012, 'rating__992': None, 'type__992': 'Theatrical', 'country__992': 'Czechia', 'date__992': datetime.datetime(2015, 1, 28, 0, 0), 'id_release__992': 1000012, 'rating__993': None, 'type__993': 'Theatrical', 'country__993': 'Denmark', 'date__993': datetime.datetime(2015, 2, 18, 0, 0), 'id_release__993': 1000012, 'rating__994': None, 'type__994': 'Theatrical', 'country__994': 'Estonia', 'date__994': datetime.datetime(2015, 1, 8, 0, 0), 'id_release__994': 1000012, 'rating__995': 'K-12', 'type__995': 'Theatrical', 'country__995': 'Finland', 'date__995': datetime.datetime(2015, 1, 23, 0, 0), 'id_release__995': 1000012, 'rating__996': 'TP', 'type__996': 'Premiere', 'country__996': 'France', 'date__996': datetime.datetime(2014, 5, 20, 0, 0), 'id_release__996': 1000012, 'rating__997': 'TP', 'type__997': 'Theatrical', 'country__997': 'France', 'date__997': datetime.datetime(2014, 12, 24, 0, 0), 'id_release__997': 1000012, 'rating__998': '12', 'type__998': 'Theatrical', 'country__998': 'Germany', 'date__998': datetime.datetime(2015, 2, 19, 0, 0), 'id_release__998': 1000012, 'rating__999': '13', 'type__999': 'Theatrical', 'country__999': 'Greece', 'date__999': datetime.datetime(2015, 2, 5, 0, 0), 'id_release__999': 1000012}]\n(Background on this error at: https://sqlalche.me/e/20/gkpj)",
     "output_type": "error",
     "traceback": [
      "\u001B[1;31m---------------------------------------------------------------------------\u001B[0m",
      "\u001B[1;31mUniqueViolation\u001B[0m                           Traceback (most recent call last)",
      "File \u001B[1;32m~\\PycharmProjects\\PrimiEserciziPython\\.venv\\Lib\\site-packages\\sqlalchemy\\engine\\base.py:2115\u001B[0m, in \u001B[0;36mConnection._exec_insertmany_context\u001B[1;34m(self, dialect, context)\u001B[0m\n\u001B[0;32m   2114\u001B[0m     \u001B[38;5;28;01melse\u001B[39;00m:\n\u001B[1;32m-> 2115\u001B[0m         \u001B[43mdialect\u001B[49m\u001B[38;5;241;43m.\u001B[39;49m\u001B[43mdo_execute\u001B[49m\u001B[43m(\u001B[49m\n\u001B[0;32m   2116\u001B[0m \u001B[43m            \u001B[49m\u001B[43mcursor\u001B[49m\u001B[43m,\u001B[49m\n\u001B[0;32m   2117\u001B[0m \u001B[43m            \u001B[49m\u001B[43msub_stmt\u001B[49m\u001B[43m,\u001B[49m\n\u001B[0;32m   2118\u001B[0m \u001B[43m            \u001B[49m\u001B[43msub_params\u001B[49m\u001B[43m,\u001B[49m\n\u001B[0;32m   2119\u001B[0m \u001B[43m            \u001B[49m\u001B[43mcontext\u001B[49m\u001B[43m,\u001B[49m\n\u001B[0;32m   2120\u001B[0m \u001B[43m        \u001B[49m\u001B[43m)\u001B[49m\n\u001B[0;32m   2122\u001B[0m \u001B[38;5;28;01mexcept\u001B[39;00m \u001B[38;5;167;01mBaseException\u001B[39;00m \u001B[38;5;28;01mas\u001B[39;00m e:\n",
      "File \u001B[1;32m~\\PycharmProjects\\PrimiEserciziPython\\.venv\\Lib\\site-packages\\sqlalchemy\\engine\\default.py:942\u001B[0m, in \u001B[0;36mDefaultDialect.do_execute\u001B[1;34m(self, cursor, statement, parameters, context)\u001B[0m\n\u001B[0;32m    941\u001B[0m \u001B[38;5;28;01mdef\u001B[39;00m\u001B[38;5;250m \u001B[39m\u001B[38;5;21mdo_execute\u001B[39m(\u001B[38;5;28mself\u001B[39m, cursor, statement, parameters, context\u001B[38;5;241m=\u001B[39m\u001B[38;5;28;01mNone\u001B[39;00m):\n\u001B[1;32m--> 942\u001B[0m     \u001B[43mcursor\u001B[49m\u001B[38;5;241;43m.\u001B[39;49m\u001B[43mexecute\u001B[49m\u001B[43m(\u001B[49m\u001B[43mstatement\u001B[49m\u001B[43m,\u001B[49m\u001B[43m \u001B[49m\u001B[43mparameters\u001B[49m\u001B[43m)\u001B[49m\n",
      "\u001B[1;31mUniqueViolation\u001B[0m: ERRORE:  un valore chiave duplicato viola il vincolo univoco \"releases_pkey\"\nDETAIL:  La chiave (id_release, country, date)=(1000002, Ireland, 2020-07-24) esiste già.\n",
      "\nThe above exception was the direct cause of the following exception:\n",
      "\u001B[1;31mIntegrityError\u001B[0m                            Traceback (most recent call last)",
      "Cell \u001B[1;32mIn[47], line 1\u001B[0m\n\u001B[1;32m----> 1\u001B[0m \u001B[43mdf_releases\u001B[49m\u001B[38;5;241;43m.\u001B[39;49m\u001B[43mto_sql\u001B[49m\u001B[43m(\u001B[49m\u001B[38;5;124;43m\"\u001B[39;49m\u001B[38;5;124;43mreleases\u001B[39;49m\u001B[38;5;124;43m\"\u001B[39;49m\u001B[43m,\u001B[49m\u001B[43m \u001B[49m\u001B[43mengine\u001B[49m\u001B[43m,\u001B[49m\u001B[43m \u001B[49m\u001B[43mif_exists\u001B[49m\u001B[38;5;241;43m=\u001B[39;49m\u001B[38;5;124;43m\"\u001B[39;49m\u001B[38;5;124;43mappend\u001B[39;49m\u001B[38;5;124;43m\"\u001B[39;49m\u001B[43m,\u001B[49m\u001B[43m \u001B[49m\u001B[43mindex\u001B[49m\u001B[38;5;241;43m=\u001B[39;49m\u001B[38;5;28;43;01mFalse\u001B[39;49;00m\u001B[43m)\u001B[49m\n",
      "File \u001B[1;32m~\\PycharmProjects\\PrimiEserciziPython\\.venv\\Lib\\site-packages\\pandas\\util\\_decorators.py:333\u001B[0m, in \u001B[0;36mdeprecate_nonkeyword_arguments.<locals>.decorate.<locals>.wrapper\u001B[1;34m(*args, **kwargs)\u001B[0m\n\u001B[0;32m    327\u001B[0m \u001B[38;5;28;01mif\u001B[39;00m \u001B[38;5;28mlen\u001B[39m(args) \u001B[38;5;241m>\u001B[39m num_allow_args:\n\u001B[0;32m    328\u001B[0m     warnings\u001B[38;5;241m.\u001B[39mwarn(\n\u001B[0;32m    329\u001B[0m         msg\u001B[38;5;241m.\u001B[39mformat(arguments\u001B[38;5;241m=\u001B[39m_format_argument_list(allow_args)),\n\u001B[0;32m    330\u001B[0m         \u001B[38;5;167;01mFutureWarning\u001B[39;00m,\n\u001B[0;32m    331\u001B[0m         stacklevel\u001B[38;5;241m=\u001B[39mfind_stack_level(),\n\u001B[0;32m    332\u001B[0m     )\n\u001B[1;32m--> 333\u001B[0m \u001B[38;5;28;01mreturn\u001B[39;00m \u001B[43mfunc\u001B[49m\u001B[43m(\u001B[49m\u001B[38;5;241;43m*\u001B[39;49m\u001B[43margs\u001B[49m\u001B[43m,\u001B[49m\u001B[43m \u001B[49m\u001B[38;5;241;43m*\u001B[39;49m\u001B[38;5;241;43m*\u001B[39;49m\u001B[43mkwargs\u001B[49m\u001B[43m)\u001B[49m\n",
      "File \u001B[1;32m~\\PycharmProjects\\PrimiEserciziPython\\.venv\\Lib\\site-packages\\pandas\\core\\generic.py:3087\u001B[0m, in \u001B[0;36mNDFrame.to_sql\u001B[1;34m(self, name, con, schema, if_exists, index, index_label, chunksize, dtype, method)\u001B[0m\n\u001B[0;32m   2889\u001B[0m \u001B[38;5;250m\u001B[39m\u001B[38;5;124;03m\"\"\"\u001B[39;00m\n\u001B[0;32m   2890\u001B[0m \u001B[38;5;124;03mWrite records stored in a DataFrame to a SQL database.\u001B[39;00m\n\u001B[0;32m   2891\u001B[0m \n\u001B[1;32m   (...)\u001B[0m\n\u001B[0;32m   3083\u001B[0m \u001B[38;5;124;03m[(1,), (None,), (2,)]\u001B[39;00m\n\u001B[0;32m   3084\u001B[0m \u001B[38;5;124;03m\"\"\"\u001B[39;00m  \u001B[38;5;66;03m# noqa: E501\u001B[39;00m\n\u001B[0;32m   3085\u001B[0m \u001B[38;5;28;01mfrom\u001B[39;00m\u001B[38;5;250m \u001B[39m\u001B[38;5;21;01mpandas\u001B[39;00m\u001B[38;5;21;01m.\u001B[39;00m\u001B[38;5;21;01mio\u001B[39;00m\u001B[38;5;250m \u001B[39m\u001B[38;5;28;01mimport\u001B[39;00m sql\n\u001B[1;32m-> 3087\u001B[0m \u001B[38;5;28;01mreturn\u001B[39;00m \u001B[43msql\u001B[49m\u001B[38;5;241;43m.\u001B[39;49m\u001B[43mto_sql\u001B[49m\u001B[43m(\u001B[49m\n\u001B[0;32m   3088\u001B[0m \u001B[43m    \u001B[49m\u001B[38;5;28;43mself\u001B[39;49m\u001B[43m,\u001B[49m\n\u001B[0;32m   3089\u001B[0m \u001B[43m    \u001B[49m\u001B[43mname\u001B[49m\u001B[43m,\u001B[49m\n\u001B[0;32m   3090\u001B[0m \u001B[43m    \u001B[49m\u001B[43mcon\u001B[49m\u001B[43m,\u001B[49m\n\u001B[0;32m   3091\u001B[0m \u001B[43m    \u001B[49m\u001B[43mschema\u001B[49m\u001B[38;5;241;43m=\u001B[39;49m\u001B[43mschema\u001B[49m\u001B[43m,\u001B[49m\n\u001B[0;32m   3092\u001B[0m \u001B[43m    \u001B[49m\u001B[43mif_exists\u001B[49m\u001B[38;5;241;43m=\u001B[39;49m\u001B[43mif_exists\u001B[49m\u001B[43m,\u001B[49m\n\u001B[0;32m   3093\u001B[0m \u001B[43m    \u001B[49m\u001B[43mindex\u001B[49m\u001B[38;5;241;43m=\u001B[39;49m\u001B[43mindex\u001B[49m\u001B[43m,\u001B[49m\n\u001B[0;32m   3094\u001B[0m \u001B[43m    \u001B[49m\u001B[43mindex_label\u001B[49m\u001B[38;5;241;43m=\u001B[39;49m\u001B[43mindex_label\u001B[49m\u001B[43m,\u001B[49m\n\u001B[0;32m   3095\u001B[0m \u001B[43m    \u001B[49m\u001B[43mchunksize\u001B[49m\u001B[38;5;241;43m=\u001B[39;49m\u001B[43mchunksize\u001B[49m\u001B[43m,\u001B[49m\n\u001B[0;32m   3096\u001B[0m \u001B[43m    \u001B[49m\u001B[43mdtype\u001B[49m\u001B[38;5;241;43m=\u001B[39;49m\u001B[43mdtype\u001B[49m\u001B[43m,\u001B[49m\n\u001B[0;32m   3097\u001B[0m \u001B[43m    \u001B[49m\u001B[43mmethod\u001B[49m\u001B[38;5;241;43m=\u001B[39;49m\u001B[43mmethod\u001B[49m\u001B[43m,\u001B[49m\n\u001B[0;32m   3098\u001B[0m \u001B[43m\u001B[49m\u001B[43m)\u001B[49m\n",
      "File \u001B[1;32m~\\PycharmProjects\\PrimiEserciziPython\\.venv\\Lib\\site-packages\\pandas\\io\\sql.py:842\u001B[0m, in \u001B[0;36mto_sql\u001B[1;34m(frame, name, con, schema, if_exists, index, index_label, chunksize, dtype, method, engine, **engine_kwargs)\u001B[0m\n\u001B[0;32m    837\u001B[0m     \u001B[38;5;28;01mraise\u001B[39;00m \u001B[38;5;167;01mNotImplementedError\u001B[39;00m(\n\u001B[0;32m    838\u001B[0m         \u001B[38;5;124m\"\u001B[39m\u001B[38;5;124m'\u001B[39m\u001B[38;5;124mframe\u001B[39m\u001B[38;5;124m'\u001B[39m\u001B[38;5;124m argument should be either a Series or a DataFrame\u001B[39m\u001B[38;5;124m\"\u001B[39m\n\u001B[0;32m    839\u001B[0m     )\n\u001B[0;32m    841\u001B[0m \u001B[38;5;28;01mwith\u001B[39;00m pandasSQL_builder(con, schema\u001B[38;5;241m=\u001B[39mschema, need_transaction\u001B[38;5;241m=\u001B[39m\u001B[38;5;28;01mTrue\u001B[39;00m) \u001B[38;5;28;01mas\u001B[39;00m pandas_sql:\n\u001B[1;32m--> 842\u001B[0m     \u001B[38;5;28;01mreturn\u001B[39;00m \u001B[43mpandas_sql\u001B[49m\u001B[38;5;241;43m.\u001B[39;49m\u001B[43mto_sql\u001B[49m\u001B[43m(\u001B[49m\n\u001B[0;32m    843\u001B[0m \u001B[43m        \u001B[49m\u001B[43mframe\u001B[49m\u001B[43m,\u001B[49m\n\u001B[0;32m    844\u001B[0m \u001B[43m        \u001B[49m\u001B[43mname\u001B[49m\u001B[43m,\u001B[49m\n\u001B[0;32m    845\u001B[0m \u001B[43m        \u001B[49m\u001B[43mif_exists\u001B[49m\u001B[38;5;241;43m=\u001B[39;49m\u001B[43mif_exists\u001B[49m\u001B[43m,\u001B[49m\n\u001B[0;32m    846\u001B[0m \u001B[43m        \u001B[49m\u001B[43mindex\u001B[49m\u001B[38;5;241;43m=\u001B[39;49m\u001B[43mindex\u001B[49m\u001B[43m,\u001B[49m\n\u001B[0;32m    847\u001B[0m \u001B[43m        \u001B[49m\u001B[43mindex_label\u001B[49m\u001B[38;5;241;43m=\u001B[39;49m\u001B[43mindex_label\u001B[49m\u001B[43m,\u001B[49m\n\u001B[0;32m    848\u001B[0m \u001B[43m        \u001B[49m\u001B[43mschema\u001B[49m\u001B[38;5;241;43m=\u001B[39;49m\u001B[43mschema\u001B[49m\u001B[43m,\u001B[49m\n\u001B[0;32m    849\u001B[0m \u001B[43m        \u001B[49m\u001B[43mchunksize\u001B[49m\u001B[38;5;241;43m=\u001B[39;49m\u001B[43mchunksize\u001B[49m\u001B[43m,\u001B[49m\n\u001B[0;32m    850\u001B[0m \u001B[43m        \u001B[49m\u001B[43mdtype\u001B[49m\u001B[38;5;241;43m=\u001B[39;49m\u001B[43mdtype\u001B[49m\u001B[43m,\u001B[49m\n\u001B[0;32m    851\u001B[0m \u001B[43m        \u001B[49m\u001B[43mmethod\u001B[49m\u001B[38;5;241;43m=\u001B[39;49m\u001B[43mmethod\u001B[49m\u001B[43m,\u001B[49m\n\u001B[0;32m    852\u001B[0m \u001B[43m        \u001B[49m\u001B[43mengine\u001B[49m\u001B[38;5;241;43m=\u001B[39;49m\u001B[43mengine\u001B[49m\u001B[43m,\u001B[49m\n\u001B[0;32m    853\u001B[0m \u001B[43m        \u001B[49m\u001B[38;5;241;43m*\u001B[39;49m\u001B[38;5;241;43m*\u001B[39;49m\u001B[43mengine_kwargs\u001B[49m\u001B[43m,\u001B[49m\n\u001B[0;32m    854\u001B[0m \u001B[43m    \u001B[49m\u001B[43m)\u001B[49m\n",
      "File \u001B[1;32m~\\PycharmProjects\\PrimiEserciziPython\\.venv\\Lib\\site-packages\\pandas\\io\\sql.py:2018\u001B[0m, in \u001B[0;36mSQLDatabase.to_sql\u001B[1;34m(self, frame, name, if_exists, index, index_label, schema, chunksize, dtype, method, engine, **engine_kwargs)\u001B[0m\n\u001B[0;32m   2006\u001B[0m sql_engine \u001B[38;5;241m=\u001B[39m get_engine(engine)\n\u001B[0;32m   2008\u001B[0m table \u001B[38;5;241m=\u001B[39m \u001B[38;5;28mself\u001B[39m\u001B[38;5;241m.\u001B[39mprep_table(\n\u001B[0;32m   2009\u001B[0m     frame\u001B[38;5;241m=\u001B[39mframe,\n\u001B[0;32m   2010\u001B[0m     name\u001B[38;5;241m=\u001B[39mname,\n\u001B[1;32m   (...)\u001B[0m\n\u001B[0;32m   2015\u001B[0m     dtype\u001B[38;5;241m=\u001B[39mdtype,\n\u001B[0;32m   2016\u001B[0m )\n\u001B[1;32m-> 2018\u001B[0m total_inserted \u001B[38;5;241m=\u001B[39m \u001B[43msql_engine\u001B[49m\u001B[38;5;241;43m.\u001B[39;49m\u001B[43minsert_records\u001B[49m\u001B[43m(\u001B[49m\n\u001B[0;32m   2019\u001B[0m \u001B[43m    \u001B[49m\u001B[43mtable\u001B[49m\u001B[38;5;241;43m=\u001B[39;49m\u001B[43mtable\u001B[49m\u001B[43m,\u001B[49m\n\u001B[0;32m   2020\u001B[0m \u001B[43m    \u001B[49m\u001B[43mcon\u001B[49m\u001B[38;5;241;43m=\u001B[39;49m\u001B[38;5;28;43mself\u001B[39;49m\u001B[38;5;241;43m.\u001B[39;49m\u001B[43mcon\u001B[49m\u001B[43m,\u001B[49m\n\u001B[0;32m   2021\u001B[0m \u001B[43m    \u001B[49m\u001B[43mframe\u001B[49m\u001B[38;5;241;43m=\u001B[39;49m\u001B[43mframe\u001B[49m\u001B[43m,\u001B[49m\n\u001B[0;32m   2022\u001B[0m \u001B[43m    \u001B[49m\u001B[43mname\u001B[49m\u001B[38;5;241;43m=\u001B[39;49m\u001B[43mname\u001B[49m\u001B[43m,\u001B[49m\n\u001B[0;32m   2023\u001B[0m \u001B[43m    \u001B[49m\u001B[43mindex\u001B[49m\u001B[38;5;241;43m=\u001B[39;49m\u001B[43mindex\u001B[49m\u001B[43m,\u001B[49m\n\u001B[0;32m   2024\u001B[0m \u001B[43m    \u001B[49m\u001B[43mschema\u001B[49m\u001B[38;5;241;43m=\u001B[39;49m\u001B[43mschema\u001B[49m\u001B[43m,\u001B[49m\n\u001B[0;32m   2025\u001B[0m \u001B[43m    \u001B[49m\u001B[43mchunksize\u001B[49m\u001B[38;5;241;43m=\u001B[39;49m\u001B[43mchunksize\u001B[49m\u001B[43m,\u001B[49m\n\u001B[0;32m   2026\u001B[0m \u001B[43m    \u001B[49m\u001B[43mmethod\u001B[49m\u001B[38;5;241;43m=\u001B[39;49m\u001B[43mmethod\u001B[49m\u001B[43m,\u001B[49m\n\u001B[0;32m   2027\u001B[0m \u001B[43m    \u001B[49m\u001B[38;5;241;43m*\u001B[39;49m\u001B[38;5;241;43m*\u001B[39;49m\u001B[43mengine_kwargs\u001B[49m\u001B[43m,\u001B[49m\n\u001B[0;32m   2028\u001B[0m \u001B[43m\u001B[49m\u001B[43m)\u001B[49m\n\u001B[0;32m   2030\u001B[0m \u001B[38;5;28mself\u001B[39m\u001B[38;5;241m.\u001B[39mcheck_case_sensitive(name\u001B[38;5;241m=\u001B[39mname, schema\u001B[38;5;241m=\u001B[39mschema)\n\u001B[0;32m   2031\u001B[0m \u001B[38;5;28;01mreturn\u001B[39;00m total_inserted\n",
      "File \u001B[1;32m~\\PycharmProjects\\PrimiEserciziPython\\.venv\\Lib\\site-packages\\pandas\\io\\sql.py:1567\u001B[0m, in \u001B[0;36mSQLAlchemyEngine.insert_records\u001B[1;34m(self, table, con, frame, name, index, schema, chunksize, method, **engine_kwargs)\u001B[0m\n\u001B[0;32m   1565\u001B[0m \u001B[38;5;28;01mif\u001B[39;00m re\u001B[38;5;241m.\u001B[39msearch(msg, err_text):\n\u001B[0;32m   1566\u001B[0m     \u001B[38;5;28;01mraise\u001B[39;00m \u001B[38;5;167;01mValueError\u001B[39;00m(\u001B[38;5;124m\"\u001B[39m\u001B[38;5;124minf cannot be used with MySQL\u001B[39m\u001B[38;5;124m\"\u001B[39m) \u001B[38;5;28;01mfrom\u001B[39;00m\u001B[38;5;250m \u001B[39m\u001B[38;5;21;01merr\u001B[39;00m\n\u001B[1;32m-> 1567\u001B[0m \u001B[38;5;28;01mraise\u001B[39;00m err\n",
      "File \u001B[1;32m~\\PycharmProjects\\PrimiEserciziPython\\.venv\\Lib\\site-packages\\pandas\\io\\sql.py:1558\u001B[0m, in \u001B[0;36mSQLAlchemyEngine.insert_records\u001B[1;34m(self, table, con, frame, name, index, schema, chunksize, method, **engine_kwargs)\u001B[0m\n\u001B[0;32m   1555\u001B[0m \u001B[38;5;28;01mfrom\u001B[39;00m\u001B[38;5;250m \u001B[39m\u001B[38;5;21;01msqlalchemy\u001B[39;00m\u001B[38;5;250m \u001B[39m\u001B[38;5;28;01mimport\u001B[39;00m exc\n\u001B[0;32m   1557\u001B[0m \u001B[38;5;28;01mtry\u001B[39;00m:\n\u001B[1;32m-> 1558\u001B[0m     \u001B[38;5;28;01mreturn\u001B[39;00m \u001B[43mtable\u001B[49m\u001B[38;5;241;43m.\u001B[39;49m\u001B[43minsert\u001B[49m\u001B[43m(\u001B[49m\u001B[43mchunksize\u001B[49m\u001B[38;5;241;43m=\u001B[39;49m\u001B[43mchunksize\u001B[49m\u001B[43m,\u001B[49m\u001B[43m \u001B[49m\u001B[43mmethod\u001B[49m\u001B[38;5;241;43m=\u001B[39;49m\u001B[43mmethod\u001B[49m\u001B[43m)\u001B[49m\n\u001B[0;32m   1559\u001B[0m \u001B[38;5;28;01mexcept\u001B[39;00m exc\u001B[38;5;241m.\u001B[39mStatementError \u001B[38;5;28;01mas\u001B[39;00m err:\n\u001B[0;32m   1560\u001B[0m     \u001B[38;5;66;03m# GH34431\u001B[39;00m\n\u001B[0;32m   1561\u001B[0m     \u001B[38;5;66;03m# https://stackoverflow.com/a/67358288/6067848\u001B[39;00m\n\u001B[0;32m   1562\u001B[0m     msg \u001B[38;5;241m=\u001B[39m \u001B[38;5;124mr\u001B[39m\u001B[38;5;124m\"\"\"\u001B[39m\u001B[38;5;124m(\u001B[39m\u001B[38;5;124m\\\u001B[39m\u001B[38;5;124m(1054, \u001B[39m\u001B[38;5;124m\"\u001B[39m\u001B[38;5;124mUnknown column \u001B[39m\u001B[38;5;124m'\u001B[39m\u001B[38;5;124minf(e0)?\u001B[39m\u001B[38;5;124m'\u001B[39m\u001B[38;5;124m in \u001B[39m\u001B[38;5;124m'\u001B[39m\u001B[38;5;124mfield list\u001B[39m\u001B[38;5;124m'\u001B[39m\u001B[38;5;124m\"\u001B[39m\u001B[38;5;124m\\\u001B[39m\u001B[38;5;124m))(?#\u001B[39m\n\u001B[0;32m   1563\u001B[0m \u001B[38;5;124m    )|inf can not be used with MySQL\u001B[39m\u001B[38;5;124m\"\"\"\u001B[39m\n",
      "File \u001B[1;32m~\\PycharmProjects\\PrimiEserciziPython\\.venv\\Lib\\site-packages\\pandas\\io\\sql.py:1119\u001B[0m, in \u001B[0;36mSQLTable.insert\u001B[1;34m(self, chunksize, method)\u001B[0m\n\u001B[0;32m   1116\u001B[0m     \u001B[38;5;28;01mbreak\u001B[39;00m\n\u001B[0;32m   1118\u001B[0m chunk_iter \u001B[38;5;241m=\u001B[39m \u001B[38;5;28mzip\u001B[39m(\u001B[38;5;241m*\u001B[39m(arr[start_i:end_i] \u001B[38;5;28;01mfor\u001B[39;00m arr \u001B[38;5;129;01min\u001B[39;00m data_list))\n\u001B[1;32m-> 1119\u001B[0m num_inserted \u001B[38;5;241m=\u001B[39m \u001B[43mexec_insert\u001B[49m\u001B[43m(\u001B[49m\u001B[43mconn\u001B[49m\u001B[43m,\u001B[49m\u001B[43m \u001B[49m\u001B[43mkeys\u001B[49m\u001B[43m,\u001B[49m\u001B[43m \u001B[49m\u001B[43mchunk_iter\u001B[49m\u001B[43m)\u001B[49m\n\u001B[0;32m   1120\u001B[0m \u001B[38;5;66;03m# GH 46891\u001B[39;00m\n\u001B[0;32m   1121\u001B[0m \u001B[38;5;28;01mif\u001B[39;00m num_inserted \u001B[38;5;129;01mis\u001B[39;00m \u001B[38;5;129;01mnot\u001B[39;00m \u001B[38;5;28;01mNone\u001B[39;00m:\n",
      "File \u001B[1;32m~\\PycharmProjects\\PrimiEserciziPython\\.venv\\Lib\\site-packages\\pandas\\io\\sql.py:1010\u001B[0m, in \u001B[0;36mSQLTable._execute_insert\u001B[1;34m(self, conn, keys, data_iter)\u001B[0m\n\u001B[0;32m    998\u001B[0m \u001B[38;5;250m\u001B[39m\u001B[38;5;124;03m\"\"\"\u001B[39;00m\n\u001B[0;32m    999\u001B[0m \u001B[38;5;124;03mExecute SQL statement inserting data\u001B[39;00m\n\u001B[0;32m   1000\u001B[0m \n\u001B[1;32m   (...)\u001B[0m\n\u001B[0;32m   1007\u001B[0m \u001B[38;5;124;03m   Each item contains a list of values to be inserted\u001B[39;00m\n\u001B[0;32m   1008\u001B[0m \u001B[38;5;124;03m\"\"\"\u001B[39;00m\n\u001B[0;32m   1009\u001B[0m data \u001B[38;5;241m=\u001B[39m [\u001B[38;5;28mdict\u001B[39m(\u001B[38;5;28mzip\u001B[39m(keys, row)) \u001B[38;5;28;01mfor\u001B[39;00m row \u001B[38;5;129;01min\u001B[39;00m data_iter]\n\u001B[1;32m-> 1010\u001B[0m result \u001B[38;5;241m=\u001B[39m \u001B[43mconn\u001B[49m\u001B[38;5;241;43m.\u001B[39;49m\u001B[43mexecute\u001B[49m\u001B[43m(\u001B[49m\u001B[38;5;28;43mself\u001B[39;49m\u001B[38;5;241;43m.\u001B[39;49m\u001B[43mtable\u001B[49m\u001B[38;5;241;43m.\u001B[39;49m\u001B[43minsert\u001B[49m\u001B[43m(\u001B[49m\u001B[43m)\u001B[49m\u001B[43m,\u001B[49m\u001B[43m \u001B[49m\u001B[43mdata\u001B[49m\u001B[43m)\u001B[49m\n\u001B[0;32m   1011\u001B[0m \u001B[38;5;28;01mreturn\u001B[39;00m result\u001B[38;5;241m.\u001B[39mrowcount\n",
      "File \u001B[1;32m~\\PycharmProjects\\PrimiEserciziPython\\.venv\\Lib\\site-packages\\sqlalchemy\\engine\\base.py:1416\u001B[0m, in \u001B[0;36mConnection.execute\u001B[1;34m(self, statement, parameters, execution_options)\u001B[0m\n\u001B[0;32m   1414\u001B[0m     \u001B[38;5;28;01mraise\u001B[39;00m exc\u001B[38;5;241m.\u001B[39mObjectNotExecutableError(statement) \u001B[38;5;28;01mfrom\u001B[39;00m\u001B[38;5;250m \u001B[39m\u001B[38;5;21;01merr\u001B[39;00m\n\u001B[0;32m   1415\u001B[0m \u001B[38;5;28;01melse\u001B[39;00m:\n\u001B[1;32m-> 1416\u001B[0m     \u001B[38;5;28;01mreturn\u001B[39;00m \u001B[43mmeth\u001B[49m\u001B[43m(\u001B[49m\n\u001B[0;32m   1417\u001B[0m \u001B[43m        \u001B[49m\u001B[38;5;28;43mself\u001B[39;49m\u001B[43m,\u001B[49m\n\u001B[0;32m   1418\u001B[0m \u001B[43m        \u001B[49m\u001B[43mdistilled_parameters\u001B[49m\u001B[43m,\u001B[49m\n\u001B[0;32m   1419\u001B[0m \u001B[43m        \u001B[49m\u001B[43mexecution_options\u001B[49m\u001B[43m \u001B[49m\u001B[38;5;129;43;01mor\u001B[39;49;00m\u001B[43m \u001B[49m\u001B[43mNO_OPTIONS\u001B[49m\u001B[43m,\u001B[49m\n\u001B[0;32m   1420\u001B[0m \u001B[43m    \u001B[49m\u001B[43m)\u001B[49m\n",
      "File \u001B[1;32m~\\PycharmProjects\\PrimiEserciziPython\\.venv\\Lib\\site-packages\\sqlalchemy\\sql\\elements.py:515\u001B[0m, in \u001B[0;36mClauseElement._execute_on_connection\u001B[1;34m(self, connection, distilled_params, execution_options)\u001B[0m\n\u001B[0;32m    513\u001B[0m     \u001B[38;5;28;01mif\u001B[39;00m TYPE_CHECKING:\n\u001B[0;32m    514\u001B[0m         \u001B[38;5;28;01massert\u001B[39;00m \u001B[38;5;28misinstance\u001B[39m(\u001B[38;5;28mself\u001B[39m, Executable)\n\u001B[1;32m--> 515\u001B[0m     \u001B[38;5;28;01mreturn\u001B[39;00m \u001B[43mconnection\u001B[49m\u001B[38;5;241;43m.\u001B[39;49m\u001B[43m_execute_clauseelement\u001B[49m\u001B[43m(\u001B[49m\n\u001B[0;32m    516\u001B[0m \u001B[43m        \u001B[49m\u001B[38;5;28;43mself\u001B[39;49m\u001B[43m,\u001B[49m\u001B[43m \u001B[49m\u001B[43mdistilled_params\u001B[49m\u001B[43m,\u001B[49m\u001B[43m \u001B[49m\u001B[43mexecution_options\u001B[49m\n\u001B[0;32m    517\u001B[0m \u001B[43m    \u001B[49m\u001B[43m)\u001B[49m\n\u001B[0;32m    518\u001B[0m \u001B[38;5;28;01melse\u001B[39;00m:\n\u001B[0;32m    519\u001B[0m     \u001B[38;5;28;01mraise\u001B[39;00m exc\u001B[38;5;241m.\u001B[39mObjectNotExecutableError(\u001B[38;5;28mself\u001B[39m)\n",
      "File \u001B[1;32m~\\PycharmProjects\\PrimiEserciziPython\\.venv\\Lib\\site-packages\\sqlalchemy\\engine\\base.py:1638\u001B[0m, in \u001B[0;36mConnection._execute_clauseelement\u001B[1;34m(self, elem, distilled_parameters, execution_options)\u001B[0m\n\u001B[0;32m   1626\u001B[0m compiled_cache: Optional[CompiledCacheType] \u001B[38;5;241m=\u001B[39m execution_options\u001B[38;5;241m.\u001B[39mget(\n\u001B[0;32m   1627\u001B[0m     \u001B[38;5;124m\"\u001B[39m\u001B[38;5;124mcompiled_cache\u001B[39m\u001B[38;5;124m\"\u001B[39m, \u001B[38;5;28mself\u001B[39m\u001B[38;5;241m.\u001B[39mengine\u001B[38;5;241m.\u001B[39m_compiled_cache\n\u001B[0;32m   1628\u001B[0m )\n\u001B[0;32m   1630\u001B[0m compiled_sql, extracted_params, cache_hit \u001B[38;5;241m=\u001B[39m elem\u001B[38;5;241m.\u001B[39m_compile_w_cache(\n\u001B[0;32m   1631\u001B[0m     dialect\u001B[38;5;241m=\u001B[39mdialect,\n\u001B[0;32m   1632\u001B[0m     compiled_cache\u001B[38;5;241m=\u001B[39mcompiled_cache,\n\u001B[1;32m   (...)\u001B[0m\n\u001B[0;32m   1636\u001B[0m     linting\u001B[38;5;241m=\u001B[39m\u001B[38;5;28mself\u001B[39m\u001B[38;5;241m.\u001B[39mdialect\u001B[38;5;241m.\u001B[39mcompiler_linting \u001B[38;5;241m|\u001B[39m compiler\u001B[38;5;241m.\u001B[39mWARN_LINTING,\n\u001B[0;32m   1637\u001B[0m )\n\u001B[1;32m-> 1638\u001B[0m ret \u001B[38;5;241m=\u001B[39m \u001B[38;5;28;43mself\u001B[39;49m\u001B[38;5;241;43m.\u001B[39;49m\u001B[43m_execute_context\u001B[49m\u001B[43m(\u001B[49m\n\u001B[0;32m   1639\u001B[0m \u001B[43m    \u001B[49m\u001B[43mdialect\u001B[49m\u001B[43m,\u001B[49m\n\u001B[0;32m   1640\u001B[0m \u001B[43m    \u001B[49m\u001B[43mdialect\u001B[49m\u001B[38;5;241;43m.\u001B[39;49m\u001B[43mexecution_ctx_cls\u001B[49m\u001B[38;5;241;43m.\u001B[39;49m\u001B[43m_init_compiled\u001B[49m\u001B[43m,\u001B[49m\n\u001B[0;32m   1641\u001B[0m \u001B[43m    \u001B[49m\u001B[43mcompiled_sql\u001B[49m\u001B[43m,\u001B[49m\n\u001B[0;32m   1642\u001B[0m \u001B[43m    \u001B[49m\u001B[43mdistilled_parameters\u001B[49m\u001B[43m,\u001B[49m\n\u001B[0;32m   1643\u001B[0m \u001B[43m    \u001B[49m\u001B[43mexecution_options\u001B[49m\u001B[43m,\u001B[49m\n\u001B[0;32m   1644\u001B[0m \u001B[43m    \u001B[49m\u001B[43mcompiled_sql\u001B[49m\u001B[43m,\u001B[49m\n\u001B[0;32m   1645\u001B[0m \u001B[43m    \u001B[49m\u001B[43mdistilled_parameters\u001B[49m\u001B[43m,\u001B[49m\n\u001B[0;32m   1646\u001B[0m \u001B[43m    \u001B[49m\u001B[43melem\u001B[49m\u001B[43m,\u001B[49m\n\u001B[0;32m   1647\u001B[0m \u001B[43m    \u001B[49m\u001B[43mextracted_params\u001B[49m\u001B[43m,\u001B[49m\n\u001B[0;32m   1648\u001B[0m \u001B[43m    \u001B[49m\u001B[43mcache_hit\u001B[49m\u001B[38;5;241;43m=\u001B[39;49m\u001B[43mcache_hit\u001B[49m\u001B[43m,\u001B[49m\n\u001B[0;32m   1649\u001B[0m \u001B[43m\u001B[49m\u001B[43m)\u001B[49m\n\u001B[0;32m   1650\u001B[0m \u001B[38;5;28;01mif\u001B[39;00m has_events:\n\u001B[0;32m   1651\u001B[0m     \u001B[38;5;28mself\u001B[39m\u001B[38;5;241m.\u001B[39mdispatch\u001B[38;5;241m.\u001B[39mafter_execute(\n\u001B[0;32m   1652\u001B[0m         \u001B[38;5;28mself\u001B[39m,\n\u001B[0;32m   1653\u001B[0m         elem,\n\u001B[1;32m   (...)\u001B[0m\n\u001B[0;32m   1657\u001B[0m         ret,\n\u001B[0;32m   1658\u001B[0m     )\n",
      "File \u001B[1;32m~\\PycharmProjects\\PrimiEserciziPython\\.venv\\Lib\\site-packages\\sqlalchemy\\engine\\base.py:1841\u001B[0m, in \u001B[0;36mConnection._execute_context\u001B[1;34m(self, dialect, constructor, statement, parameters, execution_options, *args, **kw)\u001B[0m\n\u001B[0;32m   1838\u001B[0m context\u001B[38;5;241m.\u001B[39mpre_exec()\n\u001B[0;32m   1840\u001B[0m \u001B[38;5;28;01mif\u001B[39;00m context\u001B[38;5;241m.\u001B[39mexecute_style \u001B[38;5;129;01mis\u001B[39;00m ExecuteStyle\u001B[38;5;241m.\u001B[39mINSERTMANYVALUES:\n\u001B[1;32m-> 1841\u001B[0m     \u001B[38;5;28;01mreturn\u001B[39;00m \u001B[38;5;28;43mself\u001B[39;49m\u001B[38;5;241;43m.\u001B[39;49m\u001B[43m_exec_insertmany_context\u001B[49m\u001B[43m(\u001B[49m\u001B[43mdialect\u001B[49m\u001B[43m,\u001B[49m\u001B[43m \u001B[49m\u001B[43mcontext\u001B[49m\u001B[43m)\u001B[49m\n\u001B[0;32m   1842\u001B[0m \u001B[38;5;28;01melse\u001B[39;00m:\n\u001B[0;32m   1843\u001B[0m     \u001B[38;5;28;01mreturn\u001B[39;00m \u001B[38;5;28mself\u001B[39m\u001B[38;5;241m.\u001B[39m_exec_single_context(\n\u001B[0;32m   1844\u001B[0m         dialect, context, statement, parameters\n\u001B[0;32m   1845\u001B[0m     )\n",
      "File \u001B[1;32m~\\PycharmProjects\\PrimiEserciziPython\\.venv\\Lib\\site-packages\\sqlalchemy\\engine\\base.py:2123\u001B[0m, in \u001B[0;36mConnection._exec_insertmany_context\u001B[1;34m(self, dialect, context)\u001B[0m\n\u001B[0;32m   2115\u001B[0m         dialect\u001B[38;5;241m.\u001B[39mdo_execute(\n\u001B[0;32m   2116\u001B[0m             cursor,\n\u001B[0;32m   2117\u001B[0m             sub_stmt,\n\u001B[0;32m   2118\u001B[0m             sub_params,\n\u001B[0;32m   2119\u001B[0m             context,\n\u001B[0;32m   2120\u001B[0m         )\n\u001B[0;32m   2122\u001B[0m \u001B[38;5;28;01mexcept\u001B[39;00m \u001B[38;5;167;01mBaseException\u001B[39;00m \u001B[38;5;28;01mas\u001B[39;00m e:\n\u001B[1;32m-> 2123\u001B[0m     \u001B[38;5;28;43mself\u001B[39;49m\u001B[38;5;241;43m.\u001B[39;49m\u001B[43m_handle_dbapi_exception\u001B[49m\u001B[43m(\u001B[49m\n\u001B[0;32m   2124\u001B[0m \u001B[43m        \u001B[49m\u001B[43me\u001B[49m\u001B[43m,\u001B[49m\n\u001B[0;32m   2125\u001B[0m \u001B[43m        \u001B[49m\u001B[43msql_util\u001B[49m\u001B[38;5;241;43m.\u001B[39;49m\u001B[43m_long_statement\u001B[49m\u001B[43m(\u001B[49m\u001B[43msub_stmt\u001B[49m\u001B[43m)\u001B[49m\u001B[43m,\u001B[49m\n\u001B[0;32m   2126\u001B[0m \u001B[43m        \u001B[49m\u001B[43msub_params\u001B[49m\u001B[43m,\u001B[49m\n\u001B[0;32m   2127\u001B[0m \u001B[43m        \u001B[49m\u001B[43mcursor\u001B[49m\u001B[43m,\u001B[49m\n\u001B[0;32m   2128\u001B[0m \u001B[43m        \u001B[49m\u001B[43mcontext\u001B[49m\u001B[43m,\u001B[49m\n\u001B[0;32m   2129\u001B[0m \u001B[43m        \u001B[49m\u001B[43mis_sub_exec\u001B[49m\u001B[38;5;241;43m=\u001B[39;49m\u001B[38;5;28;43;01mTrue\u001B[39;49;00m\u001B[43m,\u001B[49m\n\u001B[0;32m   2130\u001B[0m \u001B[43m    \u001B[49m\u001B[43m)\u001B[49m\n\u001B[0;32m   2132\u001B[0m \u001B[38;5;28;01mif\u001B[39;00m engine_events:\n\u001B[0;32m   2133\u001B[0m     \u001B[38;5;28mself\u001B[39m\u001B[38;5;241m.\u001B[39mdispatch\u001B[38;5;241m.\u001B[39mafter_cursor_execute(\n\u001B[0;32m   2134\u001B[0m         \u001B[38;5;28mself\u001B[39m,\n\u001B[0;32m   2135\u001B[0m         cursor,\n\u001B[1;32m   (...)\u001B[0m\n\u001B[0;32m   2139\u001B[0m         context\u001B[38;5;241m.\u001B[39mexecutemany,\n\u001B[0;32m   2140\u001B[0m     )\n",
      "File \u001B[1;32m~\\PycharmProjects\\PrimiEserciziPython\\.venv\\Lib\\site-packages\\sqlalchemy\\engine\\base.py:2352\u001B[0m, in \u001B[0;36mConnection._handle_dbapi_exception\u001B[1;34m(self, e, statement, parameters, cursor, context, is_sub_exec)\u001B[0m\n\u001B[0;32m   2350\u001B[0m \u001B[38;5;28;01melif\u001B[39;00m should_wrap:\n\u001B[0;32m   2351\u001B[0m     \u001B[38;5;28;01massert\u001B[39;00m sqlalchemy_exception \u001B[38;5;129;01mis\u001B[39;00m \u001B[38;5;129;01mnot\u001B[39;00m \u001B[38;5;28;01mNone\u001B[39;00m\n\u001B[1;32m-> 2352\u001B[0m     \u001B[38;5;28;01mraise\u001B[39;00m sqlalchemy_exception\u001B[38;5;241m.\u001B[39mwith_traceback(exc_info[\u001B[38;5;241m2\u001B[39m]) \u001B[38;5;28;01mfrom\u001B[39;00m\u001B[38;5;250m \u001B[39m\u001B[38;5;21;01me\u001B[39;00m\n\u001B[0;32m   2353\u001B[0m \u001B[38;5;28;01melse\u001B[39;00m:\n\u001B[0;32m   2354\u001B[0m     \u001B[38;5;28;01massert\u001B[39;00m exc_info[\u001B[38;5;241m1\u001B[39m] \u001B[38;5;129;01mis\u001B[39;00m \u001B[38;5;129;01mnot\u001B[39;00m \u001B[38;5;28;01mNone\u001B[39;00m\n",
      "File \u001B[1;32m~\\PycharmProjects\\PrimiEserciziPython\\.venv\\Lib\\site-packages\\sqlalchemy\\engine\\base.py:2115\u001B[0m, in \u001B[0;36mConnection._exec_insertmany_context\u001B[1;34m(self, dialect, context)\u001B[0m\n\u001B[0;32m   2113\u001B[0m             \u001B[38;5;28;01mbreak\u001B[39;00m\n\u001B[0;32m   2114\u001B[0m     \u001B[38;5;28;01melse\u001B[39;00m:\n\u001B[1;32m-> 2115\u001B[0m         \u001B[43mdialect\u001B[49m\u001B[38;5;241;43m.\u001B[39;49m\u001B[43mdo_execute\u001B[49m\u001B[43m(\u001B[49m\n\u001B[0;32m   2116\u001B[0m \u001B[43m            \u001B[49m\u001B[43mcursor\u001B[49m\u001B[43m,\u001B[49m\n\u001B[0;32m   2117\u001B[0m \u001B[43m            \u001B[49m\u001B[43msub_stmt\u001B[49m\u001B[43m,\u001B[49m\n\u001B[0;32m   2118\u001B[0m \u001B[43m            \u001B[49m\u001B[43msub_params\u001B[49m\u001B[43m,\u001B[49m\n\u001B[0;32m   2119\u001B[0m \u001B[43m            \u001B[49m\u001B[43mcontext\u001B[49m\u001B[43m,\u001B[49m\n\u001B[0;32m   2120\u001B[0m \u001B[43m        \u001B[49m\u001B[43m)\u001B[49m\n\u001B[0;32m   2122\u001B[0m \u001B[38;5;28;01mexcept\u001B[39;00m \u001B[38;5;167;01mBaseException\u001B[39;00m \u001B[38;5;28;01mas\u001B[39;00m e:\n\u001B[0;32m   2123\u001B[0m     \u001B[38;5;28mself\u001B[39m\u001B[38;5;241m.\u001B[39m_handle_dbapi_exception(\n\u001B[0;32m   2124\u001B[0m         e,\n\u001B[0;32m   2125\u001B[0m         sql_util\u001B[38;5;241m.\u001B[39m_long_statement(sub_stmt),\n\u001B[1;32m   (...)\u001B[0m\n\u001B[0;32m   2129\u001B[0m         is_sub_exec\u001B[38;5;241m=\u001B[39m\u001B[38;5;28;01mTrue\u001B[39;00m,\n\u001B[0;32m   2130\u001B[0m     )\n",
      "File \u001B[1;32m~\\PycharmProjects\\PrimiEserciziPython\\.venv\\Lib\\site-packages\\sqlalchemy\\engine\\default.py:942\u001B[0m, in \u001B[0;36mDefaultDialect.do_execute\u001B[1;34m(self, cursor, statement, parameters, context)\u001B[0m\n\u001B[0;32m    941\u001B[0m \u001B[38;5;28;01mdef\u001B[39;00m\u001B[38;5;250m \u001B[39m\u001B[38;5;21mdo_execute\u001B[39m(\u001B[38;5;28mself\u001B[39m, cursor, statement, parameters, context\u001B[38;5;241m=\u001B[39m\u001B[38;5;28;01mNone\u001B[39;00m):\n\u001B[1;32m--> 942\u001B[0m     \u001B[43mcursor\u001B[49m\u001B[38;5;241;43m.\u001B[39;49m\u001B[43mexecute\u001B[49m\u001B[43m(\u001B[49m\u001B[43mstatement\u001B[49m\u001B[43m,\u001B[49m\u001B[43m \u001B[49m\u001B[43mparameters\u001B[49m\u001B[43m)\u001B[49m\n",
      "\u001B[1;31mIntegrityError\u001B[0m: (psycopg2.errors.UniqueViolation) ERRORE:  un valore chiave duplicato viola il vincolo univoco \"releases_pkey\"\nDETAIL:  La chiave (id_release, country, date)=(1000002, Ireland, 2020-07-24) esiste già.\n\n[SQL: INSERT INTO releases (id_release, country, date, type, rating) VALUES (%(id_release__0)s, %(country__0)s, %(date__0)s, %(type__0)s, %(rating__0)s), (%(id_release__1)s, %(country__1)s, %(date__1)s, %(type__1)s, %(rating__1)s), (%(id_release__2)s, %(co ... 87168 characters truncated ... ting__998)s), (%(id_release__999)s, %(country__999)s, %(date__999)s, %(type__999)s, %(rating__999)s)]\n[parameters: {'rating__0': None, 'type__0': 'Theatrical', 'country__0': 'Andorra', 'date__0': datetime.datetime(2023, 7, 21, 0, 0), 'id_release__0': 1000001, 'rating__1': 'ATP', 'type__1': 'Theatrical', 'country__1': 'Argentina', 'date__1': datetime.datetime(2023, 7, 20, 0, 0), 'id_release__1': 1000001, 'rating__2': 'PG', 'type__2': 'Theatrical', 'country__2': 'Australia', 'date__2': datetime.datetime(2023, 7, 19, 0, 0), 'id_release__2': 1000001, 'rating__3': 'PG', 'type__3': 'Digital', 'country__3': 'Australia', 'date__3': datetime.datetime(2023, 10, 1, 0, 0), 'id_release__3': 1000001, 'rating__4': None, 'type__4': 'Theatrical', 'country__4': 'Austria', 'date__4': datetime.datetime(2023, 7, 20, 0, 0), 'id_release__4': 1000001, 'rating__5': None, 'type__5': 'Theatrical', 'country__5': 'Austria', 'date__5': datetime.datetime(2023, 7, 21, 0, 0), 'id_release__5': 1000001, 'rating__6': None, 'type__6': 'Theatrical', 'country__6': 'Bahrain', 'date__6': datetime.datetime(2023, 8, 10, 0, 0), 'id_release__6': 1000001, 'rating__7': None, 'type__7': 'Theatrical', 'country__7': 'Belgium', 'date__7': datetime.datetime(2023, 7, 19, 0, 0), 'id_release__7': 1000001, 'rating__8': None, 'type__8': 'Theatrical', 'country__8': 'Bolivarian Republic of Venezuela', 'date__8': datetime.datetime(2023, 7, 20, 0, 0), 'id_release__8': 1000001, 'rating__9': None, 'type__9': 'Theatrical', 'country__9': 'Bolivia', 'date__9': datetime.datetime(2023, 7, 20, 0, 0), 'id_release__9': 1000001 ... 4900 parameters truncated ... 'rating__990': None, 'type__990': 'Premiere', 'country__990': 'Canada', 'date__990': datetime.datetime(2014, 9, 8, 0, 0), 'id_release__990': 1000012, 'rating__991': None, 'type__991': 'Theatrical limited', 'country__991': 'Canada', 'date__991': datetime.datetime(2014, 10, 24, 0, 0), 'id_release__991': 1000012, 'rating__992': None, 'type__992': 'Theatrical', 'country__992': 'Czechia', 'date__992': datetime.datetime(2015, 1, 28, 0, 0), 'id_release__992': 1000012, 'rating__993': None, 'type__993': 'Theatrical', 'country__993': 'Denmark', 'date__993': datetime.datetime(2015, 2, 18, 0, 0), 'id_release__993': 1000012, 'rating__994': None, 'type__994': 'Theatrical', 'country__994': 'Estonia', 'date__994': datetime.datetime(2015, 1, 8, 0, 0), 'id_release__994': 1000012, 'rating__995': 'K-12', 'type__995': 'Theatrical', 'country__995': 'Finland', 'date__995': datetime.datetime(2015, 1, 23, 0, 0), 'id_release__995': 1000012, 'rating__996': 'TP', 'type__996': 'Premiere', 'country__996': 'France', 'date__996': datetime.datetime(2014, 5, 20, 0, 0), 'id_release__996': 1000012, 'rating__997': 'TP', 'type__997': 'Theatrical', 'country__997': 'France', 'date__997': datetime.datetime(2014, 12, 24, 0, 0), 'id_release__997': 1000012, 'rating__998': '12', 'type__998': 'Theatrical', 'country__998': 'Germany', 'date__998': datetime.datetime(2015, 2, 19, 0, 0), 'id_release__998': 1000012, 'rating__999': '13', 'type__999': 'Theatrical', 'country__999': 'Greece', 'date__999': datetime.datetime(2015, 2, 5, 0, 0), 'id_release__999': 1000012}]\n(Background on this error at: https://sqlalche.me/e/20/gkpj)"
     ]
    }
   ],
   "execution_count": 47
  }
 ],
 "metadata": {
  "kernelspec": {
   "display_name": "Python 3",
   "language": "python",
   "name": "python3"
  },
  "language_info": {
   "codemirror_mode": {
    "name": "ipython",
    "version": 2
   },
   "file_extension": ".py",
   "mimetype": "text/x-python",
   "name": "python",
   "nbconvert_exporter": "python",
   "pygments_lexer": "ipython2",
   "version": "2.7.6"
  }
 },
 "nbformat": 4,
 "nbformat_minor": 5
}
