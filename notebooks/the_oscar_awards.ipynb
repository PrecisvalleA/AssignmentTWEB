{
 "cells": [
  {
   "metadata": {},
   "cell_type": "markdown",
   "source": "Import libraries for data cleaning ",
   "id": "a901df29f14c16d3"
  },
  {
   "cell_type": "code",
   "id": "initial_id",
   "metadata": {
    "collapsed": true,
    "ExecuteTime": {
     "end_time": "2025-02-06T15:59:48.915151Z",
     "start_time": "2025-02-06T15:59:48.823801Z"
    }
   },
   "source": [
    "import csv\n",
    "from tokenize import String\n",
    "\n",
    "from db_connection import get_db_engine\n",
    "from db_connection import execute_query\n",
    "import numpy as np\n",
    "import pandas as pd\n",
    "import os\n",
    "import re\n",
    "import pandas.io.sql as psql\n",
    "import psycopg2 as ps"
   ],
   "outputs": [],
   "execution_count": 16
  },
  {
   "metadata": {},
   "cell_type": "markdown",
   "source": "Reading CSV file",
   "id": "5927963eebe59e4b"
  },
  {
   "metadata": {
    "ExecuteTime": {
     "end_time": "2025-02-06T15:59:49.090851Z",
     "start_time": "2025-02-06T15:59:48.923808Z"
    }
   },
   "cell_type": "code",
   "source": "df_the_oscar_awards = pd.read_csv(r\"C:\\Users\\ricca\\Desktop\\CSV\\the_oscar_awards.csv\\the_oscar_awards.csv\")",
   "id": "b5f70a56c5ff2bbd",
   "outputs": [],
   "execution_count": 17
  },
  {
   "metadata": {},
   "cell_type": "markdown",
   "source": "Top records of CSV file: actors.csv",
   "id": "2b8612a0cbed6ab9"
  },
  {
   "metadata": {
    "ExecuteTime": {
     "end_time": "2025-02-06T15:59:49.161332Z",
     "start_time": "2025-02-06T15:59:49.133257Z"
    }
   },
   "cell_type": "code",
   "source": "df_the_oscar_awards",
   "id": "547e23333307265b",
   "outputs": [
    {
     "data": {
      "text/plain": [
       "       year_film  year_ceremony  ceremony                          category  \\\n",
       "0           1927           1928         1                             ACTOR   \n",
       "1           1927           1928         1                             ACTOR   \n",
       "2           1927           1928         1                           ACTRESS   \n",
       "3           1927           1928         1                           ACTRESS   \n",
       "4           1927           1928         1                           ACTRESS   \n",
       "...          ...            ...       ...                               ...   \n",
       "10884       2023           2024        96     WRITING (Original Screenplay)   \n",
       "10885       2023           2024        96  JEAN HERSHOLT HUMANITARIAN AWARD   \n",
       "10886       2023           2024        96                    HONORARY AWARD   \n",
       "10887       2023           2024        96                    HONORARY AWARD   \n",
       "10888       2023           2024        96                    HONORARY AWARD   \n",
       "\n",
       "                                                    name              film  \\\n",
       "0                                    Richard Barthelmess         The Noose   \n",
       "1                                          Emil Jannings  The Last Command   \n",
       "2                                         Louise Dresser   A Ship Comes In   \n",
       "3                                           Janet Gaynor        7th Heaven   \n",
       "4                                         Gloria Swanson    Sadie Thompson   \n",
       "...                                                  ...               ...   \n",
       "10884                             Written by Celine Song        Past Lives   \n",
       "10885                                                NaN               NaN   \n",
       "10886  To Angela Bassett, who has inspired audiences ...               NaN   \n",
       "10887  To Mel Brooks, for his comedic brilliance, pro...               NaN   \n",
       "10888  To Carol Littleton, whose commitment to her cr...               NaN   \n",
       "\n",
       "       winner  \n",
       "0       False  \n",
       "1        True  \n",
       "2       False  \n",
       "3        True  \n",
       "4       False  \n",
       "...       ...  \n",
       "10884   False  \n",
       "10885    True  \n",
       "10886    True  \n",
       "10887    True  \n",
       "10888    True  \n",
       "\n",
       "[10889 rows x 7 columns]"
      ],
      "text/html": [
       "<div>\n",
       "<style scoped>\n",
       "    .dataframe tbody tr th:only-of-type {\n",
       "        vertical-align: middle;\n",
       "    }\n",
       "\n",
       "    .dataframe tbody tr th {\n",
       "        vertical-align: top;\n",
       "    }\n",
       "\n",
       "    .dataframe thead th {\n",
       "        text-align: right;\n",
       "    }\n",
       "</style>\n",
       "<table border=\"1\" class=\"dataframe\">\n",
       "  <thead>\n",
       "    <tr style=\"text-align: right;\">\n",
       "      <th></th>\n",
       "      <th>year_film</th>\n",
       "      <th>year_ceremony</th>\n",
       "      <th>ceremony</th>\n",
       "      <th>category</th>\n",
       "      <th>name</th>\n",
       "      <th>film</th>\n",
       "      <th>winner</th>\n",
       "    </tr>\n",
       "  </thead>\n",
       "  <tbody>\n",
       "    <tr>\n",
       "      <th>0</th>\n",
       "      <td>1927</td>\n",
       "      <td>1928</td>\n",
       "      <td>1</td>\n",
       "      <td>ACTOR</td>\n",
       "      <td>Richard Barthelmess</td>\n",
       "      <td>The Noose</td>\n",
       "      <td>False</td>\n",
       "    </tr>\n",
       "    <tr>\n",
       "      <th>1</th>\n",
       "      <td>1927</td>\n",
       "      <td>1928</td>\n",
       "      <td>1</td>\n",
       "      <td>ACTOR</td>\n",
       "      <td>Emil Jannings</td>\n",
       "      <td>The Last Command</td>\n",
       "      <td>True</td>\n",
       "    </tr>\n",
       "    <tr>\n",
       "      <th>2</th>\n",
       "      <td>1927</td>\n",
       "      <td>1928</td>\n",
       "      <td>1</td>\n",
       "      <td>ACTRESS</td>\n",
       "      <td>Louise Dresser</td>\n",
       "      <td>A Ship Comes In</td>\n",
       "      <td>False</td>\n",
       "    </tr>\n",
       "    <tr>\n",
       "      <th>3</th>\n",
       "      <td>1927</td>\n",
       "      <td>1928</td>\n",
       "      <td>1</td>\n",
       "      <td>ACTRESS</td>\n",
       "      <td>Janet Gaynor</td>\n",
       "      <td>7th Heaven</td>\n",
       "      <td>True</td>\n",
       "    </tr>\n",
       "    <tr>\n",
       "      <th>4</th>\n",
       "      <td>1927</td>\n",
       "      <td>1928</td>\n",
       "      <td>1</td>\n",
       "      <td>ACTRESS</td>\n",
       "      <td>Gloria Swanson</td>\n",
       "      <td>Sadie Thompson</td>\n",
       "      <td>False</td>\n",
       "    </tr>\n",
       "    <tr>\n",
       "      <th>...</th>\n",
       "      <td>...</td>\n",
       "      <td>...</td>\n",
       "      <td>...</td>\n",
       "      <td>...</td>\n",
       "      <td>...</td>\n",
       "      <td>...</td>\n",
       "      <td>...</td>\n",
       "    </tr>\n",
       "    <tr>\n",
       "      <th>10884</th>\n",
       "      <td>2023</td>\n",
       "      <td>2024</td>\n",
       "      <td>96</td>\n",
       "      <td>WRITING (Original Screenplay)</td>\n",
       "      <td>Written by Celine Song</td>\n",
       "      <td>Past Lives</td>\n",
       "      <td>False</td>\n",
       "    </tr>\n",
       "    <tr>\n",
       "      <th>10885</th>\n",
       "      <td>2023</td>\n",
       "      <td>2024</td>\n",
       "      <td>96</td>\n",
       "      <td>JEAN HERSHOLT HUMANITARIAN AWARD</td>\n",
       "      <td>NaN</td>\n",
       "      <td>NaN</td>\n",
       "      <td>True</td>\n",
       "    </tr>\n",
       "    <tr>\n",
       "      <th>10886</th>\n",
       "      <td>2023</td>\n",
       "      <td>2024</td>\n",
       "      <td>96</td>\n",
       "      <td>HONORARY AWARD</td>\n",
       "      <td>To Angela Bassett, who has inspired audiences ...</td>\n",
       "      <td>NaN</td>\n",
       "      <td>True</td>\n",
       "    </tr>\n",
       "    <tr>\n",
       "      <th>10887</th>\n",
       "      <td>2023</td>\n",
       "      <td>2024</td>\n",
       "      <td>96</td>\n",
       "      <td>HONORARY AWARD</td>\n",
       "      <td>To Mel Brooks, for his comedic brilliance, pro...</td>\n",
       "      <td>NaN</td>\n",
       "      <td>True</td>\n",
       "    </tr>\n",
       "    <tr>\n",
       "      <th>10888</th>\n",
       "      <td>2023</td>\n",
       "      <td>2024</td>\n",
       "      <td>96</td>\n",
       "      <td>HONORARY AWARD</td>\n",
       "      <td>To Carol Littleton, whose commitment to her cr...</td>\n",
       "      <td>NaN</td>\n",
       "      <td>True</td>\n",
       "    </tr>\n",
       "  </tbody>\n",
       "</table>\n",
       "<p>10889 rows × 7 columns</p>\n",
       "</div>"
      ]
     },
     "execution_count": 18,
     "metadata": {},
     "output_type": "execute_result"
    }
   ],
   "execution_count": 18
  },
  {
   "metadata": {},
   "cell_type": "markdown",
   "source": "Checking for total dimension of the csv",
   "id": "8ad89536ddd1700a"
  },
  {
   "metadata": {
    "ExecuteTime": {
     "end_time": "2025-02-06T15:59:49.231529Z",
     "start_time": "2025-02-06T15:59:49.223529Z"
    }
   },
   "cell_type": "code",
   "source": "df_the_oscar_awards.shape",
   "id": "b9e5a2d172c56567",
   "outputs": [
    {
     "data": {
      "text/plain": [
       "(10889, 7)"
      ]
     },
     "execution_count": 19,
     "metadata": {},
     "output_type": "execute_result"
    }
   ],
   "execution_count": 19
  },
  {
   "metadata": {
    "ExecuteTime": {
     "end_time": "2025-02-06T15:59:49.283997Z",
     "start_time": "2025-02-06T15:59:49.276998Z"
    }
   },
   "cell_type": "code",
   "source": "df_the_oscar_awards.columns",
   "id": "d511c93c310c027a",
   "outputs": [
    {
     "data": {
      "text/plain": [
       "Index(['year_film', 'year_ceremony', 'ceremony', 'category', 'name', 'film',\n",
       "       'winner'],\n",
       "      dtype='object')"
      ]
     },
     "execution_count": 20,
     "metadata": {},
     "output_type": "execute_result"
    }
   ],
   "execution_count": 20
  },
  {
   "metadata": {},
   "cell_type": "markdown",
   "source": "Check info about column type",
   "id": "e0715abbf6238708"
  },
  {
   "metadata": {
    "ExecuteTime": {
     "end_time": "2025-02-06T15:59:49.382332Z",
     "start_time": "2025-02-06T15:59:49.373331Z"
    }
   },
   "cell_type": "code",
   "source": "df_the_oscar_awards.dtypes",
   "id": "4a8f184564b2c2d",
   "outputs": [
    {
     "data": {
      "text/plain": [
       "year_film         int64\n",
       "year_ceremony     int64\n",
       "ceremony          int64\n",
       "category         object\n",
       "name             object\n",
       "film             object\n",
       "winner             bool\n",
       "dtype: object"
      ]
     },
     "execution_count": 21,
     "metadata": {},
     "output_type": "execute_result"
    }
   ],
   "execution_count": 21
  },
  {
   "metadata": {},
   "cell_type": "markdown",
   "source": "Correction of data type of the records",
   "id": "f7e67212b7997077"
  },
  {
   "metadata": {
    "ExecuteTime": {
     "end_time": "2025-02-06T15:59:49.442741Z",
     "start_time": "2025-02-06T15:59:49.422541Z"
    }
   },
   "cell_type": "code",
   "source": [
    "df_the_oscar_awards['year_film'] = df_the_oscar_awards['year_film'].astype('Int64')\n",
    "df_the_oscar_awards['year_ceremony'] = df_the_oscar_awards['year_ceremony'].astype('Int64')\n",
    "df_the_oscar_awards['ceremony'] = df_the_oscar_awards['ceremony'].astype('Int64')\n",
    "df_the_oscar_awards['category'] = df_the_oscar_awards['category'].fillna(pd.NA).astype('string')\n",
    "df_the_oscar_awards['name'] = df_the_oscar_awards['name'].fillna(pd.NA).astype('string')\n",
    "df_the_oscar_awards['film'] = df_the_oscar_awards['film'].fillna(pd.NA).astype('string')\n",
    "df_the_oscar_awards['winner'] = df_the_oscar_awards['winner'].fillna(pd.NA).astype('bool')"
   ],
   "id": "20c87a6f2699e841",
   "outputs": [],
   "execution_count": 22
  },
  {
   "metadata": {},
   "cell_type": "markdown",
   "source": "Check if there are duplicates",
   "id": "3cc33c02e392bc4f"
  },
  {
   "metadata": {
    "ExecuteTime": {
     "end_time": "2025-02-06T15:59:49.486473Z",
     "start_time": "2025-02-06T15:59:49.467474Z"
    }
   },
   "cell_type": "code",
   "source": "df_the_oscar_awards.duplicated().sum()\n",
   "id": "e288c88bf9b288cd",
   "outputs": [
    {
     "data": {
      "text/plain": [
       "np.int64(7)"
      ]
     },
     "execution_count": 23,
     "metadata": {},
     "output_type": "execute_result"
    }
   ],
   "execution_count": 23
  },
  {
   "metadata": {
    "ExecuteTime": {
     "end_time": "2025-02-06T15:59:49.541192Z",
     "start_time": "2025-02-06T15:59:49.522227Z"
    }
   },
   "cell_type": "code",
   "source": [
    "df_the_oscar_awards.drop_duplicates(inplace = True)\n",
    "df_the_oscar_awards.duplicated().sum()"
   ],
   "id": "31233cfa0b9b3ce1",
   "outputs": [
    {
     "data": {
      "text/plain": [
       "np.int64(0)"
      ]
     },
     "execution_count": 24,
     "metadata": {},
     "output_type": "execute_result"
    }
   ],
   "execution_count": 24
  },
  {
   "metadata": {},
   "cell_type": "markdown",
   "source": "Check the missing values",
   "id": "66200eda95af4101"
  },
  {
   "metadata": {
    "ExecuteTime": {
     "end_time": "2025-02-06T15:59:49.575278Z",
     "start_time": "2025-02-06T15:59:49.567108Z"
    }
   },
   "cell_type": "code",
   "source": "df_the_oscar_awards.isnull().sum()",
   "id": "fcef002a4002753c",
   "outputs": [
    {
     "data": {
      "text/plain": [
       "year_film          0\n",
       "year_ceremony      0\n",
       "ceremony           0\n",
       "category           0\n",
       "name               4\n",
       "film             318\n",
       "winner             0\n",
       "dtype: int64"
      ]
     },
     "execution_count": 25,
     "metadata": {},
     "output_type": "execute_result"
    }
   ],
   "execution_count": 25
  },
  {
   "metadata": {},
   "cell_type": "markdown",
   "source": "Dropping records with missing value ",
   "id": "c17318c3ff878166"
  },
  {
   "metadata": {
    "ExecuteTime": {
     "end_time": "2025-02-06T15:59:49.632630Z",
     "start_time": "2025-02-06T15:59:49.619654Z"
    }
   },
   "cell_type": "code",
   "source": [
    "df_the_oscar_awards.dropna(subset=[\"film\", 'winner'], inplace=True)\n",
    "df_the_oscar_awards.isnull().sum()"
   ],
   "id": "920630a50cad8756",
   "outputs": [
    {
     "data": {
      "text/plain": [
       "year_film        0\n",
       "year_ceremony    0\n",
       "ceremony         0\n",
       "category         0\n",
       "name             0\n",
       "film             0\n",
       "winner           0\n",
       "dtype: int64"
      ]
     },
     "execution_count": 26,
     "metadata": {},
     "output_type": "execute_result"
    }
   ],
   "execution_count": 26
  },
  {
   "metadata": {
    "ExecuteTime": {
     "end_time": "2025-02-06T15:59:49.715747Z",
     "start_time": "2025-02-06T15:59:49.711364Z"
    }
   },
   "cell_type": "code",
   "source": "df_the_oscar_awards.shape",
   "id": "f31a85238a448f8",
   "outputs": [
    {
     "data": {
      "text/plain": [
       "(10564, 7)"
      ]
     },
     "execution_count": 27,
     "metadata": {},
     "output_type": "execute_result"
    }
   ],
   "execution_count": 27
  },
  {
   "metadata": {},
   "cell_type": "markdown",
   "source": "Connecting to PostgreSQL database",
   "id": "dec2f920fa5deae8"
  },
  {
   "metadata": {
    "ExecuteTime": {
     "end_time": "2025-02-06T15:59:49.967145Z",
     "start_time": "2025-02-06T15:59:49.806119Z"
    }
   },
   "cell_type": "code",
   "source": [
    "engine = get_db_engine()\n",
    "sql = \\\n",
    "\"\"\"CREATE TABLE IF NOT EXISTS the_oscar_awards (\n",
    "        year_film INTEGER CHECK (year_film>=1870),\n",
    "        year_ceremony INTEGER CHECK (year_ceremony>=1870),\n",
    "        ceremony INTEGER CHECK (ceremony>0),\n",
    "        category TEXT CHECK (category<>''),\n",
    "        name TEXT CHECK (name<>''),\n",
    "        film TEXT CHECK (film<>''),\n",
    "        winner BOOLEAN NOT NULL DEFAULT FALSE\n",
    "        \n",
    "        PRIMARY KEY (year_ceremony, category, name, film)\n",
    "        );\n",
    "\"\"\"\n",
    "execute_query(sql)"
   ],
   "id": "49078f75fe3f6b18",
   "outputs": [
    {
     "name": "stdout",
     "output_type": "stream",
     "text": [
      "Error (psycopg2.errors.SyntaxError) ERRORE:  errore di sintassi a o presso \"(\"\n",
      "LINE 10:         PRIMARY KEY (year_ceremony, category, name, film)\n",
      "                             ^\n",
      "\n",
      "[SQL: CREATE TABLE IF NOT EXISTS the_oscar_awards (\n",
      "        year_film INTEGER CHECK (year_film>=1870),\n",
      "        year_ceremony INTEGER CHECK (year_ceremony>=1870),\n",
      "        ceremony INTEGER CHECK (ceremony>0),\n",
      "        category TEXT CHECK (category<>''),\n",
      "        name TEXT CHECK (name<>''),\n",
      "        film TEXT CHECK (film<>''),\n",
      "        winner BOOLEAN NOT NULL DEFAULT FALSE\n",
      "        \n",
      "        PRIMARY KEY (year_ceremony, category, name, film)\n",
      "        );\n",
      "]\n",
      "(Background on this error at: https://sqlalche.me/e/20/f405)\n"
     ]
    }
   ],
   "execution_count": 28
  },
  {
   "metadata": {},
   "cell_type": "markdown",
   "source": "Population of the table using .to_sql function",
   "id": "4bbe05a5c03a0b17"
  },
  {
   "metadata": {
    "ExecuteTime": {
     "end_time": "2025-02-06T15:59:50.425466Z",
     "start_time": "2025-02-06T15:59:50.038738Z"
    }
   },
   "cell_type": "code",
   "source": "df_the_oscar_awards.to_sql(\"the_oscar_awards\", engine, if_exists=\"append\", index=False)",
   "id": "e6c4a9e9309d9ef9",
   "outputs": [
    {
     "data": {
      "text/plain": [
       "564"
      ]
     },
     "execution_count": 29,
     "metadata": {},
     "output_type": "execute_result"
    }
   ],
   "execution_count": 29
  }
 ],
 "metadata": {
  "kernelspec": {
   "display_name": "Python 3",
   "language": "python",
   "name": "python3"
  },
  "language_info": {
   "codemirror_mode": {
    "name": "ipython",
    "version": 2
   },
   "file_extension": ".py",
   "mimetype": "text/x-python",
   "name": "python",
   "nbconvert_exporter": "python",
   "pygments_lexer": "ipython2",
   "version": "2.7.6"
  }
 },
 "nbformat": 4,
 "nbformat_minor": 5
}
