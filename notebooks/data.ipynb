{
 "cells": [
  {
   "metadata": {},
   "cell_type": "markdown",
   "source": "Import libraries for data cleaning ",
   "id": "a901df29f14c16d3"
  },
  {
   "cell_type": "code",
   "execution_count": null,
   "id": "initial_id",
   "metadata": {
    "collapsed": true
   },
   "outputs": [],
   "source": [
    "import csv\n",
    "import numpy as np\n",
    "import pandas as pd\n",
    "import os\n",
    "import re"
   ]
  },
  {
   "metadata": {},
   "cell_type": "markdown",
   "source": "Defining input and output directories to read raw CSV files and saving the cleaning data",
   "id": "5927963eebe59e4b"
  },
  {
   "metadata": {},
   "cell_type": "code",
   "outputs": [],
   "execution_count": null,
   "source": [
    "input_dir = r'C:\\temporanei\\CSV_progetto'\n",
    "output_dir = r'C:\\Users\\ricca\\Desktop\\UNIVERSITY\\ANNO3\\TWEB\\Progetto_TWEB\\clean_csv'\n",
    "\n",
    "#ensure output directory exists\n",
    "os.makedirs(output_dir, exist_ok=True)"
   ],
   "id": "b5f70a56c5ff2bbd"
  },
  {
   "metadata": {},
   "cell_type": "markdown",
   "source": "Creating dictionary to contain dataframes",
   "id": "2b8612a0cbed6ab9"
  },
  {
   "metadata": {},
   "cell_type": "code",
   "outputs": [],
   "execution_count": null,
   "source": "",
   "id": "547e23333307265b"
  }
 ],
 "metadata": {
  "kernelspec": {
   "display_name": "Python 3",
   "language": "python",
   "name": "python3"
  },
  "language_info": {
   "codemirror_mode": {
    "name": "ipython",
    "version": 2
   },
   "file_extension": ".py",
   "mimetype": "text/x-python",
   "name": "python",
   "nbconvert_exporter": "python",
   "pygments_lexer": "ipython2",
   "version": "2.7.6"
  }
 },
 "nbformat": 4,
 "nbformat_minor": 5
}
