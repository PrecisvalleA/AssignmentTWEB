{
 "cells": [
  {
   "metadata": {},
   "cell_type": "markdown",
   "source": "Import libraries for data cleaning ",
   "id": "a901df29f14c16d3"
  },
  {
   "cell_type": "code",
   "id": "initial_id",
   "metadata": {
    "collapsed": true,
    "ExecuteTime": {
     "end_time": "2025-02-03T14:22:58.820566Z",
     "start_time": "2025-02-03T14:22:58.812135Z"
    }
   },
   "source": [
    "import csv\n",
    "import numpy as np\n",
    "import pandas as pd\n",
    "import seaborn as sns\n",
    "import os\n",
    "import re"
   ],
   "outputs": [],
   "execution_count": 26
  },
  {
   "metadata": {},
   "cell_type": "markdown",
   "source": "Reading CSV file",
   "id": "5927963eebe59e4b"
  },
  {
   "metadata": {
    "ExecuteTime": {
     "end_time": "2025-02-03T14:22:59.552214Z",
     "start_time": "2025-02-03T14:22:58.829070Z"
    }
   },
   "cell_type": "code",
   "source": "df = pd.read_csv(r'C:\\temporanei\\CSV_progetto\\actors.csv')",
   "id": "b5f70a56c5ff2bbd",
   "outputs": [],
   "execution_count": 27
  },
  {
   "metadata": {},
   "cell_type": "markdown",
   "source": "Top records of CSV file: actors.csv",
   "id": "2b8612a0cbed6ab9"
  },
  {
   "metadata": {
    "ExecuteTime": {
     "end_time": "2025-02-03T14:22:59.572301Z",
     "start_time": "2025-02-03T14:22:59.564301Z"
    }
   },
   "cell_type": "code",
   "source": "df.head()",
   "id": "547e23333307265b",
   "outputs": [
    {
     "data": {
      "text/plain": [
       "  id_actor               name    role;;\n",
       "0  1000001      Margot Robbie  Barbie;;\n",
       "1  1000001       Ryan Gosling     Ken;;\n",
       "2  1000001    America Ferrera  Gloria;;\n",
       "3  1000001  Ariana Greenblatt   Sasha;;\n",
       "4  1000001           Issa Rae  Barbie;;"
      ],
      "text/html": [
       "<div>\n",
       "<style scoped>\n",
       "    .dataframe tbody tr th:only-of-type {\n",
       "        vertical-align: middle;\n",
       "    }\n",
       "\n",
       "    .dataframe tbody tr th {\n",
       "        vertical-align: top;\n",
       "    }\n",
       "\n",
       "    .dataframe thead th {\n",
       "        text-align: right;\n",
       "    }\n",
       "</style>\n",
       "<table border=\"1\" class=\"dataframe\">\n",
       "  <thead>\n",
       "    <tr style=\"text-align: right;\">\n",
       "      <th></th>\n",
       "      <th>id_actor</th>\n",
       "      <th>name</th>\n",
       "      <th>role;;</th>\n",
       "    </tr>\n",
       "  </thead>\n",
       "  <tbody>\n",
       "    <tr>\n",
       "      <th>0</th>\n",
       "      <td>1000001</td>\n",
       "      <td>Margot Robbie</td>\n",
       "      <td>Barbie;;</td>\n",
       "    </tr>\n",
       "    <tr>\n",
       "      <th>1</th>\n",
       "      <td>1000001</td>\n",
       "      <td>Ryan Gosling</td>\n",
       "      <td>Ken;;</td>\n",
       "    </tr>\n",
       "    <tr>\n",
       "      <th>2</th>\n",
       "      <td>1000001</td>\n",
       "      <td>America Ferrera</td>\n",
       "      <td>Gloria;;</td>\n",
       "    </tr>\n",
       "    <tr>\n",
       "      <th>3</th>\n",
       "      <td>1000001</td>\n",
       "      <td>Ariana Greenblatt</td>\n",
       "      <td>Sasha;;</td>\n",
       "    </tr>\n",
       "    <tr>\n",
       "      <th>4</th>\n",
       "      <td>1000001</td>\n",
       "      <td>Issa Rae</td>\n",
       "      <td>Barbie;;</td>\n",
       "    </tr>\n",
       "  </tbody>\n",
       "</table>\n",
       "</div>"
      ]
     },
     "execution_count": 28,
     "metadata": {},
     "output_type": "execute_result"
    }
   ],
   "execution_count": 28
  },
  {
   "metadata": {},
   "cell_type": "markdown",
   "source": "Checking for number of columns",
   "id": "8ad89536ddd1700a"
  },
  {
   "metadata": {
    "ExecuteTime": {
     "end_time": "2025-02-03T14:22:59.615882Z",
     "start_time": "2025-02-03T14:22:59.607790Z"
    }
   },
   "cell_type": "code",
   "source": "df.columns",
   "id": "b9e5a2d172c56567",
   "outputs": [
    {
     "data": {
      "text/plain": [
       "Index(['id_actor', 'name', 'role;;'], dtype='object')"
      ]
     },
     "execution_count": 29,
     "metadata": {},
     "output_type": "execute_result"
    }
   ],
   "execution_count": 29
  },
  {
   "metadata": {},
   "cell_type": "markdown",
   "source": "Rename 'role;;' column in 'role'. \"inplace = True\" modifies directly the df without creating a copy",
   "id": "12ddee03a9746eac"
  },
  {
   "metadata": {
    "ExecuteTime": {
     "end_time": "2025-02-03T14:22:59.672022Z",
     "start_time": "2025-02-03T14:22:59.662737Z"
    }
   },
   "cell_type": "code",
   "source": "df.rename(columns = {\"role;;\":\"role\"} , inplace = True)",
   "id": "432a0e47a6fceb51",
   "outputs": [],
   "execution_count": 30
  },
  {
   "metadata": {
    "ExecuteTime": {
     "end_time": "2025-02-03T14:22:59.718410Z",
     "start_time": "2025-02-03T14:22:59.713492Z"
    }
   },
   "cell_type": "code",
   "source": "df.columns",
   "id": "d511c93c310c027a",
   "outputs": [
    {
     "data": {
      "text/plain": [
       "Index(['id_actor', 'name', 'role'], dtype='object')"
      ]
     },
     "execution_count": 31,
     "metadata": {},
     "output_type": "execute_result"
    }
   ],
   "execution_count": 31
  },
  {
   "metadata": {},
   "cell_type": "markdown",
   "source": "Rename role values, they all have \";;\" at the end. str.rstrip(';') removes ';;' at the end of the value",
   "id": "ab011b26ad52af48"
  },
  {
   "metadata": {
    "ExecuteTime": {
     "end_time": "2025-02-03T14:22:59.889402Z",
     "start_time": "2025-02-03T14:22:59.736502Z"
    }
   },
   "cell_type": "code",
   "source": [
    "df['role'] = df['role'].str.rstrip(';')\n",
    "df.head()"
   ],
   "id": "32eb7320e90eb294",
   "outputs": [
    {
     "data": {
      "text/plain": [
       "  id_actor               name    role\n",
       "0  1000001      Margot Robbie  Barbie\n",
       "1  1000001       Ryan Gosling     Ken\n",
       "2  1000001    America Ferrera  Gloria\n",
       "3  1000001  Ariana Greenblatt   Sasha\n",
       "4  1000001           Issa Rae  Barbie"
      ],
      "text/html": [
       "<div>\n",
       "<style scoped>\n",
       "    .dataframe tbody tr th:only-of-type {\n",
       "        vertical-align: middle;\n",
       "    }\n",
       "\n",
       "    .dataframe tbody tr th {\n",
       "        vertical-align: top;\n",
       "    }\n",
       "\n",
       "    .dataframe thead th {\n",
       "        text-align: right;\n",
       "    }\n",
       "</style>\n",
       "<table border=\"1\" class=\"dataframe\">\n",
       "  <thead>\n",
       "    <tr style=\"text-align: right;\">\n",
       "      <th></th>\n",
       "      <th>id_actor</th>\n",
       "      <th>name</th>\n",
       "      <th>role</th>\n",
       "    </tr>\n",
       "  </thead>\n",
       "  <tbody>\n",
       "    <tr>\n",
       "      <th>0</th>\n",
       "      <td>1000001</td>\n",
       "      <td>Margot Robbie</td>\n",
       "      <td>Barbie</td>\n",
       "    </tr>\n",
       "    <tr>\n",
       "      <th>1</th>\n",
       "      <td>1000001</td>\n",
       "      <td>Ryan Gosling</td>\n",
       "      <td>Ken</td>\n",
       "    </tr>\n",
       "    <tr>\n",
       "      <th>2</th>\n",
       "      <td>1000001</td>\n",
       "      <td>America Ferrera</td>\n",
       "      <td>Gloria</td>\n",
       "    </tr>\n",
       "    <tr>\n",
       "      <th>3</th>\n",
       "      <td>1000001</td>\n",
       "      <td>Ariana Greenblatt</td>\n",
       "      <td>Sasha</td>\n",
       "    </tr>\n",
       "    <tr>\n",
       "      <th>4</th>\n",
       "      <td>1000001</td>\n",
       "      <td>Issa Rae</td>\n",
       "      <td>Barbie</td>\n",
       "    </tr>\n",
       "  </tbody>\n",
       "</table>\n",
       "</div>"
      ]
     },
     "execution_count": 32,
     "metadata": {},
     "output_type": "execute_result"
    }
   ],
   "execution_count": 32
  },
  {
   "metadata": {},
   "cell_type": "markdown",
   "source": "Check the missing values",
   "id": "66200eda95af4101"
  },
  {
   "metadata": {
    "ExecuteTime": {
     "end_time": "2025-02-03T14:23:00.005797Z",
     "start_time": "2025-02-03T14:22:59.929017Z"
    }
   },
   "cell_type": "code",
   "source": "df.isnull().sum()",
   "id": "fcef002a4002753c",
   "outputs": [
    {
     "data": {
      "text/plain": [
       "id_actor        0\n",
       "name        14632\n",
       "role        14633\n",
       "dtype: int64"
      ]
     },
     "execution_count": 33,
     "metadata": {},
     "output_type": "execute_result"
    }
   ],
   "execution_count": 33
  },
  {
   "metadata": {},
   "cell_type": "markdown",
   "source": "Dropping the missing value ",
   "id": "c17318c3ff878166"
  },
  {
   "metadata": {
    "ExecuteTime": {
     "end_time": "2025-02-03T14:23:00.414032Z",
     "start_time": "2025-02-03T14:23:00.057110Z"
    }
   },
   "cell_type": "code",
   "source": [
    "df1_actor = df.dropna()\n",
    "df1_actor.isnull().sum()"
   ],
   "id": "920630a50cad8756",
   "outputs": [
    {
     "data": {
      "text/plain": [
       "id_actor    0\n",
       "name        0\n",
       "role        0\n",
       "dtype: int64"
      ]
     },
     "execution_count": 34,
     "metadata": {},
     "output_type": "execute_result"
    }
   ],
   "execution_count": 34
  },
  {
   "metadata": {},
   "cell_type": "markdown",
   "source": "Check for information concerning the dataset ",
   "id": "9f8acb9205f1c946"
  },
  {
   "metadata": {
    "ExecuteTime": {
     "end_time": "2025-02-03T14:23:00.565137Z",
     "start_time": "2025-02-03T14:23:00.463245Z"
    }
   },
   "cell_type": "code",
   "source": "df.info()",
   "id": "6353602b26876296",
   "outputs": [
    {
     "name": "stdout",
     "output_type": "stream",
     "text": [
      "<class 'pandas.core.frame.DataFrame'>\n",
      "RangeIndex: 1048575 entries, 0 to 1048574\n",
      "Data columns (total 3 columns):\n",
      " #   Column    Non-Null Count    Dtype \n",
      "---  ------    --------------    ----- \n",
      " 0   id_actor  1048575 non-null  object\n",
      " 1   name      1033943 non-null  object\n",
      " 2   role      1033942 non-null  object\n",
      "dtypes: object(3)\n",
      "memory usage: 24.0+ MB\n"
     ]
    }
   ],
   "execution_count": 35
  },
  {
   "metadata": {
    "ExecuteTime": {
     "end_time": "2025-02-03T14:23:01.421338Z",
     "start_time": "2025-02-03T14:23:00.644716Z"
    }
   },
   "cell_type": "code",
   "source": "df1_actor.groupby('role')['role'].agg('count')",
   "id": "f0357edae4570e9d",
   "outputs": [
    {
     "data": {
      "text/plain": [
       "role\n",
       "                                      48893\n",
       " Phase Two / Prince Lizard (voice)        1\n",
       " Zak (voice)                              1\n",
       "#1 (voice)                                1\n",
       "#1 Man (voice)                            1\n",
       "                                      ...  \n",
       "黎满庚                                       1\n",
       "鼠婆子                                       1\n",
       "노할머니                                      1\n",
       "메건                                        1\n",
       "샤네                                        1\n",
       "Name: role, Length: 512945, dtype: int64"
      ]
     },
     "execution_count": 36,
     "metadata": {},
     "output_type": "execute_result"
    }
   ],
   "execution_count": 36
  },
  {
   "metadata": {
    "jupyter": {
     "is_executing": true
    },
    "ExecuteTime": {
     "start_time": "2025-02-03T14:27:52.749338Z"
    }
   },
   "cell_type": "code",
   "source": "sns.boxplot(df1_actor['role'])",
   "id": "83e7e07e0e22da54",
   "outputs": [],
   "execution_count": null
  }
 ],
 "metadata": {
  "kernelspec": {
   "display_name": "Python 3",
   "language": "python",
   "name": "python3"
  },
  "language_info": {
   "codemirror_mode": {
    "name": "ipython",
    "version": 2
   },
   "file_extension": ".py",
   "mimetype": "text/x-python",
   "name": "python",
   "nbconvert_exporter": "python",
   "pygments_lexer": "ipython2",
   "version": "2.7.6"
  }
 },
 "nbformat": 4,
 "nbformat_minor": 5
}
