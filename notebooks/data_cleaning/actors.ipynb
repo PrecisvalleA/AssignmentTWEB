{
 "cells": [
  {
   "metadata": {},
   "cell_type": "markdown",
   "source": "Import libraries for data cleaning ",
   "id": "a901df29f14c16d3"
  },
  {
   "cell_type": "code",
   "id": "initial_id",
   "metadata": {
    "collapsed": true,
    "ExecuteTime": {
     "end_time": "2025-05-27T12:09:13.578853Z",
     "start_time": "2025-05-27T12:09:13.549990Z"
    }
   },
   "source": [
    "import csv\n",
    "from tokenize import String\n",
    "\n",
    "from db_connection import get_db_engine\n",
    "from db_connection import execute_query\n",
    "import numpy as np\n",
    "import pandas as pd\n",
    "import os\n",
    "import re\n",
    "import pandas.io.sql as psql\n",
    "import psycopg2 as ps"
   ],
   "outputs": [],
   "execution_count": 49
  },
  {
   "metadata": {},
   "cell_type": "markdown",
   "source": "Reading CSV file",
   "id": "5927963eebe59e4b"
  },
  {
   "metadata": {
    "ExecuteTime": {
     "end_time": "2025-05-27T12:09:23.292333Z",
     "start_time": "2025-05-27T12:09:14.305171Z"
    }
   },
   "cell_type": "code",
   "source": "df_actors = pd.read_csv(r\"C:\\Users\\aless\\Desktop\\Uni\\Dataset\\actors.csv\\actors.csv\")",
   "id": "b5f70a56c5ff2bbd",
   "outputs": [],
   "execution_count": 50
  },
  {
   "metadata": {},
   "cell_type": "markdown",
   "source": "Top records of CSV file: actors.csv",
   "id": "2b8612a0cbed6ab9"
  },
  {
   "metadata": {
    "ExecuteTime": {
     "end_time": "2025-05-27T12:09:23.517266Z",
     "start_time": "2025-05-27T12:09:23.465643Z"
    }
   },
   "cell_type": "code",
   "source": "df_actors",
   "id": "547e23333307265b",
   "outputs": [
    {
     "data": {
      "text/plain": [
       "              id               name                 role\n",
       "0        1000001      Margot Robbie               Barbie\n",
       "1        1000001       Ryan Gosling                  Ken\n",
       "2        1000001    America Ferrera               Gloria\n",
       "3        1000001  Ariana Greenblatt                Sasha\n",
       "4        1000001           Issa Rae               Barbie\n",
       "...          ...                ...                  ...\n",
       "5798445  1941596            Marc Ma            Ba Cai/巴莱\n",
       "5798446  1941596                线雨轩              Tata/塔塔\n",
       "5798447  1941596       Jiang Yixuan  Zuo Yila（Zoila）/佐伊拉\n",
       "5798448  1941597     Hiroshi Mikami                  NaN\n",
       "5798449  1941597      Keiko Oginome                  NaN\n",
       "\n",
       "[5798450 rows x 3 columns]"
      ],
      "text/html": [
       "<div>\n",
       "<style scoped>\n",
       "    .dataframe tbody tr th:only-of-type {\n",
       "        vertical-align: middle;\n",
       "    }\n",
       "\n",
       "    .dataframe tbody tr th {\n",
       "        vertical-align: top;\n",
       "    }\n",
       "\n",
       "    .dataframe thead th {\n",
       "        text-align: right;\n",
       "    }\n",
       "</style>\n",
       "<table border=\"1\" class=\"dataframe\">\n",
       "  <thead>\n",
       "    <tr style=\"text-align: right;\">\n",
       "      <th></th>\n",
       "      <th>id</th>\n",
       "      <th>name</th>\n",
       "      <th>role</th>\n",
       "    </tr>\n",
       "  </thead>\n",
       "  <tbody>\n",
       "    <tr>\n",
       "      <th>0</th>\n",
       "      <td>1000001</td>\n",
       "      <td>Margot Robbie</td>\n",
       "      <td>Barbie</td>\n",
       "    </tr>\n",
       "    <tr>\n",
       "      <th>1</th>\n",
       "      <td>1000001</td>\n",
       "      <td>Ryan Gosling</td>\n",
       "      <td>Ken</td>\n",
       "    </tr>\n",
       "    <tr>\n",
       "      <th>2</th>\n",
       "      <td>1000001</td>\n",
       "      <td>America Ferrera</td>\n",
       "      <td>Gloria</td>\n",
       "    </tr>\n",
       "    <tr>\n",
       "      <th>3</th>\n",
       "      <td>1000001</td>\n",
       "      <td>Ariana Greenblatt</td>\n",
       "      <td>Sasha</td>\n",
       "    </tr>\n",
       "    <tr>\n",
       "      <th>4</th>\n",
       "      <td>1000001</td>\n",
       "      <td>Issa Rae</td>\n",
       "      <td>Barbie</td>\n",
       "    </tr>\n",
       "    <tr>\n",
       "      <th>...</th>\n",
       "      <td>...</td>\n",
       "      <td>...</td>\n",
       "      <td>...</td>\n",
       "    </tr>\n",
       "    <tr>\n",
       "      <th>5798445</th>\n",
       "      <td>1941596</td>\n",
       "      <td>Marc Ma</td>\n",
       "      <td>Ba Cai/巴莱</td>\n",
       "    </tr>\n",
       "    <tr>\n",
       "      <th>5798446</th>\n",
       "      <td>1941596</td>\n",
       "      <td>线雨轩</td>\n",
       "      <td>Tata/塔塔</td>\n",
       "    </tr>\n",
       "    <tr>\n",
       "      <th>5798447</th>\n",
       "      <td>1941596</td>\n",
       "      <td>Jiang Yixuan</td>\n",
       "      <td>Zuo Yila（Zoila）/佐伊拉</td>\n",
       "    </tr>\n",
       "    <tr>\n",
       "      <th>5798448</th>\n",
       "      <td>1941597</td>\n",
       "      <td>Hiroshi Mikami</td>\n",
       "      <td>NaN</td>\n",
       "    </tr>\n",
       "    <tr>\n",
       "      <th>5798449</th>\n",
       "      <td>1941597</td>\n",
       "      <td>Keiko Oginome</td>\n",
       "      <td>NaN</td>\n",
       "    </tr>\n",
       "  </tbody>\n",
       "</table>\n",
       "<p>5798450 rows × 3 columns</p>\n",
       "</div>"
      ]
     },
     "execution_count": 51,
     "metadata": {},
     "output_type": "execute_result"
    }
   ],
   "execution_count": 51
  },
  {
   "metadata": {},
   "cell_type": "markdown",
   "source": "Checking for total dimension of the csv",
   "id": "8ad89536ddd1700a"
  },
  {
   "metadata": {
    "ExecuteTime": {
     "end_time": "2025-05-27T12:09:23.686265Z",
     "start_time": "2025-05-27T12:09:23.677518Z"
    }
   },
   "cell_type": "code",
   "source": "df_actors.shape",
   "id": "b9e5a2d172c56567",
   "outputs": [
    {
     "data": {
      "text/plain": [
       "(5798450, 3)"
      ]
     },
     "execution_count": 52,
     "metadata": {},
     "output_type": "execute_result"
    }
   ],
   "execution_count": 52
  },
  {
   "metadata": {},
   "cell_type": "markdown",
   "source": "Rename 'id' column in 'id_actor'. \"inplace = True\" modifies directly the df without creating a copy",
   "id": "12ddee03a9746eac"
  },
  {
   "metadata": {
    "ExecuteTime": {
     "end_time": "2025-05-27T12:09:23.708033Z",
     "start_time": "2025-05-27T12:09:23.694140Z"
    }
   },
   "cell_type": "code",
   "source": "df_actors.rename(columns = {\"id\":\"id_movie\"} , inplace = True)\n",
   "id": "432a0e47a6fceb51",
   "outputs": [],
   "execution_count": 53
  },
  {
   "metadata": {
    "ExecuteTime": {
     "end_time": "2025-05-27T12:09:23.917667Z",
     "start_time": "2025-05-27T12:09:23.908468Z"
    }
   },
   "cell_type": "code",
   "source": "df_actors.columns",
   "id": "d511c93c310c027a",
   "outputs": [
    {
     "data": {
      "text/plain": [
       "Index(['id_movie', 'name', 'role'], dtype='object')"
      ]
     },
     "execution_count": 54,
     "metadata": {},
     "output_type": "execute_result"
    }
   ],
   "execution_count": 54
  },
  {
   "metadata": {},
   "cell_type": "markdown",
   "source": "Check info about column type",
   "id": "e0715abbf6238708"
  },
  {
   "metadata": {
    "ExecuteTime": {
     "end_time": "2025-05-27T12:09:24.211312Z",
     "start_time": "2025-05-27T12:09:24.198346Z"
    }
   },
   "cell_type": "code",
   "source": "df_actors.dtypes",
   "id": "4a8f184564b2c2d",
   "outputs": [
    {
     "data": {
      "text/plain": [
       "id_movie     int64\n",
       "name        object\n",
       "role        object\n",
       "dtype: object"
      ]
     },
     "execution_count": 55,
     "metadata": {},
     "output_type": "execute_result"
    }
   ],
   "execution_count": 55
  },
  {
   "metadata": {},
   "cell_type": "markdown",
   "source": "Correction of data type of the records",
   "id": "f7e67212b7997077"
  },
  {
   "metadata": {
    "ExecuteTime": {
     "end_time": "2025-05-27T12:09:27.961297Z",
     "start_time": "2025-05-27T12:09:24.769868Z"
    }
   },
   "cell_type": "code",
   "source": [
    "df_actors['id_movie'] = df_actors['id_movie'].astype('Int64')\n",
    "df_actors['name'] = df_actors['name'].fillna(pd.NA).astype('string')\n",
    "df_actors['role'] = df_actors['role'].fillna(pd.NA).astype('string')"
   ],
   "id": "20c87a6f2699e841",
   "outputs": [],
   "execution_count": 56
  },
  {
   "metadata": {},
   "cell_type": "markdown",
   "source": "Check if there are duplicates",
   "id": "3cc33c02e392bc4f"
  },
  {
   "metadata": {
    "ExecuteTime": {
     "end_time": "2025-05-27T12:09:35.455471Z",
     "start_time": "2025-05-27T12:09:28.055550Z"
    }
   },
   "cell_type": "code",
   "source": "df_actors.duplicated().sum()\n",
   "id": "e288c88bf9b288cd",
   "outputs": [
    {
     "data": {
      "text/plain": [
       "np.int64(946)"
      ]
     },
     "execution_count": 57,
     "metadata": {},
     "output_type": "execute_result"
    }
   ],
   "execution_count": 57
  },
  {
   "metadata": {
    "ExecuteTime": {
     "end_time": "2025-05-27T12:09:50.878826Z",
     "start_time": "2025-05-27T12:09:35.479166Z"
    }
   },
   "cell_type": "code",
   "source": [
    "df_actors.drop_duplicates(inplace = True)\n",
    "df_actors.duplicated().sum()"
   ],
   "id": "31233cfa0b9b3ce1",
   "outputs": [
    {
     "data": {
      "text/plain": [
       "np.int64(0)"
      ]
     },
     "execution_count": 58,
     "metadata": {},
     "output_type": "execute_result"
    }
   ],
   "execution_count": 58
  },
  {
   "metadata": {},
   "cell_type": "markdown",
   "source": "Check the missing values",
   "id": "66200eda95af4101"
  },
  {
   "metadata": {
    "ExecuteTime": {
     "end_time": "2025-05-27T12:09:51.620806Z",
     "start_time": "2025-05-27T12:09:50.906543Z"
    }
   },
   "cell_type": "code",
   "source": "df_actors.isnull().sum()",
   "id": "fcef002a4002753c",
   "outputs": [
    {
     "data": {
      "text/plain": [
       "id_movie          0\n",
       "name              4\n",
       "role        1361123\n",
       "dtype: int64"
      ]
     },
     "execution_count": 59,
     "metadata": {},
     "output_type": "execute_result"
    }
   ],
   "execution_count": 59
  },
  {
   "metadata": {},
   "cell_type": "markdown",
   "source": "Dropping records with missing value ",
   "id": "c17318c3ff878166"
  },
  {
   "metadata": {
    "ExecuteTime": {
     "end_time": "2025-05-27T12:09:59.222566Z",
     "start_time": "2025-05-27T12:09:51.691651Z"
    }
   },
   "cell_type": "code",
   "source": [
    "df_actors.fillna({\"role\": \"Unknown\"}, inplace=True)\n",
    "df_actors.replace(\"\", pd.NA, inplace=True)\n",
    "df_actors.dropna(subset=[\"name\"], inplace=True)\n",
    "df_actor = df_actors.dropna()\n",
    "df_actor.isnull().sum()"
   ],
   "id": "920630a50cad8756",
   "outputs": [
    {
     "data": {
      "text/plain": [
       "id_movie    0\n",
       "name        0\n",
       "role        0\n",
       "dtype: int64"
      ]
     },
     "execution_count": 60,
     "metadata": {},
     "output_type": "execute_result"
    }
   ],
   "execution_count": 60
  },
  {
   "metadata": {
    "ExecuteTime": {
     "end_time": "2025-05-27T12:09:59.761864Z",
     "start_time": "2025-05-27T12:09:59.742159Z"
    }
   },
   "cell_type": "code",
   "source": "df_actors.shape",
   "id": "f31a85238a448f8",
   "outputs": [
    {
     "data": {
      "text/plain": [
       "(5797500, 3)"
      ]
     },
     "execution_count": 61,
     "metadata": {},
     "output_type": "execute_result"
    }
   ],
   "execution_count": 61
  },
  {
   "metadata": {},
   "cell_type": "markdown",
   "source": "Remove actors where id_movie doesn't exist",
   "id": "dca1d9c6ceb3fc41"
  },
  {
   "metadata": {
    "ExecuteTime": {
     "end_time": "2025-05-27T12:10:01.309150Z",
     "start_time": "2025-05-27T12:09:59.950748Z"
    }
   },
   "cell_type": "code",
   "source": [
    "valid_movies = pd.read_csv(\"movies_valid_ids.csv\")\n",
    "df_actors = df_actor[df_actor[\"id_movie\"].isin(valid_movies[\"id_movie\"])]\n",
    "df_actors.shape"
   ],
   "id": "59831c5efc28cb26",
   "outputs": [
    {
     "data": {
      "text/plain": [
       "(5797499, 3)"
      ]
     },
     "execution_count": 62,
     "metadata": {},
     "output_type": "execute_result"
    }
   ],
   "execution_count": 62
  },
  {
   "metadata": {},
   "cell_type": "markdown",
   "source": "Connecting to PostgreSQL database",
   "id": "dec2f920fa5deae8"
  },
  {
   "metadata": {
    "ExecuteTime": {
     "end_time": "2025-05-27T12:10:01.673677Z",
     "start_time": "2025-05-27T12:10:01.319832Z"
    }
   },
   "cell_type": "code",
   "source": [
    "engine = get_db_engine()\n",
    "sql = \\\n",
    "\"\"\"CREATE TABLE IF NOT EXISTS actors (\n",
    "        id BIGSERIAL PRIMARY KEY,\n",
    "        id_movie INTEGER CHECK (id_movie>0),\n",
    "        name TEXT CHECK (name<>''),\n",
    "        role TEXT CHECK (role<>'')\n",
    "        );\n",
    "\"\"\"\n",
    "execute_query(sql)"
   ],
   "id": "49078f75fe3f6b18",
   "outputs": [
    {
     "name": "stdout",
     "output_type": "stream",
     "text": [
      "Query Executed Successfully!\n"
     ]
    }
   ],
   "execution_count": 63
  },
  {
   "metadata": {},
   "cell_type": "markdown",
   "source": "Population of the table using .to_sql function",
   "id": "4bbe05a5c03a0b17"
  },
  {
   "metadata": {
    "jupyter": {
     "is_executing": true
    },
    "ExecuteTime": {
     "start_time": "2025-05-27T12:10:01.747518Z"
    }
   },
   "cell_type": "code",
   "source": "df_actors.to_sql(\"actors\", engine, if_exists=\"append\", index=False)",
   "id": "e6c4a9e9309d9ef9",
   "outputs": [],
   "execution_count": null
  }
 ],
 "metadata": {
  "kernelspec": {
   "display_name": "Python 3",
   "language": "python",
   "name": "python3"
  },
  "language_info": {
   "codemirror_mode": {
    "name": "ipython",
    "version": 2
   },
   "file_extension": ".py",
   "mimetype": "text/x-python",
   "name": "python",
   "nbconvert_exporter": "python",
   "pygments_lexer": "ipython2",
   "version": "2.7.6"
  }
 },
 "nbformat": 4,
 "nbformat_minor": 5
}
