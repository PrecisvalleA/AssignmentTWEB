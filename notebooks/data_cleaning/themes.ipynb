{
 "cells": [
  {
   "metadata": {},
   "cell_type": "markdown",
   "source": "Import libraries for data cleaning ",
   "id": "a901df29f14c16d3"
  },
  {
   "cell_type": "code",
   "id": "initial_id",
   "metadata": {
    "collapsed": true,
    "ExecuteTime": {
     "end_time": "2025-05-24T13:53:45.639810Z",
     "start_time": "2025-05-24T13:53:45.593739Z"
    }
   },
   "source": [
    "import csv\n",
    "from tokenize import String\n",
    "\n",
    "from notebooks.db_connection import get_db_engine\n",
    "from notebooks.db_connection import execute_query\n",
    "import numpy as np\n",
    "import pandas as pd\n",
    "import seaborn as sns\n",
    "import os\n",
    "import re"
   ],
   "outputs": [],
   "execution_count": 16
  },
  {
   "metadata": {},
   "cell_type": "markdown",
   "source": "Reading CSV file",
   "id": "5927963eebe59e4b"
  },
  {
   "metadata": {
    "ExecuteTime": {
     "end_time": "2025-05-24T13:53:45.837123Z",
     "start_time": "2025-05-24T13:53:45.643818Z"
    }
   },
   "cell_type": "code",
   "source": "df_themes = pd.read_csv(r\"C:\\Users\\ricca\\Desktop\\CSV\\themes.csv\\themes.csv\")",
   "id": "b5f70a56c5ff2bbd",
   "outputs": [],
   "execution_count": 17
  },
  {
   "metadata": {},
   "cell_type": "markdown",
   "source": "Top records of CSV file: themes.csv",
   "id": "2b8612a0cbed6ab9"
  },
  {
   "metadata": {
    "ExecuteTime": {
     "end_time": "2025-05-24T13:53:45.923532Z",
     "start_time": "2025-05-24T13:53:45.877539Z"
    }
   },
   "cell_type": "code",
   "source": "df_themes",
   "id": "547e23333307265b",
   "outputs": [
    {
     "data": {
      "text/plain": [
       "             id                                              theme\n",
       "0       1000001                   Humanity and the world around us\n",
       "1       1000001                             Crude humor and satire\n",
       "2       1000001                        Moving relationship stories\n",
       "3       1000001     Emotional and captivating fantasy storytelling\n",
       "4       1000001  Surreal and thought-provoking visions of life ...\n",
       "...         ...                                                ...\n",
       "125636  1835643                         Noir and dark crime dramas\n",
       "125637  1835643        Intriguing and suspenseful murder mysteries\n",
       "125638  1849827                                 Faith and religion\n",
       "125639  1849827                       Faith and spiritual journeys\n",
       "125640  1849827              Religious faith, sin, and forgiveness\n",
       "\n",
       "[125641 rows x 2 columns]"
      ],
      "text/html": [
       "<div>\n",
       "<style scoped>\n",
       "    .dataframe tbody tr th:only-of-type {\n",
       "        vertical-align: middle;\n",
       "    }\n",
       "\n",
       "    .dataframe tbody tr th {\n",
       "        vertical-align: top;\n",
       "    }\n",
       "\n",
       "    .dataframe thead th {\n",
       "        text-align: right;\n",
       "    }\n",
       "</style>\n",
       "<table border=\"1\" class=\"dataframe\">\n",
       "  <thead>\n",
       "    <tr style=\"text-align: right;\">\n",
       "      <th></th>\n",
       "      <th>id</th>\n",
       "      <th>theme</th>\n",
       "    </tr>\n",
       "  </thead>\n",
       "  <tbody>\n",
       "    <tr>\n",
       "      <th>0</th>\n",
       "      <td>1000001</td>\n",
       "      <td>Humanity and the world around us</td>\n",
       "    </tr>\n",
       "    <tr>\n",
       "      <th>1</th>\n",
       "      <td>1000001</td>\n",
       "      <td>Crude humor and satire</td>\n",
       "    </tr>\n",
       "    <tr>\n",
       "      <th>2</th>\n",
       "      <td>1000001</td>\n",
       "      <td>Moving relationship stories</td>\n",
       "    </tr>\n",
       "    <tr>\n",
       "      <th>3</th>\n",
       "      <td>1000001</td>\n",
       "      <td>Emotional and captivating fantasy storytelling</td>\n",
       "    </tr>\n",
       "    <tr>\n",
       "      <th>4</th>\n",
       "      <td>1000001</td>\n",
       "      <td>Surreal and thought-provoking visions of life ...</td>\n",
       "    </tr>\n",
       "    <tr>\n",
       "      <th>...</th>\n",
       "      <td>...</td>\n",
       "      <td>...</td>\n",
       "    </tr>\n",
       "    <tr>\n",
       "      <th>125636</th>\n",
       "      <td>1835643</td>\n",
       "      <td>Noir and dark crime dramas</td>\n",
       "    </tr>\n",
       "    <tr>\n",
       "      <th>125637</th>\n",
       "      <td>1835643</td>\n",
       "      <td>Intriguing and suspenseful murder mysteries</td>\n",
       "    </tr>\n",
       "    <tr>\n",
       "      <th>125638</th>\n",
       "      <td>1849827</td>\n",
       "      <td>Faith and religion</td>\n",
       "    </tr>\n",
       "    <tr>\n",
       "      <th>125639</th>\n",
       "      <td>1849827</td>\n",
       "      <td>Faith and spiritual journeys</td>\n",
       "    </tr>\n",
       "    <tr>\n",
       "      <th>125640</th>\n",
       "      <td>1849827</td>\n",
       "      <td>Religious faith, sin, and forgiveness</td>\n",
       "    </tr>\n",
       "  </tbody>\n",
       "</table>\n",
       "<p>125641 rows × 2 columns</p>\n",
       "</div>"
      ]
     },
     "execution_count": 18,
     "metadata": {},
     "output_type": "execute_result"
    }
   ],
   "execution_count": 18
  },
  {
   "metadata": {},
   "cell_type": "markdown",
   "source": "Checking for total dimension of the csv",
   "id": "8ad89536ddd1700a"
  },
  {
   "metadata": {
    "ExecuteTime": {
     "end_time": "2025-05-24T13:53:45.984007Z",
     "start_time": "2025-05-24T13:53:45.977661Z"
    }
   },
   "cell_type": "code",
   "source": "df_themes.shape",
   "id": "b9e5a2d172c56567",
   "outputs": [
    {
     "data": {
      "text/plain": [
       "(125641, 2)"
      ]
     },
     "execution_count": 19,
     "metadata": {},
     "output_type": "execute_result"
    }
   ],
   "execution_count": 19
  },
  {
   "metadata": {},
   "cell_type": "markdown",
   "source": "Rename 'id' column in 'id_theme'. \"inplace = True\" modifies directly the df without creating a copy",
   "id": "12ddee03a9746eac"
  },
  {
   "metadata": {
    "ExecuteTime": {
     "end_time": "2025-05-24T13:53:46.079863Z",
     "start_time": "2025-05-24T13:53:46.063537Z"
    }
   },
   "cell_type": "code",
   "source": "df_themes.rename(columns = {\"id\":\"id_movie\"} , inplace = True)\n",
   "id": "432a0e47a6fceb51",
   "outputs": [],
   "execution_count": 20
  },
  {
   "metadata": {
    "ExecuteTime": {
     "end_time": "2025-05-24T13:53:46.101646Z",
     "start_time": "2025-05-24T13:53:46.090872Z"
    }
   },
   "cell_type": "code",
   "source": "df_themes.columns",
   "id": "d511c93c310c027a",
   "outputs": [
    {
     "data": {
      "text/plain": [
       "Index(['id_movie', 'theme'], dtype='object')"
      ]
     },
     "execution_count": 21,
     "metadata": {},
     "output_type": "execute_result"
    }
   ],
   "execution_count": 21
  },
  {
   "metadata": {},
   "cell_type": "markdown",
   "source": "Check info about column type",
   "id": "e0715abbf6238708"
  },
  {
   "metadata": {
    "ExecuteTime": {
     "end_time": "2025-05-24T13:53:46.132701Z",
     "start_time": "2025-05-24T13:53:46.122404Z"
    }
   },
   "cell_type": "code",
   "source": "df_themes.dtypes",
   "id": "4a8f184564b2c2d",
   "outputs": [
    {
     "data": {
      "text/plain": [
       "id_movie     int64\n",
       "theme       object\n",
       "dtype: object"
      ]
     },
     "execution_count": 22,
     "metadata": {},
     "output_type": "execute_result"
    }
   ],
   "execution_count": 22
  },
  {
   "metadata": {},
   "cell_type": "markdown",
   "source": "Correction of data type of the records",
   "id": "f7e67212b7997077"
  },
  {
   "metadata": {
    "ExecuteTime": {
     "end_time": "2025-05-24T13:53:46.209212Z",
     "start_time": "2025-05-24T13:53:46.171066Z"
    }
   },
   "cell_type": "code",
   "source": [
    "df_themes['id_movie'] = df_themes['id_movie'].astype('Int64')\n",
    "df_themes['theme'] = df_themes['theme'].fillna(pd.NA).astype('string')\n",
    "\n",
    "df_themes.dtypes"
   ],
   "id": "20c87a6f2699e841",
   "outputs": [
    {
     "data": {
      "text/plain": [
       "id_movie             Int64\n",
       "theme       string[python]\n",
       "dtype: object"
      ]
     },
     "execution_count": 23,
     "metadata": {},
     "output_type": "execute_result"
    }
   ],
   "execution_count": 23
  },
  {
   "metadata": {},
   "cell_type": "markdown",
   "source": "Check if there are duplicates",
   "id": "3cc33c02e392bc4f"
  },
  {
   "metadata": {
    "ExecuteTime": {
     "end_time": "2025-05-24T13:53:46.319469Z",
     "start_time": "2025-05-24T13:53:46.284448Z"
    }
   },
   "cell_type": "code",
   "source": "df_themes.duplicated().sum()\n",
   "id": "e288c88bf9b288cd",
   "outputs": [
    {
     "data": {
      "text/plain": [
       "np.int64(0)"
      ]
     },
     "execution_count": 24,
     "metadata": {},
     "output_type": "execute_result"
    }
   ],
   "execution_count": 24
  },
  {
   "metadata": {
    "ExecuteTime": {
     "end_time": "2025-05-24T13:53:46.479196Z",
     "start_time": "2025-05-24T13:53:46.428348Z"
    }
   },
   "cell_type": "code",
   "source": [
    "df_themes.drop_duplicates(inplace = True)\n",
    "df_themes.duplicated().sum()"
   ],
   "id": "31233cfa0b9b3ce1",
   "outputs": [
    {
     "data": {
      "text/plain": [
       "np.int64(0)"
      ]
     },
     "execution_count": 25,
     "metadata": {},
     "output_type": "execute_result"
    }
   ],
   "execution_count": 25
  },
  {
   "metadata": {},
   "cell_type": "markdown",
   "source": "Check the missing values",
   "id": "66200eda95af4101"
  },
  {
   "metadata": {
    "ExecuteTime": {
     "end_time": "2025-05-24T13:53:46.524205Z",
     "start_time": "2025-05-24T13:53:46.512204Z"
    }
   },
   "cell_type": "code",
   "source": "df_themes.isnull().sum()",
   "id": "fcef002a4002753c",
   "outputs": [
    {
     "data": {
      "text/plain": [
       "id_movie    0\n",
       "theme       0\n",
       "dtype: int64"
      ]
     },
     "execution_count": 26,
     "metadata": {},
     "output_type": "execute_result"
    }
   ],
   "execution_count": 26
  },
  {
   "metadata": {},
   "cell_type": "markdown",
   "source": "Dropping records with missing value ",
   "id": "c17318c3ff878166"
  },
  {
   "metadata": {
    "ExecuteTime": {
     "end_time": "2025-05-24T13:53:46.575453Z",
     "start_time": "2025-05-24T13:53:46.557476Z"
    }
   },
   "cell_type": "code",
   "source": [
    "df_themes = df_themes.dropna()\n",
    "df_themes.isnull().sum()"
   ],
   "id": "920630a50cad8756",
   "outputs": [
    {
     "data": {
      "text/plain": [
       "id_movie    0\n",
       "theme       0\n",
       "dtype: int64"
      ]
     },
     "execution_count": 27,
     "metadata": {},
     "output_type": "execute_result"
    }
   ],
   "execution_count": 27
  },
  {
   "metadata": {},
   "cell_type": "markdown",
   "source": "Remove themes where id_movie doesn't exist",
   "id": "fa2d08c92a8e8458"
  },
  {
   "metadata": {
    "ExecuteTime": {
     "end_time": "2025-05-24T13:53:46.784641Z",
     "start_time": "2025-05-24T13:53:46.660705Z"
    }
   },
   "cell_type": "code",
   "source": [
    "valid_movies = pd.read_csv(\"movies_valid_ids.csv\")\n",
    "df_themes = df_themes[df_themes[\"id_movie\"].isin(valid_movies[\"id_movie\"])]\n",
    "df_themes.shape"
   ],
   "id": "31ce65f6f0046fb3",
   "outputs": [
    {
     "data": {
      "text/plain": [
       "(125641, 2)"
      ]
     },
     "execution_count": 28,
     "metadata": {},
     "output_type": "execute_result"
    }
   ],
   "execution_count": 28
  },
  {
   "metadata": {},
   "cell_type": "markdown",
   "source": "Connecting to PostgreSQL database and creating the table",
   "id": "a677812eb8028b27"
  },
  {
   "metadata": {
    "ExecuteTime": {
     "end_time": "2025-05-24T13:53:47.052061Z",
     "start_time": "2025-05-24T13:53:46.881530Z"
    }
   },
   "cell_type": "code",
   "source": [
    "engine = get_db_engine()\n",
    "sql = \\\n",
    "    \"\"\"CREATE TABLE IF NOT EXISTS themes (\n",
    "            id BIGSERIAL PRIMARY KEY,\n",
    "            id_movie INTEGER CHECK (id_movie>=0),\n",
    "            theme TEXT CHECK (theme<>'')\n",
    "            );\n",
    "    \"\"\"\n",
    "execute_query(sql)"
   ],
   "id": "b00df98e11d66417",
   "outputs": [
    {
     "name": "stdout",
     "output_type": "stream",
     "text": [
      "Query Executed Successfully!\n"
     ]
    }
   ],
   "execution_count": 29
  },
  {
   "metadata": {},
   "cell_type": "markdown",
   "source": "Population of the table using .to_sql function",
   "id": "f8eb38ab92bca0d2"
  },
  {
   "metadata": {
    "ExecuteTime": {
     "end_time": "2025-05-24T13:53:48.941895Z",
     "start_time": "2025-05-24T13:53:47.121085Z"
    }
   },
   "cell_type": "code",
   "source": "df_themes.to_sql(\"themes\", engine, if_exists=\"append\", index=False)",
   "id": "437621fd6d095aff",
   "outputs": [
    {
     "data": {
      "text/plain": [
       "641"
      ]
     },
     "execution_count": 30,
     "metadata": {},
     "output_type": "execute_result"
    }
   ],
   "execution_count": 30
  }
 ],
 "metadata": {
  "kernelspec": {
   "display_name": "Python 3",
   "language": "python",
   "name": "python3"
  },
  "language_info": {
   "codemirror_mode": {
    "name": "ipython",
    "version": 2
   },
   "file_extension": ".py",
   "mimetype": "text/x-python",
   "name": "python",
   "nbconvert_exporter": "python",
   "pygments_lexer": "ipython2",
   "version": "2.7.6"
  }
 },
 "nbformat": 4,
 "nbformat_minor": 5
}
