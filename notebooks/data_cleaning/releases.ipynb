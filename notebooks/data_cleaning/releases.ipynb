{
 "cells": [
  {
   "metadata": {},
   "cell_type": "markdown",
   "source": "Import libraries for data cleaning ",
   "id": "a901df29f14c16d3"
  },
  {
   "cell_type": "code",
   "id": "initial_id",
   "metadata": {
    "collapsed": true,
    "ExecuteTime": {
     "end_time": "2025-03-01T17:23:12.477741Z",
     "start_time": "2025-03-01T17:23:11.993605Z"
    }
   },
   "source": [
    "import csv\n",
    "from tokenize import String\n",
    "\n",
    "from db_connection import get_db_engine\n",
    "from db_connection import execute_query\n",
    "import numpy as np\n",
    "import pandas as pd\n",
    "import seaborn as sns\n",
    "import os\n",
    "import re"
   ],
   "outputs": [
    {
     "name": "stdout",
     "output_type": "stream",
     "text": [
      "Connection!\n"
     ]
    }
   ],
   "execution_count": 1
  },
  {
   "metadata": {},
   "cell_type": "markdown",
   "source": "Reading CSV file",
   "id": "5927963eebe59e4b"
  },
  {
   "metadata": {
    "ExecuteTime": {
     "end_time": "2025-03-01T17:23:14.747362Z",
     "start_time": "2025-03-01T17:23:13.792699Z"
    }
   },
   "cell_type": "code",
   "source": "df_releases = pd.read_csv(r\"C:\\Users\\aless\\Desktop\\Uni\\Dataset\\releases.csv\\releases.csv\")",
   "id": "b5f70a56c5ff2bbd",
   "outputs": [],
   "execution_count": 2
  },
  {
   "metadata": {},
   "cell_type": "markdown",
   "source": "Top records of CSV file: releases.csv",
   "id": "2b8612a0cbed6ab9"
  },
  {
   "metadata": {
    "ExecuteTime": {
     "end_time": "2025-03-01T17:23:17.283875Z",
     "start_time": "2025-03-01T17:23:17.257134Z"
    }
   },
   "cell_type": "code",
   "source": "df_releases",
   "id": "547e23333307265b",
   "outputs": [
    {
     "data": {
      "text/plain": [
       "              id    country        date        type rating\n",
       "0        1000001    Andorra  2023-07-21  Theatrical    NaN\n",
       "1        1000001  Argentina  2023-07-20  Theatrical    ATP\n",
       "2        1000001  Australia  2023-07-19  Theatrical     PG\n",
       "3        1000001  Australia  2023-10-01     Digital     PG\n",
       "4        1000001    Austria  2023-07-20  Theatrical    NaN\n",
       "...          ...        ...         ...         ...    ...\n",
       "1332777  1940967        USA  1909-01-01  Theatrical    NaN\n",
       "1332778  1940968     Sweden  1908-11-11  Theatrical    NaN\n",
       "1332779  1940969     France  1902-01-01  Theatrical    NaN\n",
       "1332780  1940970     France  1902-01-01  Theatrical    NaN\n",
       "1332781  1940971     France  1902-01-01  Theatrical    NaN\n",
       "\n",
       "[1332782 rows x 5 columns]"
      ],
      "text/html": [
       "<div>\n",
       "<style scoped>\n",
       "    .dataframe tbody tr th:only-of-type {\n",
       "        vertical-align: middle;\n",
       "    }\n",
       "\n",
       "    .dataframe tbody tr th {\n",
       "        vertical-align: top;\n",
       "    }\n",
       "\n",
       "    .dataframe thead th {\n",
       "        text-align: right;\n",
       "    }\n",
       "</style>\n",
       "<table border=\"1\" class=\"dataframe\">\n",
       "  <thead>\n",
       "    <tr style=\"text-align: right;\">\n",
       "      <th></th>\n",
       "      <th>id</th>\n",
       "      <th>country</th>\n",
       "      <th>date</th>\n",
       "      <th>type</th>\n",
       "      <th>rating</th>\n",
       "    </tr>\n",
       "  </thead>\n",
       "  <tbody>\n",
       "    <tr>\n",
       "      <th>0</th>\n",
       "      <td>1000001</td>\n",
       "      <td>Andorra</td>\n",
       "      <td>2023-07-21</td>\n",
       "      <td>Theatrical</td>\n",
       "      <td>NaN</td>\n",
       "    </tr>\n",
       "    <tr>\n",
       "      <th>1</th>\n",
       "      <td>1000001</td>\n",
       "      <td>Argentina</td>\n",
       "      <td>2023-07-20</td>\n",
       "      <td>Theatrical</td>\n",
       "      <td>ATP</td>\n",
       "    </tr>\n",
       "    <tr>\n",
       "      <th>2</th>\n",
       "      <td>1000001</td>\n",
       "      <td>Australia</td>\n",
       "      <td>2023-07-19</td>\n",
       "      <td>Theatrical</td>\n",
       "      <td>PG</td>\n",
       "    </tr>\n",
       "    <tr>\n",
       "      <th>3</th>\n",
       "      <td>1000001</td>\n",
       "      <td>Australia</td>\n",
       "      <td>2023-10-01</td>\n",
       "      <td>Digital</td>\n",
       "      <td>PG</td>\n",
       "    </tr>\n",
       "    <tr>\n",
       "      <th>4</th>\n",
       "      <td>1000001</td>\n",
       "      <td>Austria</td>\n",
       "      <td>2023-07-20</td>\n",
       "      <td>Theatrical</td>\n",
       "      <td>NaN</td>\n",
       "    </tr>\n",
       "    <tr>\n",
       "      <th>...</th>\n",
       "      <td>...</td>\n",
       "      <td>...</td>\n",
       "      <td>...</td>\n",
       "      <td>...</td>\n",
       "      <td>...</td>\n",
       "    </tr>\n",
       "    <tr>\n",
       "      <th>1332777</th>\n",
       "      <td>1940967</td>\n",
       "      <td>USA</td>\n",
       "      <td>1909-01-01</td>\n",
       "      <td>Theatrical</td>\n",
       "      <td>NaN</td>\n",
       "    </tr>\n",
       "    <tr>\n",
       "      <th>1332778</th>\n",
       "      <td>1940968</td>\n",
       "      <td>Sweden</td>\n",
       "      <td>1908-11-11</td>\n",
       "      <td>Theatrical</td>\n",
       "      <td>NaN</td>\n",
       "    </tr>\n",
       "    <tr>\n",
       "      <th>1332779</th>\n",
       "      <td>1940969</td>\n",
       "      <td>France</td>\n",
       "      <td>1902-01-01</td>\n",
       "      <td>Theatrical</td>\n",
       "      <td>NaN</td>\n",
       "    </tr>\n",
       "    <tr>\n",
       "      <th>1332780</th>\n",
       "      <td>1940970</td>\n",
       "      <td>France</td>\n",
       "      <td>1902-01-01</td>\n",
       "      <td>Theatrical</td>\n",
       "      <td>NaN</td>\n",
       "    </tr>\n",
       "    <tr>\n",
       "      <th>1332781</th>\n",
       "      <td>1940971</td>\n",
       "      <td>France</td>\n",
       "      <td>1902-01-01</td>\n",
       "      <td>Theatrical</td>\n",
       "      <td>NaN</td>\n",
       "    </tr>\n",
       "  </tbody>\n",
       "</table>\n",
       "<p>1332782 rows × 5 columns</p>\n",
       "</div>"
      ]
     },
     "execution_count": 3,
     "metadata": {},
     "output_type": "execute_result"
    }
   ],
   "execution_count": 3
  },
  {
   "metadata": {},
   "cell_type": "markdown",
   "source": "Checking for total dimension of the csv",
   "id": "8ad89536ddd1700a"
  },
  {
   "metadata": {
    "ExecuteTime": {
     "end_time": "2025-03-01T17:23:19.585662Z",
     "start_time": "2025-03-01T17:23:19.580270Z"
    }
   },
   "cell_type": "code",
   "source": "df_releases.shape",
   "id": "b9e5a2d172c56567",
   "outputs": [
    {
     "data": {
      "text/plain": [
       "(1332782, 5)"
      ]
     },
     "execution_count": 4,
     "metadata": {},
     "output_type": "execute_result"
    }
   ],
   "execution_count": 4
  },
  {
   "metadata": {},
   "cell_type": "markdown",
   "source": "Rename 'id' column in 'id_release'. \"inplace = True\" modifies directly the df without creating a copy",
   "id": "12ddee03a9746eac"
  },
  {
   "metadata": {
    "ExecuteTime": {
     "end_time": "2025-03-01T17:23:21.168614Z",
     "start_time": "2025-03-01T17:23:21.163855Z"
    }
   },
   "cell_type": "code",
   "source": "df_releases.rename(columns = {\"id\":\"id_release\"} , inplace = True)\n",
   "id": "432a0e47a6fceb51",
   "outputs": [],
   "execution_count": 5
  },
  {
   "metadata": {
    "ExecuteTime": {
     "end_time": "2025-03-01T17:23:23.316311Z",
     "start_time": "2025-03-01T17:23:23.308147Z"
    }
   },
   "cell_type": "code",
   "source": "df_releases.columns",
   "id": "d511c93c310c027a",
   "outputs": [
    {
     "data": {
      "text/plain": [
       "Index(['id_release', 'country', 'date', 'type', 'rating'], dtype='object')"
      ]
     },
     "execution_count": 6,
     "metadata": {},
     "output_type": "execute_result"
    }
   ],
   "execution_count": 6
  },
  {
   "metadata": {},
   "cell_type": "markdown",
   "source": "Check info about column type",
   "id": "e0715abbf6238708"
  },
  {
   "metadata": {
    "ExecuteTime": {
     "end_time": "2025-03-01T17:23:24.391993Z",
     "start_time": "2025-03-01T17:23:24.383184Z"
    }
   },
   "cell_type": "code",
   "source": "df_releases.dtypes",
   "id": "4a8f184564b2c2d",
   "outputs": [
    {
     "data": {
      "text/plain": [
       "id_release     int64\n",
       "country       object\n",
       "date          object\n",
       "type          object\n",
       "rating        object\n",
       "dtype: object"
      ]
     },
     "execution_count": 7,
     "metadata": {},
     "output_type": "execute_result"
    }
   ],
   "execution_count": 7
  },
  {
   "metadata": {},
   "cell_type": "markdown",
   "source": "Correction of data type of the records",
   "id": "f7e67212b7997077"
  },
  {
   "metadata": {
    "ExecuteTime": {
     "end_time": "2025-03-01T17:23:27.577918Z",
     "start_time": "2025-03-01T17:23:26.572180Z"
    }
   },
   "cell_type": "code",
   "source": [
    "df_releases['id_release'] = df_releases['id_release'].astype('Int64')\n",
    "df_releases['country'] = df_releases['country'].fillna(pd.NA).astype('string')\n",
    "df_releases[\"date\"] = pd.to_datetime(df_releases[\"date\"], errors=\"coerce\")\n",
    "df_releases['type'] = df_releases['type'].fillna(pd.NA).astype('string')\n",
    "df_releases['rating'] = df_releases['rating'].fillna(pd.NA).astype('string')\n",
    "df_releases.dtypes"
   ],
   "id": "20c87a6f2699e841",
   "outputs": [
    {
     "data": {
      "text/plain": [
       "id_release             Int64\n",
       "country       string[python]\n",
       "date          datetime64[ns]\n",
       "type          string[python]\n",
       "rating        string[python]\n",
       "dtype: object"
      ]
     },
     "execution_count": 8,
     "metadata": {},
     "output_type": "execute_result"
    }
   ],
   "execution_count": 8
  },
  {
   "metadata": {},
   "cell_type": "markdown",
   "source": "Check if there are duplicates",
   "id": "3cc33c02e392bc4f"
  },
  {
   "metadata": {
    "ExecuteTime": {
     "end_time": "2025-03-01T17:23:29.899996Z",
     "start_time": "2025-03-01T17:23:29.343692Z"
    }
   },
   "cell_type": "code",
   "source": "df_releases.duplicated(subset=[\"id_release\", \"country\", \"date\", \"type\"]).sum()\n",
   "id": "e288c88bf9b288cd",
   "outputs": [
    {
     "data": {
      "text/plain": [
       "np.int64(0)"
      ]
     },
     "execution_count": 9,
     "metadata": {},
     "output_type": "execute_result"
    }
   ],
   "execution_count": 9
  },
  {
   "metadata": {
    "ExecuteTime": {
     "end_time": "2025-03-01T17:23:32.142610Z",
     "start_time": "2025-03-01T17:23:30.836442Z"
    }
   },
   "cell_type": "code",
   "source": [
    "df_releases.drop_duplicates(subset=[\"id_release\", \"country\", \"date\", \"type\"], inplace=True)\n",
    "df_releases.duplicated().sum()"
   ],
   "id": "31233cfa0b9b3ce1",
   "outputs": [
    {
     "data": {
      "text/plain": [
       "np.int64(0)"
      ]
     },
     "execution_count": 10,
     "metadata": {},
     "output_type": "execute_result"
    }
   ],
   "execution_count": 10
  },
  {
   "metadata": {},
   "cell_type": "markdown",
   "source": "Check the missing values",
   "id": "66200eda95af4101"
  },
  {
   "metadata": {
    "ExecuteTime": {
     "end_time": "2025-03-01T17:23:32.369132Z",
     "start_time": "2025-03-01T17:23:32.223004Z"
    }
   },
   "cell_type": "code",
   "source": "df_releases.isnull().sum()",
   "id": "fcef002a4002753c",
   "outputs": [
    {
     "data": {
      "text/plain": [
       "id_release         0\n",
       "country            0\n",
       "date               0\n",
       "type               0\n",
       "rating        998802\n",
       "dtype: int64"
      ]
     },
     "execution_count": 11,
     "metadata": {},
     "output_type": "execute_result"
    }
   ],
   "execution_count": 11
  },
  {
   "metadata": {},
   "cell_type": "markdown",
   "source": "Dropping records with missing value ",
   "id": "c17318c3ff878166"
  },
  {
   "metadata": {
    "ExecuteTime": {
     "end_time": "2025-03-01T17:23:34.803351Z",
     "start_time": "2025-03-01T17:23:34.343764Z"
    }
   },
   "cell_type": "code",
   "source": [
    "df_releases.dropna(subset=['id_release', 'country', 'date', 'type'], inplace = True)\n",
    "df_releases.isnull().sum()"
   ],
   "id": "920630a50cad8756",
   "outputs": [
    {
     "data": {
      "text/plain": [
       "id_release         0\n",
       "country            0\n",
       "date               0\n",
       "type               0\n",
       "rating        998802\n",
       "dtype: int64"
      ]
     },
     "execution_count": 12,
     "metadata": {},
     "output_type": "execute_result"
    }
   ],
   "execution_count": 12
  },
  {
   "metadata": {},
   "cell_type": "markdown",
   "source": "Connecting to PostgreSQL database and creating the table",
   "id": "811a335d54b41131"
  },
  {
   "metadata": {
    "ExecuteTime": {
     "end_time": "2025-03-01T17:23:37.738424Z",
     "start_time": "2025-03-01T17:23:37.515038Z"
    }
   },
   "cell_type": "code",
   "source": [
    "engine = get_db_engine()\n",
    "sql = \\\n",
    "    \"\"\"CREATE TABLE IF NOT EXISTS releases (\n",
    "            id_release INTEGER CHECK (id_release>=0),\n",
    "            country TEXT CHECK (country<>''),\n",
    "            date DATE,\n",
    "            type TEXT CHECK (type<>''),\n",
    "            rating TEXT,\n",
    "            \n",
    "\n",
    "            PRIMARY KEY (id_release, country, date, type)\n",
    "            );\n",
    "    \"\"\"\n",
    "execute_query(sql)"
   ],
   "id": "97ce79ed13aee1bf",
   "outputs": [
    {
     "name": "stdout",
     "output_type": "stream",
     "text": [
      "Success!\n"
     ]
    }
   ],
   "execution_count": 13
  },
  {
   "metadata": {},
   "cell_type": "markdown",
   "source": "Population of the table using .to_sql function",
   "id": "6e1030aa844b0306"
  },
  {
   "metadata": {
    "ExecuteTime": {
     "end_time": "2025-03-01T17:24:21.553432Z",
     "start_time": "2025-03-01T17:23:41.125530Z"
    }
   },
   "cell_type": "code",
   "source": "df_releases.to_sql(\"releases\", engine, if_exists=\"replace\", index=False)",
   "id": "5b9fa46f35add793",
   "outputs": [
    {
     "data": {
      "text/plain": [
       "782"
      ]
     },
     "execution_count": 14,
     "metadata": {},
     "output_type": "execute_result"
    }
   ],
   "execution_count": 14
  }
 ],
 "metadata": {
  "kernelspec": {
   "display_name": "Python 3",
   "language": "python",
   "name": "python3"
  },
  "language_info": {
   "codemirror_mode": {
    "name": "ipython",
    "version": 2
   },
   "file_extension": ".py",
   "mimetype": "text/x-python",
   "name": "python",
   "nbconvert_exporter": "python",
   "pygments_lexer": "ipython2",
   "version": "2.7.6"
  }
 },
 "nbformat": 4,
 "nbformat_minor": 5
}
