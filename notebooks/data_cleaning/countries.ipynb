{
 "cells": [
  {
   "metadata": {},
   "cell_type": "markdown",
   "source": "Import libraries for data cleaning ",
   "id": "a901df29f14c16d3"
  },
  {
   "cell_type": "code",
   "id": "initial_id",
   "metadata": {
    "collapsed": true,
    "ExecuteTime": {
     "end_time": "2025-03-01T16:37:44.778580Z",
     "start_time": "2025-03-01T16:37:37.446389Z"
    }
   },
   "source": [
    "import csv\n",
    "from tokenize import String\n",
    "\n",
    "from db_connection import get_db_engine\n",
    "from db_connection import execute_query\n",
    "import numpy as np\n",
    "import pandas as pd\n",
    "import seaborn as sns\n",
    "import os\n",
    "import re"
   ],
   "outputs": [],
   "execution_count": 3
  },
  {
   "metadata": {},
   "cell_type": "markdown",
   "source": "Reading CSV file",
   "id": "5927963eebe59e4b"
  },
  {
   "metadata": {
    "ExecuteTime": {
     "end_time": "2025-03-01T16:39:42.249173Z",
     "start_time": "2025-03-01T16:39:41.993998Z"
    }
   },
   "cell_type": "code",
   "source": "df_countries = pd.read_csv(r\"C:\\Users\\aless\\Desktop\\Uni\\Dataset\\countries.csv\\countries.csv\")",
   "id": "b5f70a56c5ff2bbd",
   "outputs": [],
   "execution_count": 5
  },
  {
   "metadata": {},
   "cell_type": "markdown",
   "source": "Top records of CSV file: countries.csv",
   "id": "2b8612a0cbed6ab9"
  },
  {
   "metadata": {
    "ExecuteTime": {
     "end_time": "2025-03-01T16:39:44.362620Z",
     "start_time": "2025-03-01T16:39:44.340366Z"
    }
   },
   "cell_type": "code",
   "source": "df_countries",
   "id": "547e23333307265b",
   "outputs": [
    {
     "data": {
      "text/plain": [
       "             id      country\n",
       "0       1000001           UK\n",
       "1       1000001          USA\n",
       "2       1000002  South Korea\n",
       "3       1000003          USA\n",
       "4       1000004      Germany\n",
       "...         ...          ...\n",
       "693471  1941593        China\n",
       "693472  1941594          USA\n",
       "693473  1941595          USA\n",
       "693474  1941596        China\n",
       "693475  1941597        Japan\n",
       "\n",
       "[693476 rows x 2 columns]"
      ],
      "text/html": [
       "<div>\n",
       "<style scoped>\n",
       "    .dataframe tbody tr th:only-of-type {\n",
       "        vertical-align: middle;\n",
       "    }\n",
       "\n",
       "    .dataframe tbody tr th {\n",
       "        vertical-align: top;\n",
       "    }\n",
       "\n",
       "    .dataframe thead th {\n",
       "        text-align: right;\n",
       "    }\n",
       "</style>\n",
       "<table border=\"1\" class=\"dataframe\">\n",
       "  <thead>\n",
       "    <tr style=\"text-align: right;\">\n",
       "      <th></th>\n",
       "      <th>id</th>\n",
       "      <th>country</th>\n",
       "    </tr>\n",
       "  </thead>\n",
       "  <tbody>\n",
       "    <tr>\n",
       "      <th>0</th>\n",
       "      <td>1000001</td>\n",
       "      <td>UK</td>\n",
       "    </tr>\n",
       "    <tr>\n",
       "      <th>1</th>\n",
       "      <td>1000001</td>\n",
       "      <td>USA</td>\n",
       "    </tr>\n",
       "    <tr>\n",
       "      <th>2</th>\n",
       "      <td>1000002</td>\n",
       "      <td>South Korea</td>\n",
       "    </tr>\n",
       "    <tr>\n",
       "      <th>3</th>\n",
       "      <td>1000003</td>\n",
       "      <td>USA</td>\n",
       "    </tr>\n",
       "    <tr>\n",
       "      <th>4</th>\n",
       "      <td>1000004</td>\n",
       "      <td>Germany</td>\n",
       "    </tr>\n",
       "    <tr>\n",
       "      <th>...</th>\n",
       "      <td>...</td>\n",
       "      <td>...</td>\n",
       "    </tr>\n",
       "    <tr>\n",
       "      <th>693471</th>\n",
       "      <td>1941593</td>\n",
       "      <td>China</td>\n",
       "    </tr>\n",
       "    <tr>\n",
       "      <th>693472</th>\n",
       "      <td>1941594</td>\n",
       "      <td>USA</td>\n",
       "    </tr>\n",
       "    <tr>\n",
       "      <th>693473</th>\n",
       "      <td>1941595</td>\n",
       "      <td>USA</td>\n",
       "    </tr>\n",
       "    <tr>\n",
       "      <th>693474</th>\n",
       "      <td>1941596</td>\n",
       "      <td>China</td>\n",
       "    </tr>\n",
       "    <tr>\n",
       "      <th>693475</th>\n",
       "      <td>1941597</td>\n",
       "      <td>Japan</td>\n",
       "    </tr>\n",
       "  </tbody>\n",
       "</table>\n",
       "<p>693476 rows × 2 columns</p>\n",
       "</div>"
      ]
     },
     "execution_count": 6,
     "metadata": {},
     "output_type": "execute_result"
    }
   ],
   "execution_count": 6
  },
  {
   "metadata": {},
   "cell_type": "markdown",
   "source": "Checking for total dimension of the csv",
   "id": "8ad89536ddd1700a"
  },
  {
   "metadata": {
    "ExecuteTime": {
     "end_time": "2025-03-01T16:39:47.263200Z",
     "start_time": "2025-03-01T16:39:47.257020Z"
    }
   },
   "cell_type": "code",
   "source": "df_countries.shape",
   "id": "b9e5a2d172c56567",
   "outputs": [
    {
     "data": {
      "text/plain": [
       "(693476, 2)"
      ]
     },
     "execution_count": 7,
     "metadata": {},
     "output_type": "execute_result"
    }
   ],
   "execution_count": 7
  },
  {
   "metadata": {},
   "cell_type": "markdown",
   "source": "Rename 'id' column in 'id_country'. \"inplace = True\" modifies directly the df without creating a copy",
   "id": "12ddee03a9746eac"
  },
  {
   "metadata": {
    "ExecuteTime": {
     "end_time": "2025-03-01T16:39:49.214635Z",
     "start_time": "2025-03-01T16:39:49.201348Z"
    }
   },
   "cell_type": "code",
   "source": "df_countries.rename(columns = {\"id\":\"id_country\"} , inplace = True)",
   "id": "432a0e47a6fceb51",
   "outputs": [],
   "execution_count": 8
  },
  {
   "metadata": {
    "ExecuteTime": {
     "end_time": "2025-03-01T16:39:54.203704Z",
     "start_time": "2025-03-01T16:39:54.197489Z"
    }
   },
   "cell_type": "code",
   "source": "df_countries.columns",
   "id": "d511c93c310c027a",
   "outputs": [
    {
     "data": {
      "text/plain": [
       "Index(['id_country', 'country'], dtype='object')"
      ]
     },
     "execution_count": 9,
     "metadata": {},
     "output_type": "execute_result"
    }
   ],
   "execution_count": 9
  },
  {
   "metadata": {},
   "cell_type": "markdown",
   "source": "Check info about column type",
   "id": "e0715abbf6238708"
  },
  {
   "metadata": {
    "ExecuteTime": {
     "end_time": "2025-03-01T16:39:56.063125Z",
     "start_time": "2025-03-01T16:39:56.055630Z"
    }
   },
   "cell_type": "code",
   "source": "df_countries.dtypes",
   "id": "4a8f184564b2c2d",
   "outputs": [
    {
     "data": {
      "text/plain": [
       "id_country     int64\n",
       "country       object\n",
       "dtype: object"
      ]
     },
     "execution_count": 10,
     "metadata": {},
     "output_type": "execute_result"
    }
   ],
   "execution_count": 10
  },
  {
   "metadata": {},
   "cell_type": "markdown",
   "source": "Correction of data type of the records",
   "id": "f7e67212b7997077"
  },
  {
   "metadata": {
    "ExecuteTime": {
     "end_time": "2025-03-01T16:39:58.335664Z",
     "start_time": "2025-03-01T16:39:58.246734Z"
    }
   },
   "cell_type": "code",
   "source": [
    "df_countries['id_country'] = df_countries['id_country'].astype('Int64')\n",
    "df_countries['country'] = df_countries['country'].fillna(pd.NA).astype('string')\n",
    "df_countries.dtypes"
   ],
   "id": "20c87a6f2699e841",
   "outputs": [
    {
     "data": {
      "text/plain": [
       "id_country             Int64\n",
       "country       string[python]\n",
       "dtype: object"
      ]
     },
     "execution_count": 11,
     "metadata": {},
     "output_type": "execute_result"
    }
   ],
   "execution_count": 11
  },
  {
   "metadata": {},
   "cell_type": "markdown",
   "source": "Check if there are duplicates",
   "id": "3cc33c02e392bc4f"
  },
  {
   "metadata": {
    "ExecuteTime": {
     "end_time": "2025-03-01T16:40:00.228658Z",
     "start_time": "2025-03-01T16:40:00.054464Z"
    }
   },
   "cell_type": "code",
   "source": "df_countries.duplicated().sum()",
   "id": "e288c88bf9b288cd",
   "outputs": [
    {
     "data": {
      "text/plain": [
       "np.int64(0)"
      ]
     },
     "execution_count": 12,
     "metadata": {},
     "output_type": "execute_result"
    }
   ],
   "execution_count": 12
  },
  {
   "metadata": {
    "ExecuteTime": {
     "end_time": "2025-03-01T16:40:02.107838Z",
     "start_time": "2025-03-01T16:40:01.765126Z"
    }
   },
   "cell_type": "code",
   "source": [
    "df_countries.drop_duplicates(inplace = True)\n",
    "df_countries.duplicated().sum()"
   ],
   "id": "31233cfa0b9b3ce1",
   "outputs": [
    {
     "data": {
      "text/plain": [
       "np.int64(0)"
      ]
     },
     "execution_count": 13,
     "metadata": {},
     "output_type": "execute_result"
    }
   ],
   "execution_count": 13
  },
  {
   "metadata": {},
   "cell_type": "markdown",
   "source": "Check the missing values",
   "id": "66200eda95af4101"
  },
  {
   "metadata": {
    "ExecuteTime": {
     "end_time": "2025-03-01T16:40:03.503675Z",
     "start_time": "2025-03-01T16:40:03.454018Z"
    }
   },
   "cell_type": "code",
   "source": "df_countries.isnull().sum()",
   "id": "fcef002a4002753c",
   "outputs": [
    {
     "data": {
      "text/plain": [
       "id_country    0\n",
       "country       0\n",
       "dtype: int64"
      ]
     },
     "execution_count": 14,
     "metadata": {},
     "output_type": "execute_result"
    }
   ],
   "execution_count": 14
  },
  {
   "metadata": {},
   "cell_type": "markdown",
   "source": "Dropping records with missing value ",
   "id": "c17318c3ff878166"
  },
  {
   "metadata": {
    "ExecuteTime": {
     "end_time": "2025-03-01T16:40:05.618486Z",
     "start_time": "2025-03-01T16:40:05.537858Z"
    }
   },
   "cell_type": "code",
   "source": [
    "df_countries = df_countries.dropna()\n",
    "df_countries.isnull().sum()"
   ],
   "id": "920630a50cad8756",
   "outputs": [
    {
     "data": {
      "text/plain": [
       "id_country    0\n",
       "country       0\n",
       "dtype: int64"
      ]
     },
     "execution_count": 15,
     "metadata": {},
     "output_type": "execute_result"
    }
   ],
   "execution_count": 15
  },
  {
   "metadata": {},
   "cell_type": "markdown",
   "source": "Connecting to PostgreSQL database and population of tables",
   "id": "9c145a6623ba5a8a"
  },
  {
   "metadata": {
    "ExecuteTime": {
     "end_time": "2025-03-01T16:40:08.078820Z",
     "start_time": "2025-03-01T16:40:07.929614Z"
    }
   },
   "cell_type": "code",
   "source": [
    "engine = get_db_engine()\n",
    "sql = \\\n",
    "\"\"\"CREATE TABLE IF NOT EXISTS countries (\n",
    "        id_country INTEGER CHECK (id_country>0),\n",
    "        country TEXT CHECK (country<>''),\n",
    "        \n",
    "        PRIMARY KEY (id_country, country)\n",
    "        );\n",
    "\"\"\"\n",
    "execute_query(sql)"
   ],
   "id": "c069d82ace7a91b1",
   "outputs": [
    {
     "name": "stdout",
     "output_type": "stream",
     "text": [
      "Success!\n"
     ]
    }
   ],
   "execution_count": 16
  },
  {
   "metadata": {},
   "cell_type": "markdown",
   "source": "Population of the table using .to_sql function",
   "id": "7563010b262e6692"
  },
  {
   "metadata": {
    "ExecuteTime": {
     "end_time": "2025-03-01T16:40:23.142224Z",
     "start_time": "2025-03-01T16:40:10.965544Z"
    }
   },
   "cell_type": "code",
   "source": "df_countries.to_sql(\"countries\", engine, if_exists=\"append\", index=False)",
   "id": "2cc51eb2fc6a7000",
   "outputs": [
    {
     "data": {
      "text/plain": [
       "476"
      ]
     },
     "execution_count": 17,
     "metadata": {},
     "output_type": "execute_result"
    }
   ],
   "execution_count": 17
  }
 ],
 "metadata": {
  "kernelspec": {
   "display_name": "Python 3",
   "language": "python",
   "name": "python3"
  },
  "language_info": {
   "codemirror_mode": {
    "name": "ipython",
    "version": 2
   },
   "file_extension": ".py",
   "mimetype": "text/x-python",
   "name": "python",
   "nbconvert_exporter": "python",
   "pygments_lexer": "ipython2",
   "version": "2.7.6"
  }
 },
 "nbformat": 4,
 "nbformat_minor": 5
}
