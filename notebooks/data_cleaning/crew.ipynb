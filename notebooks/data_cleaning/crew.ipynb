{
 "cells": [
  {
   "metadata": {},
   "cell_type": "markdown",
   "source": "Import libraries for data cleaning ",
   "id": "a901df29f14c16d3"
  },
  {
   "cell_type": "code",
   "id": "initial_id",
   "metadata": {
    "collapsed": true,
    "ExecuteTime": {
     "end_time": "2025-03-01T16:51:06.867121Z",
     "start_time": "2025-03-01T16:51:06.394329Z"
    }
   },
   "source": [
    "import csv\n",
    "from tokenize import String\n",
    "\n",
    "from db_connection import get_db_engine\n",
    "from db_connection import execute_query\n",
    "import numpy as np\n",
    "import pandas as pd\n",
    "import seaborn as sns\n",
    "import os\n",
    "import re"
   ],
   "outputs": [
    {
     "name": "stdout",
     "output_type": "stream",
     "text": [
      "Connection!\n"
     ]
    }
   ],
   "execution_count": 2
  },
  {
   "metadata": {},
   "cell_type": "markdown",
   "source": "Reading CSV file",
   "id": "5927963eebe59e4b"
  },
  {
   "metadata": {
    "ExecuteTime": {
     "end_time": "2025-03-01T16:51:13.375220Z",
     "start_time": "2025-03-01T16:51:09.224607Z"
    }
   },
   "cell_type": "code",
   "source": "df_crew = pd.read_csv(r\"C:\\Users\\aless\\Desktop\\Uni\\Dataset\\crew.csv\\crew.csv\")",
   "id": "b5f70a56c5ff2bbd",
   "outputs": [],
   "execution_count": 3
  },
  {
   "metadata": {},
   "cell_type": "markdown",
   "source": "Top records of CSV file: crew.csv",
   "id": "2b8612a0cbed6ab9"
  },
  {
   "metadata": {
    "ExecuteTime": {
     "end_time": "2025-03-01T16:51:14.821589Z",
     "start_time": "2025-03-01T16:51:14.797979Z"
    }
   },
   "cell_type": "code",
   "source": "df_crew",
   "id": "547e23333307265b",
   "outputs": [
    {
     "data": {
      "text/plain": [
       "              id            role                  name\n",
       "0        1000001        Director          Greta Gerwig\n",
       "1        1000001        Producer          Tom Ackerley\n",
       "2        1000001        Producer         Margot Robbie\n",
       "3        1000001        Producer        Robbie Brenner\n",
       "4        1000001        Producer          David Heyman\n",
       "...          ...             ...                   ...\n",
       "4720178  1941596         Casting                   线雨轩\n",
       "4720179  1941596          Editor  Eric Kwong Chi-Leung\n",
       "4720180  1941596  Cinematography             Kenny Tse\n",
       "4720181  1941596        Composer                   胡小欧\n",
       "4720182  1941596  Costume design           Kenneth Yee\n",
       "\n",
       "[4720183 rows x 3 columns]"
      ],
      "text/html": [
       "<div>\n",
       "<style scoped>\n",
       "    .dataframe tbody tr th:only-of-type {\n",
       "        vertical-align: middle;\n",
       "    }\n",
       "\n",
       "    .dataframe tbody tr th {\n",
       "        vertical-align: top;\n",
       "    }\n",
       "\n",
       "    .dataframe thead th {\n",
       "        text-align: right;\n",
       "    }\n",
       "</style>\n",
       "<table border=\"1\" class=\"dataframe\">\n",
       "  <thead>\n",
       "    <tr style=\"text-align: right;\">\n",
       "      <th></th>\n",
       "      <th>id</th>\n",
       "      <th>role</th>\n",
       "      <th>name</th>\n",
       "    </tr>\n",
       "  </thead>\n",
       "  <tbody>\n",
       "    <tr>\n",
       "      <th>0</th>\n",
       "      <td>1000001</td>\n",
       "      <td>Director</td>\n",
       "      <td>Greta Gerwig</td>\n",
       "    </tr>\n",
       "    <tr>\n",
       "      <th>1</th>\n",
       "      <td>1000001</td>\n",
       "      <td>Producer</td>\n",
       "      <td>Tom Ackerley</td>\n",
       "    </tr>\n",
       "    <tr>\n",
       "      <th>2</th>\n",
       "      <td>1000001</td>\n",
       "      <td>Producer</td>\n",
       "      <td>Margot Robbie</td>\n",
       "    </tr>\n",
       "    <tr>\n",
       "      <th>3</th>\n",
       "      <td>1000001</td>\n",
       "      <td>Producer</td>\n",
       "      <td>Robbie Brenner</td>\n",
       "    </tr>\n",
       "    <tr>\n",
       "      <th>4</th>\n",
       "      <td>1000001</td>\n",
       "      <td>Producer</td>\n",
       "      <td>David Heyman</td>\n",
       "    </tr>\n",
       "    <tr>\n",
       "      <th>...</th>\n",
       "      <td>...</td>\n",
       "      <td>...</td>\n",
       "      <td>...</td>\n",
       "    </tr>\n",
       "    <tr>\n",
       "      <th>4720178</th>\n",
       "      <td>1941596</td>\n",
       "      <td>Casting</td>\n",
       "      <td>线雨轩</td>\n",
       "    </tr>\n",
       "    <tr>\n",
       "      <th>4720179</th>\n",
       "      <td>1941596</td>\n",
       "      <td>Editor</td>\n",
       "      <td>Eric Kwong Chi-Leung</td>\n",
       "    </tr>\n",
       "    <tr>\n",
       "      <th>4720180</th>\n",
       "      <td>1941596</td>\n",
       "      <td>Cinematography</td>\n",
       "      <td>Kenny Tse</td>\n",
       "    </tr>\n",
       "    <tr>\n",
       "      <th>4720181</th>\n",
       "      <td>1941596</td>\n",
       "      <td>Composer</td>\n",
       "      <td>胡小欧</td>\n",
       "    </tr>\n",
       "    <tr>\n",
       "      <th>4720182</th>\n",
       "      <td>1941596</td>\n",
       "      <td>Costume design</td>\n",
       "      <td>Kenneth Yee</td>\n",
       "    </tr>\n",
       "  </tbody>\n",
       "</table>\n",
       "<p>4720183 rows × 3 columns</p>\n",
       "</div>"
      ]
     },
     "execution_count": 4,
     "metadata": {},
     "output_type": "execute_result"
    }
   ],
   "execution_count": 4
  },
  {
   "metadata": {},
   "cell_type": "markdown",
   "source": "Checking for total dimension of the csv",
   "id": "8ad89536ddd1700a"
  },
  {
   "metadata": {
    "ExecuteTime": {
     "end_time": "2025-03-01T16:51:17.519220Z",
     "start_time": "2025-03-01T16:51:17.510820Z"
    }
   },
   "cell_type": "code",
   "source": "df_crew.shape",
   "id": "b9e5a2d172c56567",
   "outputs": [
    {
     "data": {
      "text/plain": [
       "(4720183, 3)"
      ]
     },
     "execution_count": 5,
     "metadata": {},
     "output_type": "execute_result"
    }
   ],
   "execution_count": 5
  },
  {
   "metadata": {},
   "cell_type": "markdown",
   "source": "Rename 'id' column in 'id_crew'. \"inplace = True\" modifies directly the df without creating a copy",
   "id": "12ddee03a9746eac"
  },
  {
   "metadata": {
    "ExecuteTime": {
     "end_time": "2025-03-01T16:51:19.547862Z",
     "start_time": "2025-03-01T16:51:19.535547Z"
    }
   },
   "cell_type": "code",
   "source": "df_crew.rename(columns = {\"id\":\"id_crew\"} , inplace = True)\n",
   "id": "432a0e47a6fceb51",
   "outputs": [],
   "execution_count": 6
  },
  {
   "metadata": {
    "ExecuteTime": {
     "end_time": "2025-03-01T16:51:21.450052Z",
     "start_time": "2025-03-01T16:51:21.439369Z"
    }
   },
   "cell_type": "code",
   "source": "df_crew.columns",
   "id": "d511c93c310c027a",
   "outputs": [
    {
     "data": {
      "text/plain": [
       "Index(['id_crew', 'role', 'name'], dtype='object')"
      ]
     },
     "execution_count": 7,
     "metadata": {},
     "output_type": "execute_result"
    }
   ],
   "execution_count": 7
  },
  {
   "metadata": {},
   "cell_type": "markdown",
   "source": "Check info about column type",
   "id": "e0715abbf6238708"
  },
  {
   "metadata": {
    "ExecuteTime": {
     "end_time": "2025-03-01T16:51:23.056877Z",
     "start_time": "2025-03-01T16:51:23.048128Z"
    }
   },
   "cell_type": "code",
   "source": "df_crew.dtypes",
   "id": "4a8f184564b2c2d",
   "outputs": [
    {
     "data": {
      "text/plain": [
       "id_crew     int64\n",
       "role       object\n",
       "name       object\n",
       "dtype: object"
      ]
     },
     "execution_count": 8,
     "metadata": {},
     "output_type": "execute_result"
    }
   ],
   "execution_count": 8
  },
  {
   "metadata": {},
   "cell_type": "markdown",
   "source": "Correction of data type of the records",
   "id": "f7e67212b7997077"
  },
  {
   "metadata": {
    "ExecuteTime": {
     "end_time": "2025-03-01T16:51:26.180473Z",
     "start_time": "2025-03-01T16:51:24.716621Z"
    }
   },
   "cell_type": "code",
   "source": [
    "df_crew['id_crew'] = df_crew['id_crew'].astype('Int64')\n",
    "df_crew['role'] = df_crew['role'].fillna(pd.NA).astype('string')\n",
    "df_crew['name'] = df_crew['name'].fillna(pd.NA).astype('string')\n",
    "\n",
    "df_crew.dtypes"
   ],
   "id": "20c87a6f2699e841",
   "outputs": [
    {
     "data": {
      "text/plain": [
       "id_crew             Int64\n",
       "role       string[python]\n",
       "name       string[python]\n",
       "dtype: object"
      ]
     },
     "execution_count": 9,
     "metadata": {},
     "output_type": "execute_result"
    }
   ],
   "execution_count": 9
  },
  {
   "metadata": {},
   "cell_type": "markdown",
   "source": "Check if there are duplicates",
   "id": "3cc33c02e392bc4f"
  },
  {
   "metadata": {
    "ExecuteTime": {
     "end_time": "2025-03-01T16:51:31.767590Z",
     "start_time": "2025-03-01T16:51:28.212832Z"
    }
   },
   "cell_type": "code",
   "source": "df_crew.duplicated().sum()\n",
   "id": "e288c88bf9b288cd",
   "outputs": [
    {
     "data": {
      "text/plain": [
       "np.int64(1282)"
      ]
     },
     "execution_count": 10,
     "metadata": {},
     "output_type": "execute_result"
    }
   ],
   "execution_count": 10
  },
  {
   "metadata": {
    "ExecuteTime": {
     "end_time": "2025-03-01T16:51:40.163432Z",
     "start_time": "2025-03-01T16:51:33.231Z"
    }
   },
   "cell_type": "code",
   "source": [
    "df_crew.drop_duplicates(inplace = True)\n",
    "df_crew.duplicated().sum()"
   ],
   "id": "31233cfa0b9b3ce1",
   "outputs": [
    {
     "data": {
      "text/plain": [
       "np.int64(0)"
      ]
     },
     "execution_count": 11,
     "metadata": {},
     "output_type": "execute_result"
    }
   ],
   "execution_count": 11
  },
  {
   "metadata": {},
   "cell_type": "markdown",
   "source": "Check the missing values",
   "id": "66200eda95af4101"
  },
  {
   "metadata": {
    "ExecuteTime": {
     "end_time": "2025-03-01T16:51:44.729011Z",
     "start_time": "2025-03-01T16:51:44.193004Z"
    }
   },
   "cell_type": "code",
   "source": "df_crew.isnull().sum()",
   "id": "fcef002a4002753c",
   "outputs": [
    {
     "data": {
      "text/plain": [
       "id_crew    0\n",
       "role       0\n",
       "name       1\n",
       "dtype: int64"
      ]
     },
     "execution_count": 12,
     "metadata": {},
     "output_type": "execute_result"
    }
   ],
   "execution_count": 12
  },
  {
   "metadata": {},
   "cell_type": "markdown",
   "source": "Dropping records with missing value ",
   "id": "c17318c3ff878166"
  },
  {
   "metadata": {
    "ExecuteTime": {
     "end_time": "2025-03-01T16:51:48.412459Z",
     "start_time": "2025-03-01T16:51:47.152491Z"
    }
   },
   "cell_type": "code",
   "source": [
    "df_crew = df_crew.dropna()\n",
    "df_crew.isnull().sum()"
   ],
   "id": "920630a50cad8756",
   "outputs": [
    {
     "data": {
      "text/plain": [
       "id_crew    0\n",
       "role       0\n",
       "name       0\n",
       "dtype: int64"
      ]
     },
     "execution_count": 13,
     "metadata": {},
     "output_type": "execute_result"
    }
   ],
   "execution_count": 13
  },
  {
   "metadata": {},
   "cell_type": "markdown",
   "source": "Connecting to PostgreSQL database and creating the table",
   "id": "c6c57d75043775e4"
  },
  {
   "metadata": {
    "ExecuteTime": {
     "end_time": "2025-03-01T16:51:57.976836Z",
     "start_time": "2025-03-01T16:51:57.852861Z"
    }
   },
   "cell_type": "code",
   "source": [
    "engine = get_db_engine()\n",
    "sql = \\\n",
    "    \"\"\"CREATE TABLE IF NOT EXISTS crew (\n",
    "            id_crew INTEGER CHECK (id_crew>0),\n",
    "            role TEXT CHECK (role<>''),\n",
    "            name TEXT CHECK (name<>''),\n",
    "            \n",
    "            PRIMARY KEY (id_crew, role, name)\n",
    "            );\n",
    "    \"\"\"\n",
    "execute_query(sql)"
   ],
   "id": "a4f4f80719e34f67",
   "outputs": [
    {
     "name": "stdout",
     "output_type": "stream",
     "text": [
      "Success!\n"
     ]
    }
   ],
   "execution_count": 14
  },
  {
   "metadata": {},
   "cell_type": "markdown",
   "source": "Population of the table using .to_sql function",
   "id": "b90677d656375e2b"
  },
  {
   "metadata": {
    "ExecuteTime": {
     "end_time": "2025-03-01T16:54:24.953905Z",
     "start_time": "2025-03-01T16:52:01.646679Z"
    }
   },
   "cell_type": "code",
   "source": "df_crew.to_sql(\"crew\", engine, if_exists=\"append\", index=False)",
   "id": "37d3514db2a7ca8f",
   "outputs": [
    {
     "data": {
      "text/plain": [
       "900"
      ]
     },
     "execution_count": 15,
     "metadata": {},
     "output_type": "execute_result"
    }
   ],
   "execution_count": 15
  }
 ],
 "metadata": {
  "kernelspec": {
   "display_name": "Python 3",
   "language": "python",
   "name": "python3"
  },
  "language_info": {
   "codemirror_mode": {
    "name": "ipython",
    "version": 2
   },
   "file_extension": ".py",
   "mimetype": "text/x-python",
   "name": "python",
   "nbconvert_exporter": "python",
   "pygments_lexer": "ipython2",
   "version": "2.7.6"
  }
 },
 "nbformat": 4,
 "nbformat_minor": 5
}
