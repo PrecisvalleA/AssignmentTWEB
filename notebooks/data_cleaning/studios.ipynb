{
 "cells": [
  {
   "metadata": {},
   "cell_type": "markdown",
   "source": "Import libraries for data cleaning ",
   "id": "a901df29f14c16d3"
  },
  {
   "cell_type": "code",
   "id": "initial_id",
   "metadata": {
    "collapsed": true,
    "ExecuteTime": {
     "end_time": "2025-05-24T13:53:10.517403Z",
     "start_time": "2025-05-24T13:53:10.449539Z"
    }
   },
   "source": [
    "import csv\n",
    "from tokenize import String\n",
    "\n",
    "from notebooks.db_connection import get_db_engine\n",
    "from notebooks.db_connection import execute_query\n",
    "import numpy as np\n",
    "import pandas as pd\n",
    "import seaborn as sns\n",
    "import os\n",
    "import re"
   ],
   "outputs": [],
   "execution_count": 16
  },
  {
   "metadata": {},
   "cell_type": "markdown",
   "source": "Reading CSV file",
   "id": "5927963eebe59e4b"
  },
  {
   "metadata": {
    "ExecuteTime": {
     "end_time": "2025-05-24T13:53:10.942696Z",
     "start_time": "2025-05-24T13:53:10.525896Z"
    }
   },
   "cell_type": "code",
   "source": "df_studios = pd.read_csv(r\"C:\\Users\\ricca\\Desktop\\CSV\\studios.csv\\studios.csv\")",
   "id": "b5f70a56c5ff2bbd",
   "outputs": [],
   "execution_count": 17
  },
  {
   "metadata": {},
   "cell_type": "markdown",
   "source": "Top records of CSV file: studios.csv",
   "id": "2b8612a0cbed6ab9"
  },
  {
   "metadata": {
    "ExecuteTime": {
     "end_time": "2025-05-24T13:53:10.990265Z",
     "start_time": "2025-05-24T13:53:10.975418Z"
    }
   },
   "cell_type": "code",
   "source": "df_studios",
   "id": "547e23333307265b",
   "outputs": [
    {
     "data": {
      "text/plain": [
       "             id                   studio\n",
       "0       1000001  LuckyChap Entertainment\n",
       "1       1000001             Heyday Films\n",
       "2       1000001           NB/GG Pictures\n",
       "3       1000001                   Mattel\n",
       "4       1000001    Warner Bros. Pictures\n",
       "...         ...                      ...\n",
       "679278  1941596               上海猫眼影业有限公司\n",
       "679279  1941596            坏小子（北京）传媒有限公司\n",
       "679280  1941596         亚太国影（重庆）文化传媒有限公司\n",
       "679281  1941596               凤凰传奇影业有限公司\n",
       "679282  1941596             无双（深圳）影业有限公司\n",
       "\n",
       "[679283 rows x 2 columns]"
      ],
      "text/html": [
       "<div>\n",
       "<style scoped>\n",
       "    .dataframe tbody tr th:only-of-type {\n",
       "        vertical-align: middle;\n",
       "    }\n",
       "\n",
       "    .dataframe tbody tr th {\n",
       "        vertical-align: top;\n",
       "    }\n",
       "\n",
       "    .dataframe thead th {\n",
       "        text-align: right;\n",
       "    }\n",
       "</style>\n",
       "<table border=\"1\" class=\"dataframe\">\n",
       "  <thead>\n",
       "    <tr style=\"text-align: right;\">\n",
       "      <th></th>\n",
       "      <th>id</th>\n",
       "      <th>studio</th>\n",
       "    </tr>\n",
       "  </thead>\n",
       "  <tbody>\n",
       "    <tr>\n",
       "      <th>0</th>\n",
       "      <td>1000001</td>\n",
       "      <td>LuckyChap Entertainment</td>\n",
       "    </tr>\n",
       "    <tr>\n",
       "      <th>1</th>\n",
       "      <td>1000001</td>\n",
       "      <td>Heyday Films</td>\n",
       "    </tr>\n",
       "    <tr>\n",
       "      <th>2</th>\n",
       "      <td>1000001</td>\n",
       "      <td>NB/GG Pictures</td>\n",
       "    </tr>\n",
       "    <tr>\n",
       "      <th>3</th>\n",
       "      <td>1000001</td>\n",
       "      <td>Mattel</td>\n",
       "    </tr>\n",
       "    <tr>\n",
       "      <th>4</th>\n",
       "      <td>1000001</td>\n",
       "      <td>Warner Bros. Pictures</td>\n",
       "    </tr>\n",
       "    <tr>\n",
       "      <th>...</th>\n",
       "      <td>...</td>\n",
       "      <td>...</td>\n",
       "    </tr>\n",
       "    <tr>\n",
       "      <th>679278</th>\n",
       "      <td>1941596</td>\n",
       "      <td>上海猫眼影业有限公司</td>\n",
       "    </tr>\n",
       "    <tr>\n",
       "      <th>679279</th>\n",
       "      <td>1941596</td>\n",
       "      <td>坏小子（北京）传媒有限公司</td>\n",
       "    </tr>\n",
       "    <tr>\n",
       "      <th>679280</th>\n",
       "      <td>1941596</td>\n",
       "      <td>亚太国影（重庆）文化传媒有限公司</td>\n",
       "    </tr>\n",
       "    <tr>\n",
       "      <th>679281</th>\n",
       "      <td>1941596</td>\n",
       "      <td>凤凰传奇影业有限公司</td>\n",
       "    </tr>\n",
       "    <tr>\n",
       "      <th>679282</th>\n",
       "      <td>1941596</td>\n",
       "      <td>无双（深圳）影业有限公司</td>\n",
       "    </tr>\n",
       "  </tbody>\n",
       "</table>\n",
       "<p>679283 rows × 2 columns</p>\n",
       "</div>"
      ]
     },
     "execution_count": 18,
     "metadata": {},
     "output_type": "execute_result"
    }
   ],
   "execution_count": 18
  },
  {
   "metadata": {},
   "cell_type": "markdown",
   "source": "Checking for total dimension of the csv",
   "id": "8ad89536ddd1700a"
  },
  {
   "metadata": {
    "ExecuteTime": {
     "end_time": "2025-05-24T13:53:11.044769Z",
     "start_time": "2025-05-24T13:53:11.039319Z"
    }
   },
   "cell_type": "code",
   "source": "df_studios.shape",
   "id": "b9e5a2d172c56567",
   "outputs": [
    {
     "data": {
      "text/plain": [
       "(679283, 2)"
      ]
     },
     "execution_count": 19,
     "metadata": {},
     "output_type": "execute_result"
    }
   ],
   "execution_count": 19
  },
  {
   "metadata": {},
   "cell_type": "markdown",
   "source": "Rename 'id' column in 'id_studio'. \"inplace = True\" modifies directly the df without creating a copy",
   "id": "12ddee03a9746eac"
  },
  {
   "metadata": {
    "ExecuteTime": {
     "end_time": "2025-05-24T13:53:11.087520Z",
     "start_time": "2025-05-24T13:53:11.082262Z"
    }
   },
   "cell_type": "code",
   "source": "df_studios.rename(columns = {\"id\":\"id_movie\"} , inplace = True)\n",
   "id": "432a0e47a6fceb51",
   "outputs": [],
   "execution_count": 20
  },
  {
   "metadata": {
    "ExecuteTime": {
     "end_time": "2025-05-24T13:53:11.196056Z",
     "start_time": "2025-05-24T13:53:11.190851Z"
    }
   },
   "cell_type": "code",
   "source": "df_studios.columns",
   "id": "d511c93c310c027a",
   "outputs": [
    {
     "data": {
      "text/plain": [
       "Index(['id_movie', 'studio'], dtype='object')"
      ]
     },
     "execution_count": 21,
     "metadata": {},
     "output_type": "execute_result"
    }
   ],
   "execution_count": 21
  },
  {
   "metadata": {},
   "cell_type": "markdown",
   "source": "Check info about column type",
   "id": "e0715abbf6238708"
  },
  {
   "metadata": {
    "ExecuteTime": {
     "end_time": "2025-05-24T13:53:11.257201Z",
     "start_time": "2025-05-24T13:53:11.250531Z"
    }
   },
   "cell_type": "code",
   "source": "df_studios.dtypes",
   "id": "4a8f184564b2c2d",
   "outputs": [
    {
     "data": {
      "text/plain": [
       "id_movie     int64\n",
       "studio      object\n",
       "dtype: object"
      ]
     },
     "execution_count": 22,
     "metadata": {},
     "output_type": "execute_result"
    }
   ],
   "execution_count": 22
  },
  {
   "metadata": {},
   "cell_type": "markdown",
   "source": "Correction of data type of the records",
   "id": "f7e67212b7997077"
  },
  {
   "metadata": {
    "ExecuteTime": {
     "end_time": "2025-05-24T13:53:11.375321Z",
     "start_time": "2025-05-24T13:53:11.306870Z"
    }
   },
   "cell_type": "code",
   "source": [
    "df_studios['id_movie'] = df_studios['id_movie'].astype('Int64')\n",
    "df_studios['studio'] = df_studios['studio'].fillna(pd.NA).astype('string')\n",
    "df_studios.dtypes"
   ],
   "id": "20c87a6f2699e841",
   "outputs": [
    {
     "data": {
      "text/plain": [
       "id_movie             Int64\n",
       "studio      string[python]\n",
       "dtype: object"
      ]
     },
     "execution_count": 23,
     "metadata": {},
     "output_type": "execute_result"
    }
   ],
   "execution_count": 23
  },
  {
   "metadata": {},
   "cell_type": "markdown",
   "source": "Check if there are duplicates",
   "id": "3cc33c02e392bc4f"
  },
  {
   "metadata": {
    "ExecuteTime": {
     "end_time": "2025-05-24T13:53:11.617439Z",
     "start_time": "2025-05-24T13:53:11.438419Z"
    }
   },
   "cell_type": "code",
   "source": "df_studios.duplicated().sum()\n",
   "id": "e288c88bf9b288cd",
   "outputs": [
    {
     "data": {
      "text/plain": [
       "np.int64(212)"
      ]
     },
     "execution_count": 24,
     "metadata": {},
     "output_type": "execute_result"
    }
   ],
   "execution_count": 24
  },
  {
   "metadata": {
    "ExecuteTime": {
     "end_time": "2025-05-24T13:53:11.978806Z",
     "start_time": "2025-05-24T13:53:11.639949Z"
    }
   },
   "cell_type": "code",
   "source": [
    "df_studios.drop_duplicates(inplace = True)\n",
    "df_studios.duplicated().sum()"
   ],
   "id": "31233cfa0b9b3ce1",
   "outputs": [
    {
     "data": {
      "text/plain": [
       "np.int64(0)"
      ]
     },
     "execution_count": 25,
     "metadata": {},
     "output_type": "execute_result"
    }
   ],
   "execution_count": 25
  },
  {
   "metadata": {},
   "cell_type": "markdown",
   "source": "Check the missing values",
   "id": "66200eda95af4101"
  },
  {
   "metadata": {
    "ExecuteTime": {
     "end_time": "2025-05-24T13:53:12.032758Z",
     "start_time": "2025-05-24T13:53:12.007348Z"
    }
   },
   "cell_type": "code",
   "source": "df_studios.isnull().sum()",
   "id": "fcef002a4002753c",
   "outputs": [
    {
     "data": {
      "text/plain": [
       "id_movie     0\n",
       "studio      10\n",
       "dtype: int64"
      ]
     },
     "execution_count": 26,
     "metadata": {},
     "output_type": "execute_result"
    }
   ],
   "execution_count": 26
  },
  {
   "metadata": {},
   "cell_type": "markdown",
   "source": "Dropping records with missing value ",
   "id": "c17318c3ff878166"
  },
  {
   "metadata": {
    "ExecuteTime": {
     "end_time": "2025-05-24T13:53:12.150781Z",
     "start_time": "2025-05-24T13:53:12.069260Z"
    }
   },
   "cell_type": "code",
   "source": [
    "df_studios = df_studios.dropna()\n",
    "df_studios.isnull().sum()"
   ],
   "id": "920630a50cad8756",
   "outputs": [
    {
     "data": {
      "text/plain": [
       "id_movie    0\n",
       "studio      0\n",
       "dtype: int64"
      ]
     },
     "execution_count": 27,
     "metadata": {},
     "output_type": "execute_result"
    }
   ],
   "execution_count": 27
  },
  {
   "metadata": {},
   "cell_type": "markdown",
   "source": "Remove studios where id_movie doesn't exist",
   "id": "9b3c37e5ad40f16d"
  },
  {
   "metadata": {
    "ExecuteTime": {
     "end_time": "2025-05-24T13:53:12.324594Z",
     "start_time": "2025-05-24T13:53:12.193654Z"
    }
   },
   "cell_type": "code",
   "source": [
    "valid_movies = pd.read_csv(\"movies_valid_ids.csv\")\n",
    "df_studios = df_studios[df_studios[\"id_movie\"].isin(valid_movies[\"id_movie\"])]\n",
    "df_studios.shape"
   ],
   "id": "4236cc04adc9eb20",
   "outputs": [
    {
     "data": {
      "text/plain": [
       "(679061, 2)"
      ]
     },
     "execution_count": 28,
     "metadata": {},
     "output_type": "execute_result"
    }
   ],
   "execution_count": 28
  },
  {
   "metadata": {},
   "cell_type": "markdown",
   "source": "Connecting to PostgreSQL database and creating the table",
   "id": "345df4f4ebf3e3b1"
  },
  {
   "metadata": {
    "ExecuteTime": {
     "end_time": "2025-05-24T13:53:12.474645Z",
     "start_time": "2025-05-24T13:53:12.346841Z"
    }
   },
   "cell_type": "code",
   "source": [
    "engine = get_db_engine()\n",
    "sql = \\\n",
    "    \"\"\"CREATE TABLE IF NOT EXISTS studios (\n",
    "            id BIGSERIAL PRIMARY KEY,\n",
    "            id_movie INTEGER CHECK (id_movie>=0),\n",
    "            studio TEXT CHECK (studio<>'')\n",
    "            );\n",
    "    \"\"\"\n",
    "execute_query(sql)"
   ],
   "id": "42fa7d6559e59633",
   "outputs": [
    {
     "name": "stdout",
     "output_type": "stream",
     "text": [
      "Query Executed Successfully!\n"
     ]
    }
   ],
   "execution_count": 29
  },
  {
   "metadata": {},
   "cell_type": "markdown",
   "source": "Population of the table using .to_sql function\n",
   "id": "7fb85bff2d644ed8"
  },
  {
   "metadata": {
    "ExecuteTime": {
     "end_time": "2025-05-24T13:53:21.042189Z",
     "start_time": "2025-05-24T13:53:12.598558Z"
    }
   },
   "cell_type": "code",
   "source": "df_studios.to_sql(\"studios\", engine, if_exists=\"append\", index=False)",
   "id": "15ee3ff4a8170fdd",
   "outputs": [
    {
     "data": {
      "text/plain": [
       "61"
      ]
     },
     "execution_count": 30,
     "metadata": {},
     "output_type": "execute_result"
    }
   ],
   "execution_count": 30
  }
 ],
 "metadata": {
  "kernelspec": {
   "display_name": "Python 3",
   "language": "python",
   "name": "python3"
  },
  "language_info": {
   "codemirror_mode": {
    "name": "ipython",
    "version": 2
   },
   "file_extension": ".py",
   "mimetype": "text/x-python",
   "name": "python",
   "nbconvert_exporter": "python",
   "pygments_lexer": "ipython2",
   "version": "2.7.6"
  }
 },
 "nbformat": 4,
 "nbformat_minor": 5
}
