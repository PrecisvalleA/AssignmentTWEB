{
 "cells": [
  {
   "metadata": {},
   "cell_type": "markdown",
   "source": "Import libraries for data cleaning ",
   "id": "a901df29f14c16d3"
  },
  {
   "cell_type": "code",
   "id": "initial_id",
   "metadata": {
    "collapsed": true,
    "ExecuteTime": {
     "end_time": "2025-03-17T11:10:25.130978Z",
     "start_time": "2025-03-17T11:10:24.888294Z"
    }
   },
   "source": [
    "import csv\n",
    "from tokenize import String\n",
    "\n",
    "from notebooks.db_connection import get_db_engine\n",
    "from notebooks.db_connection import execute_query\n",
    "import numpy as np\n",
    "import pandas as pd\n",
    "import seaborn as sns\n",
    "import os\n",
    "import re"
   ],
   "outputs": [
    {
     "name": "stdout",
     "output_type": "stream",
     "text": [
      "Connection Successful!\n"
     ]
    }
   ],
   "execution_count": 1
  },
  {
   "metadata": {},
   "cell_type": "markdown",
   "source": "Reading CSV file",
   "id": "5927963eebe59e4b"
  },
  {
   "metadata": {
    "ExecuteTime": {
     "end_time": "2025-03-17T11:10:25.398548Z",
     "start_time": "2025-03-17T11:10:25.140992Z"
    }
   },
   "cell_type": "code",
   "source": "df_languages = pd.read_csv(r\"C:\\Users\\ricca\\Desktop\\CSV\\languages.csv\\languages.csv\")",
   "id": "b5f70a56c5ff2bbd",
   "outputs": [],
   "execution_count": 2
  },
  {
   "metadata": {},
   "cell_type": "markdown",
   "source": "Top records of CSV file: languages.csv",
   "id": "2b8612a0cbed6ab9"
  },
  {
   "metadata": {
    "ExecuteTime": {
     "end_time": "2025-03-17T11:10:25.527911Z",
     "start_time": "2025-03-17T11:10:25.512171Z"
    }
   },
   "cell_type": "code",
   "source": "df_languages",
   "id": "547e23333307265b",
   "outputs": [
    {
     "data": {
      "text/plain": [
       "              id              type  language\n",
       "0        1000001          Language   English\n",
       "1        1000002  Primary language    Korean\n",
       "2        1000002   Spoken language   English\n",
       "3        1000002   Spoken language    German\n",
       "4        1000002   Spoken language    Korean\n",
       "...          ...               ...       ...\n",
       "1038757  1941593          Language   Chinese\n",
       "1038758  1941594          Language   English\n",
       "1038759  1941595          Language   English\n",
       "1038760  1941596          Language   Chinese\n",
       "1038761  1941597          Language  Japanese\n",
       "\n",
       "[1038762 rows x 3 columns]"
      ],
      "text/html": [
       "<div>\n",
       "<style scoped>\n",
       "    .dataframe tbody tr th:only-of-type {\n",
       "        vertical-align: middle;\n",
       "    }\n",
       "\n",
       "    .dataframe tbody tr th {\n",
       "        vertical-align: top;\n",
       "    }\n",
       "\n",
       "    .dataframe thead th {\n",
       "        text-align: right;\n",
       "    }\n",
       "</style>\n",
       "<table border=\"1\" class=\"dataframe\">\n",
       "  <thead>\n",
       "    <tr style=\"text-align: right;\">\n",
       "      <th></th>\n",
       "      <th>id</th>\n",
       "      <th>type</th>\n",
       "      <th>language</th>\n",
       "    </tr>\n",
       "  </thead>\n",
       "  <tbody>\n",
       "    <tr>\n",
       "      <th>0</th>\n",
       "      <td>1000001</td>\n",
       "      <td>Language</td>\n",
       "      <td>English</td>\n",
       "    </tr>\n",
       "    <tr>\n",
       "      <th>1</th>\n",
       "      <td>1000002</td>\n",
       "      <td>Primary language</td>\n",
       "      <td>Korean</td>\n",
       "    </tr>\n",
       "    <tr>\n",
       "      <th>2</th>\n",
       "      <td>1000002</td>\n",
       "      <td>Spoken language</td>\n",
       "      <td>English</td>\n",
       "    </tr>\n",
       "    <tr>\n",
       "      <th>3</th>\n",
       "      <td>1000002</td>\n",
       "      <td>Spoken language</td>\n",
       "      <td>German</td>\n",
       "    </tr>\n",
       "    <tr>\n",
       "      <th>4</th>\n",
       "      <td>1000002</td>\n",
       "      <td>Spoken language</td>\n",
       "      <td>Korean</td>\n",
       "    </tr>\n",
       "    <tr>\n",
       "      <th>...</th>\n",
       "      <td>...</td>\n",
       "      <td>...</td>\n",
       "      <td>...</td>\n",
       "    </tr>\n",
       "    <tr>\n",
       "      <th>1038757</th>\n",
       "      <td>1941593</td>\n",
       "      <td>Language</td>\n",
       "      <td>Chinese</td>\n",
       "    </tr>\n",
       "    <tr>\n",
       "      <th>1038758</th>\n",
       "      <td>1941594</td>\n",
       "      <td>Language</td>\n",
       "      <td>English</td>\n",
       "    </tr>\n",
       "    <tr>\n",
       "      <th>1038759</th>\n",
       "      <td>1941595</td>\n",
       "      <td>Language</td>\n",
       "      <td>English</td>\n",
       "    </tr>\n",
       "    <tr>\n",
       "      <th>1038760</th>\n",
       "      <td>1941596</td>\n",
       "      <td>Language</td>\n",
       "      <td>Chinese</td>\n",
       "    </tr>\n",
       "    <tr>\n",
       "      <th>1038761</th>\n",
       "      <td>1941597</td>\n",
       "      <td>Language</td>\n",
       "      <td>Japanese</td>\n",
       "    </tr>\n",
       "  </tbody>\n",
       "</table>\n",
       "<p>1038762 rows × 3 columns</p>\n",
       "</div>"
      ]
     },
     "execution_count": 3,
     "metadata": {},
     "output_type": "execute_result"
    }
   ],
   "execution_count": 3
  },
  {
   "metadata": {},
   "cell_type": "markdown",
   "source": "Checking for total dimension of the csv",
   "id": "8ad89536ddd1700a"
  },
  {
   "metadata": {
    "ExecuteTime": {
     "end_time": "2025-03-17T11:10:25.573380Z",
     "start_time": "2025-03-17T11:10:25.566578Z"
    }
   },
   "cell_type": "code",
   "source": "df_languages.shape",
   "id": "b9e5a2d172c56567",
   "outputs": [
    {
     "data": {
      "text/plain": [
       "(1038762, 3)"
      ]
     },
     "execution_count": 4,
     "metadata": {},
     "output_type": "execute_result"
    }
   ],
   "execution_count": 4
  },
  {
   "metadata": {},
   "cell_type": "markdown",
   "source": "Rename 'id' column in 'id_language'. \"inplace = True\" modifies directly the df without creating a copy",
   "id": "12ddee03a9746eac"
  },
  {
   "metadata": {
    "ExecuteTime": {
     "end_time": "2025-03-17T11:10:25.624225Z",
     "start_time": "2025-03-17T11:10:25.619715Z"
    }
   },
   "cell_type": "code",
   "source": "df_languages.rename(columns = {\"id\":\"id_movie\"} , inplace = True)\n",
   "id": "432a0e47a6fceb51",
   "outputs": [],
   "execution_count": 5
  },
  {
   "metadata": {
    "ExecuteTime": {
     "end_time": "2025-03-17T11:10:25.699183Z",
     "start_time": "2025-03-17T11:10:25.692732Z"
    }
   },
   "cell_type": "code",
   "source": "df_languages.columns",
   "id": "d511c93c310c027a",
   "outputs": [
    {
     "data": {
      "text/plain": [
       "Index(['id_movie', 'type', 'language'], dtype='object')"
      ]
     },
     "execution_count": 6,
     "metadata": {},
     "output_type": "execute_result"
    }
   ],
   "execution_count": 6
  },
  {
   "metadata": {},
   "cell_type": "markdown",
   "source": "Check info about column type",
   "id": "e0715abbf6238708"
  },
  {
   "metadata": {
    "ExecuteTime": {
     "end_time": "2025-03-17T11:10:25.741825Z",
     "start_time": "2025-03-17T11:10:25.736517Z"
    }
   },
   "cell_type": "code",
   "source": "df_languages.dtypes",
   "id": "4a8f184564b2c2d",
   "outputs": [
    {
     "data": {
      "text/plain": [
       "id_movie     int64\n",
       "type        object\n",
       "language    object\n",
       "dtype: object"
      ]
     },
     "execution_count": 7,
     "metadata": {},
     "output_type": "execute_result"
    }
   ],
   "execution_count": 7
  },
  {
   "metadata": {},
   "cell_type": "markdown",
   "source": "Correction of data type of the records",
   "id": "f7e67212b7997077"
  },
  {
   "metadata": {
    "ExecuteTime": {
     "end_time": "2025-03-17T11:10:25.930084Z",
     "start_time": "2025-03-17T11:10:25.795479Z"
    }
   },
   "cell_type": "code",
   "source": [
    "df_languages['id_movie'] = df_languages['id_movie'].astype('Int64')\n",
    "df_languages['type'] = df_languages['type'].fillna(pd.NA).astype('string')\n",
    "df_languages['language'] = df_languages['language'].fillna(pd.NA).astype('string')\n",
    "df_languages.dtypes"
   ],
   "id": "20c87a6f2699e841",
   "outputs": [
    {
     "data": {
      "text/plain": [
       "id_movie             Int64\n",
       "type        string[python]\n",
       "language    string[python]\n",
       "dtype: object"
      ]
     },
     "execution_count": 8,
     "metadata": {},
     "output_type": "execute_result"
    }
   ],
   "execution_count": 8
  },
  {
   "metadata": {},
   "cell_type": "markdown",
   "source": "Check if there are duplicates",
   "id": "3cc33c02e392bc4f"
  },
  {
   "metadata": {
    "ExecuteTime": {
     "end_time": "2025-03-17T11:10:26.178650Z",
     "start_time": "2025-03-17T11:10:25.964769Z"
    }
   },
   "cell_type": "code",
   "source": "df_languages.duplicated().sum()\n",
   "id": "e288c88bf9b288cd",
   "outputs": [
    {
     "data": {
      "text/plain": [
       "np.int64(0)"
      ]
     },
     "execution_count": 9,
     "metadata": {},
     "output_type": "execute_result"
    }
   ],
   "execution_count": 9
  },
  {
   "metadata": {
    "ExecuteTime": {
     "end_time": "2025-03-17T11:10:26.636824Z",
     "start_time": "2025-03-17T11:10:26.215746Z"
    }
   },
   "cell_type": "code",
   "source": [
    "df_languages.drop_duplicates(inplace = True)\n",
    "df_languages.duplicated().sum()"
   ],
   "id": "31233cfa0b9b3ce1",
   "outputs": [
    {
     "data": {
      "text/plain": [
       "np.int64(0)"
      ]
     },
     "execution_count": 10,
     "metadata": {},
     "output_type": "execute_result"
    }
   ],
   "execution_count": 10
  },
  {
   "metadata": {},
   "cell_type": "markdown",
   "source": "Check the missing values",
   "id": "66200eda95af4101"
  },
  {
   "metadata": {
    "ExecuteTime": {
     "end_time": "2025-03-17T11:10:26.719332Z",
     "start_time": "2025-03-17T11:10:26.670862Z"
    }
   },
   "cell_type": "code",
   "source": "df_languages.isnull().sum()",
   "id": "fcef002a4002753c",
   "outputs": [
    {
     "data": {
      "text/plain": [
       "id_movie    0\n",
       "type        0\n",
       "language    0\n",
       "dtype: int64"
      ]
     },
     "execution_count": 11,
     "metadata": {},
     "output_type": "execute_result"
    }
   ],
   "execution_count": 11
  },
  {
   "metadata": {},
   "cell_type": "markdown",
   "source": "Dropping records with missing value ",
   "id": "c17318c3ff878166"
  },
  {
   "metadata": {
    "ExecuteTime": {
     "end_time": "2025-03-17T11:10:26.919974Z",
     "start_time": "2025-03-17T11:10:26.756186Z"
    }
   },
   "cell_type": "code",
   "source": [
    "df_languages = df_languages.dropna()\n",
    "df_languages.isnull().sum()"
   ],
   "id": "920630a50cad8756",
   "outputs": [
    {
     "data": {
      "text/plain": [
       "id_movie    0\n",
       "type        0\n",
       "language    0\n",
       "dtype: int64"
      ]
     },
     "execution_count": 12,
     "metadata": {},
     "output_type": "execute_result"
    }
   ],
   "execution_count": 12
  },
  {
   "metadata": {},
   "cell_type": "markdown",
   "source": "Remove languages where id_movie doesn't exist",
   "id": "4a3f6abb362b666"
  },
  {
   "metadata": {
    "ExecuteTime": {
     "end_time": "2025-03-17T11:10:27.134203Z",
     "start_time": "2025-03-17T11:10:26.953249Z"
    }
   },
   "cell_type": "code",
   "source": [
    "valid_movies = pd.read_csv(\"movies_valid_ids.csv\")\n",
    "df_languages = df_languages[df_languages[\"id_movie\"].isin(valid_movies[\"id_movie\"])]\n",
    "df_languages.shape"
   ],
   "id": "cc45733afab087bb",
   "outputs": [
    {
     "data": {
      "text/plain": [
       "(1038753, 3)"
      ]
     },
     "execution_count": 13,
     "metadata": {},
     "output_type": "execute_result"
    }
   ],
   "execution_count": 13
  },
  {
   "metadata": {},
   "cell_type": "markdown",
   "source": "Connecting to PostgreSQL database and creating the table",
   "id": "6b5cdace0f89504a"
  },
  {
   "metadata": {
    "ExecuteTime": {
     "end_time": "2025-03-17T11:10:27.339045Z",
     "start_time": "2025-03-17T11:10:27.234392Z"
    }
   },
   "cell_type": "code",
   "source": [
    "engine = get_db_engine()\n",
    "sql = \\\n",
    "    \"\"\"CREATE TABLE IF NOT EXISTS languages (\n",
    "            id_movie INTEGER CHECK (id_movie>0),\n",
    "            type TEXT CHECK (type<>''),\n",
    "            language TEXT CHECK (language<>''),\n",
    "\n",
    "            PRIMARY KEY (id_movie, type, language)\n",
    "            );\n",
    "    \"\"\"\n",
    "execute_query(sql)"
   ],
   "id": "4dbdc52711e9d867",
   "outputs": [
    {
     "name": "stdout",
     "output_type": "stream",
     "text": [
      "Query Executed Successfully!\n"
     ]
    }
   ],
   "execution_count": 14
  },
  {
   "metadata": {},
   "cell_type": "markdown",
   "source": "Population of the table using .to_sql function",
   "id": "3e81be480ba4eea5"
  },
  {
   "metadata": {
    "ExecuteTime": {
     "end_time": "2025-03-17T11:10:48.256848Z",
     "start_time": "2025-03-17T11:10:27.369939Z"
    }
   },
   "cell_type": "code",
   "source": "df_languages.to_sql(\"languages\", engine, if_exists=\"append\", index=False)",
   "id": "be8e3541fb2e6c4e",
   "outputs": [
    {
     "data": {
      "text/plain": [
       "753"
      ]
     },
     "execution_count": 15,
     "metadata": {},
     "output_type": "execute_result"
    }
   ],
   "execution_count": 15
  }
 ],
 "metadata": {
  "kernelspec": {
   "display_name": "Python 3",
   "language": "python",
   "name": "python3"
  },
  "language_info": {
   "codemirror_mode": {
    "name": "ipython",
    "version": 2
   },
   "file_extension": ".py",
   "mimetype": "text/x-python",
   "name": "python",
   "nbconvert_exporter": "python",
   "pygments_lexer": "ipython2",
   "version": "2.7.6"
  }
 },
 "nbformat": 4,
 "nbformat_minor": 5
}
