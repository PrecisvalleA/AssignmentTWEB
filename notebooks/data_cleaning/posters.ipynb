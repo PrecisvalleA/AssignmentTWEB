{
 "cells": [
  {
   "metadata": {},
   "cell_type": "markdown",
   "source": "Import libraries for data cleaning ",
   "id": "a901df29f14c16d3"
  },
  {
   "cell_type": "code",
   "id": "initial_id",
   "metadata": {
    "collapsed": true,
    "ExecuteTime": {
     "end_time": "2025-05-27T21:48:23.264385Z",
     "start_time": "2025-05-27T21:48:22.715221Z"
    }
   },
   "source": [
    "\n",
    "\n",
    "from notebooks.db_connection import get_db_engine\n",
    "from notebooks.db_connection import execute_query\n",
    "import pandas as pd"
   ],
   "outputs": [
    {
     "name": "stdout",
     "output_type": "stream",
     "text": [
      "Connection Successful!\n"
     ]
    }
   ],
   "execution_count": 1
  },
  {
   "metadata": {},
   "cell_type": "markdown",
   "source": "Reading CSV file",
   "id": "5927963eebe59e4b"
  },
  {
   "metadata": {
    "ExecuteTime": {
     "end_time": "2025-05-27T21:48:25.433698Z",
     "start_time": "2025-05-27T21:48:23.561162Z"
    }
   },
   "cell_type": "code",
   "source": "df_posters = pd.read_csv(r\"C:\\Users\\aless\\Desktop\\Uni\\Dataset\\posters.csv\\posters.csv\")",
   "id": "b5f70a56c5ff2bbd",
   "outputs": [],
   "execution_count": 2
  },
  {
   "metadata": {},
   "cell_type": "markdown",
   "source": "Top records of CSV file: posters.csv",
   "id": "2b8612a0cbed6ab9"
  },
  {
   "metadata": {
    "ExecuteTime": {
     "end_time": "2025-05-27T21:48:25.510801Z",
     "start_time": "2025-05-27T21:48:25.487580Z"
    }
   },
   "cell_type": "code",
   "source": "df_posters",
   "id": "547e23333307265b",
   "outputs": [
    {
     "data": {
      "text/plain": [
       "             id                                               link\n",
       "0       1000001  https://a.ltrbxd.com/resized/film-poster/2/7/7...\n",
       "1       1000002  https://a.ltrbxd.com/resized/film-poster/4/2/6...\n",
       "2       1000003  https://a.ltrbxd.com/resized/film-poster/4/7/4...\n",
       "3       1000004  https://a.ltrbxd.com/resized/film-poster/5/1/5...\n",
       "4       1000005  https://a.ltrbxd.com/resized/film-poster/2/4/0...\n",
       "...         ...                                                ...\n",
       "941592  1941593                                                NaN\n",
       "941593  1941594                                                NaN\n",
       "941594  1941595  https://a.ltrbxd.com/resized/film-poster/1/1/8...\n",
       "941595  1941596  https://a.ltrbxd.com/resized/film-poster/1/1/8...\n",
       "941596  1941597                                                NaN\n",
       "\n",
       "[941597 rows x 2 columns]"
      ],
      "text/html": [
       "<div>\n",
       "<style scoped>\n",
       "    .dataframe tbody tr th:only-of-type {\n",
       "        vertical-align: middle;\n",
       "    }\n",
       "\n",
       "    .dataframe tbody tr th {\n",
       "        vertical-align: top;\n",
       "    }\n",
       "\n",
       "    .dataframe thead th {\n",
       "        text-align: right;\n",
       "    }\n",
       "</style>\n",
       "<table border=\"1\" class=\"dataframe\">\n",
       "  <thead>\n",
       "    <tr style=\"text-align: right;\">\n",
       "      <th></th>\n",
       "      <th>id</th>\n",
       "      <th>link</th>\n",
       "    </tr>\n",
       "  </thead>\n",
       "  <tbody>\n",
       "    <tr>\n",
       "      <th>0</th>\n",
       "      <td>1000001</td>\n",
       "      <td>https://a.ltrbxd.com/resized/film-poster/2/7/7...</td>\n",
       "    </tr>\n",
       "    <tr>\n",
       "      <th>1</th>\n",
       "      <td>1000002</td>\n",
       "      <td>https://a.ltrbxd.com/resized/film-poster/4/2/6...</td>\n",
       "    </tr>\n",
       "    <tr>\n",
       "      <th>2</th>\n",
       "      <td>1000003</td>\n",
       "      <td>https://a.ltrbxd.com/resized/film-poster/4/7/4...</td>\n",
       "    </tr>\n",
       "    <tr>\n",
       "      <th>3</th>\n",
       "      <td>1000004</td>\n",
       "      <td>https://a.ltrbxd.com/resized/film-poster/5/1/5...</td>\n",
       "    </tr>\n",
       "    <tr>\n",
       "      <th>4</th>\n",
       "      <td>1000005</td>\n",
       "      <td>https://a.ltrbxd.com/resized/film-poster/2/4/0...</td>\n",
       "    </tr>\n",
       "    <tr>\n",
       "      <th>...</th>\n",
       "      <td>...</td>\n",
       "      <td>...</td>\n",
       "    </tr>\n",
       "    <tr>\n",
       "      <th>941592</th>\n",
       "      <td>1941593</td>\n",
       "      <td>NaN</td>\n",
       "    </tr>\n",
       "    <tr>\n",
       "      <th>941593</th>\n",
       "      <td>1941594</td>\n",
       "      <td>NaN</td>\n",
       "    </tr>\n",
       "    <tr>\n",
       "      <th>941594</th>\n",
       "      <td>1941595</td>\n",
       "      <td>https://a.ltrbxd.com/resized/film-poster/1/1/8...</td>\n",
       "    </tr>\n",
       "    <tr>\n",
       "      <th>941595</th>\n",
       "      <td>1941596</td>\n",
       "      <td>https://a.ltrbxd.com/resized/film-poster/1/1/8...</td>\n",
       "    </tr>\n",
       "    <tr>\n",
       "      <th>941596</th>\n",
       "      <td>1941597</td>\n",
       "      <td>NaN</td>\n",
       "    </tr>\n",
       "  </tbody>\n",
       "</table>\n",
       "<p>941597 rows × 2 columns</p>\n",
       "</div>"
      ]
     },
     "execution_count": 3,
     "metadata": {},
     "output_type": "execute_result"
    }
   ],
   "execution_count": 3
  },
  {
   "metadata": {},
   "cell_type": "markdown",
   "source": "Checking for total dimension of the csv",
   "id": "8ad89536ddd1700a"
  },
  {
   "metadata": {
    "ExecuteTime": {
     "end_time": "2025-05-27T21:48:25.583151Z",
     "start_time": "2025-05-27T21:48:25.574164Z"
    }
   },
   "cell_type": "code",
   "source": "df_posters.shape",
   "id": "b9e5a2d172c56567",
   "outputs": [
    {
     "data": {
      "text/plain": [
       "(941597, 2)"
      ]
     },
     "execution_count": 4,
     "metadata": {},
     "output_type": "execute_result"
    }
   ],
   "execution_count": 4
  },
  {
   "metadata": {},
   "cell_type": "markdown",
   "source": "Rename 'id' column in 'id_release'. \"inplace = True\" modifies directly the df without creating a copy",
   "id": "12ddee03a9746eac"
  },
  {
   "metadata": {
    "ExecuteTime": {
     "end_time": "2025-05-27T21:48:25.681970Z",
     "start_time": "2025-05-27T21:48:25.675280Z"
    }
   },
   "cell_type": "code",
   "source": "df_posters.rename(columns = {\"id\":\"id_movie\"} , inplace = True)\n",
   "id": "432a0e47a6fceb51",
   "outputs": [],
   "execution_count": 5
  },
  {
   "metadata": {
    "ExecuteTime": {
     "end_time": "2025-05-27T21:48:25.780427Z",
     "start_time": "2025-05-27T21:48:25.772451Z"
    }
   },
   "cell_type": "code",
   "source": "df_posters.columns",
   "id": "d511c93c310c027a",
   "outputs": [
    {
     "data": {
      "text/plain": [
       "Index(['id_movie', 'link'], dtype='object')"
      ]
     },
     "execution_count": 6,
     "metadata": {},
     "output_type": "execute_result"
    }
   ],
   "execution_count": 6
  },
  {
   "metadata": {},
   "cell_type": "markdown",
   "source": "Check info about column type",
   "id": "e0715abbf6238708"
  },
  {
   "metadata": {
    "ExecuteTime": {
     "end_time": "2025-05-27T21:48:25.862304Z",
     "start_time": "2025-05-27T21:48:25.850639Z"
    }
   },
   "cell_type": "code",
   "source": "df_posters.dtypes",
   "id": "4a8f184564b2c2d",
   "outputs": [
    {
     "data": {
      "text/plain": [
       "id_movie     int64\n",
       "link        object\n",
       "dtype: object"
      ]
     },
     "execution_count": 7,
     "metadata": {},
     "output_type": "execute_result"
    }
   ],
   "execution_count": 7
  },
  {
   "metadata": {},
   "cell_type": "markdown",
   "source": "Correction of data type of the records",
   "id": "f7e67212b7997077"
  },
  {
   "metadata": {
    "ExecuteTime": {
     "end_time": "2025-05-27T21:48:26.433304Z",
     "start_time": "2025-05-27T21:48:25.944883Z"
    }
   },
   "cell_type": "code",
   "source": [
    "df_posters['id_movie'] = df_posters['id_movie'].astype('Int64')\n",
    "df_posters['link'] = df_posters['link'].fillna(pd.NA).astype('string')\n",
    "\n",
    "df_posters.dtypes"
   ],
   "id": "20c87a6f2699e841",
   "outputs": [
    {
     "data": {
      "text/plain": [
       "id_movie             Int64\n",
       "link        string[python]\n",
       "dtype: object"
      ]
     },
     "execution_count": 8,
     "metadata": {},
     "output_type": "execute_result"
    }
   ],
   "execution_count": 8
  },
  {
   "metadata": {},
   "cell_type": "markdown",
   "source": "Check if there are duplicates",
   "id": "3cc33c02e392bc4f"
  },
  {
   "metadata": {
    "ExecuteTime": {
     "end_time": "2025-05-27T21:48:27.108985Z",
     "start_time": "2025-05-27T21:48:26.494604Z"
    }
   },
   "cell_type": "code",
   "source": "df_posters.duplicated().sum()\n",
   "id": "e288c88bf9b288cd",
   "outputs": [
    {
     "data": {
      "text/plain": [
       "np.int64(0)"
      ]
     },
     "execution_count": 9,
     "metadata": {},
     "output_type": "execute_result"
    }
   ],
   "execution_count": 9
  },
  {
   "metadata": {
    "ExecuteTime": {
     "end_time": "2025-05-27T21:48:28.416729Z",
     "start_time": "2025-05-27T21:48:27.205443Z"
    }
   },
   "cell_type": "code",
   "source": [
    "df_posters.drop_duplicates(inplace = True)\n",
    "df_posters.duplicated().sum()"
   ],
   "id": "31233cfa0b9b3ce1",
   "outputs": [
    {
     "data": {
      "text/plain": [
       "np.int64(0)"
      ]
     },
     "execution_count": 10,
     "metadata": {},
     "output_type": "execute_result"
    }
   ],
   "execution_count": 10
  },
  {
   "metadata": {},
   "cell_type": "markdown",
   "source": "Check the missing values",
   "id": "66200eda95af4101"
  },
  {
   "metadata": {
    "ExecuteTime": {
     "end_time": "2025-05-27T21:48:28.556134Z",
     "start_time": "2025-05-27T21:48:28.475551Z"
    }
   },
   "cell_type": "code",
   "source": "df_posters.isnull().sum()",
   "id": "fcef002a4002753c",
   "outputs": [
    {
     "data": {
      "text/plain": [
       "id_movie         0\n",
       "link        180712\n",
       "dtype: int64"
      ]
     },
     "execution_count": 11,
     "metadata": {},
     "output_type": "execute_result"
    }
   ],
   "execution_count": 11
  },
  {
   "metadata": {},
   "cell_type": "markdown",
   "source": "Dropping records with missing value ",
   "id": "c17318c3ff878166"
  },
  {
   "metadata": {
    "ExecuteTime": {
     "end_time": "2025-05-27T21:48:28.959864Z",
     "start_time": "2025-05-27T21:48:28.681270Z"
    }
   },
   "cell_type": "code",
   "source": [
    "df_posters = df_posters.dropna()\n",
    "df_posters.isnull().sum()"
   ],
   "id": "920630a50cad8756",
   "outputs": [
    {
     "data": {
      "text/plain": [
       "id_movie    0\n",
       "link        0\n",
       "dtype: int64"
      ]
     },
     "execution_count": 12,
     "metadata": {},
     "output_type": "execute_result"
    }
   ],
   "execution_count": 12
  },
  {
   "metadata": {},
   "cell_type": "markdown",
   "source": "Remove posters where id_movie doesn't exist",
   "id": "304439fde04d9408"
  },
  {
   "metadata": {
    "ExecuteTime": {
     "end_time": "2025-05-27T21:48:29.441813Z",
     "start_time": "2025-05-27T21:48:29.040532Z"
    }
   },
   "cell_type": "code",
   "source": [
    "valid_movies = pd.read_csv(\"movies_valid_ids.csv\")\n",
    "df_posters = df_posters[df_posters[\"id_movie\"].isin(valid_movies[\"id_movie\"])]\n",
    "df_posters.shape"
   ],
   "id": "12f628a2d65aca72",
   "outputs": [
    {
     "data": {
      "text/plain": [
       "(760879, 2)"
      ]
     },
     "execution_count": 13,
     "metadata": {},
     "output_type": "execute_result"
    }
   ],
   "execution_count": 13
  },
  {
   "metadata": {},
   "cell_type": "markdown",
   "source": "Connecting to PostgreSQL database and creating the table",
   "id": "4aaa494897ce2c9a"
  },
  {
   "metadata": {
    "ExecuteTime": {
     "end_time": "2025-05-27T21:48:30.078265Z",
     "start_time": "2025-05-27T21:48:29.605018Z"
    }
   },
   "cell_type": "code",
   "source": [
    "engine = get_db_engine()\n",
    "sql = \\\n",
    "    \"\"\"CREATE TABLE IF NOT EXISTS posters (\n",
    "            id BIGSERIAL PRIMARY KEY,\n",
    "            id_movie INTEGER CHECK (id_movie>=0),\n",
    "            link TEXT CHECK (link<>'')\n",
    "            );\n",
    "    \"\"\"\n",
    "execute_query(sql)"
   ],
   "id": "e9a3409047c3c2aa",
   "outputs": [
    {
     "name": "stdout",
     "output_type": "stream",
     "text": [
      "Query Executed Successfully!\n"
     ]
    }
   ],
   "execution_count": 14
  },
  {
   "metadata": {},
   "cell_type": "markdown",
   "source": "Population of the table using .to_sql function",
   "id": "77a71d8f55446ad"
  },
  {
   "metadata": {
    "ExecuteTime": {
     "end_time": "2025-05-27T21:48:50.645881Z",
     "start_time": "2025-05-27T21:48:30.156696Z"
    }
   },
   "cell_type": "code",
   "source": "df_posters.to_sql(\"posters\", engine, if_exists=\"append\", index=False)",
   "id": "d8b1759c7d9bd1d8",
   "outputs": [
    {
     "data": {
      "text/plain": [
       "879"
      ]
     },
     "execution_count": 15,
     "metadata": {},
     "output_type": "execute_result"
    }
   ],
   "execution_count": 15
  }
 ],
 "metadata": {
  "kernelspec": {
   "display_name": "Python 3",
   "language": "python",
   "name": "python3"
  },
  "language_info": {
   "codemirror_mode": {
    "name": "ipython",
    "version": 2
   },
   "file_extension": ".py",
   "mimetype": "text/x-python",
   "name": "python",
   "nbconvert_exporter": "python",
   "pygments_lexer": "ipython2",
   "version": "2.7.6"
  }
 },
 "nbformat": 4,
 "nbformat_minor": 5
}
