{
 "cells": [
  {
   "metadata": {},
   "cell_type": "markdown",
   "source": "Import libraries for data cleaning ",
   "id": "a901df29f14c16d3"
  },
  {
   "cell_type": "code",
   "id": "initial_id",
   "metadata": {
    "collapsed": true,
    "ExecuteTime": {
     "end_time": "2025-06-09T11:15:10.448559Z",
     "start_time": "2025-06-09T11:15:10.437718Z"
    }
   },
   "source": [
    "from notebooks.db_connection import get_db_engine\n",
    "from notebooks.db_connection import execute_query\n",
    "import pandas as pd"
   ],
   "outputs": [],
   "execution_count": 125
  },
  {
   "metadata": {},
   "cell_type": "markdown",
   "source": "Reading CSV file",
   "id": "5927963eebe59e4b"
  },
  {
   "metadata": {
    "ExecuteTime": {
     "end_time": "2025-06-09T11:15:13.806632Z",
     "start_time": "2025-06-09T11:15:10.454566Z"
    }
   },
   "cell_type": "code",
   "source": "df_movies = pd.read_csv(r\"C:\\Users\\ricca\\Desktop\\CSV\\movies.csv\\movies.csv\")",
   "id": "b5f70a56c5ff2bbd",
   "outputs": [],
   "execution_count": 126
  },
  {
   "metadata": {},
   "cell_type": "markdown",
   "source": "Top records of CSV file: movies.csv",
   "id": "2b8612a0cbed6ab9"
  },
  {
   "metadata": {
    "ExecuteTime": {
     "end_time": "2025-06-09T11:15:13.892635Z",
     "start_time": "2025-06-09T11:15:13.862248Z"
    }
   },
   "cell_type": "code",
   "source": "df_movies",
   "id": "547e23333307265b",
   "outputs": [
    {
     "data": {
      "text/plain": [
       "             id                               name    date  \\\n",
       "0       1000001                             Barbie  2023.0   \n",
       "1       1000002                           Parasite  2019.0   \n",
       "2       1000003  Everything Everywhere All at Once  2022.0   \n",
       "3       1000004                         Fight Club  1999.0   \n",
       "4       1000005                         La La Land  2016.0   \n",
       "...         ...                                ...     ...   \n",
       "941592  1941593                                 神笛     NaN   \n",
       "941593  1941594                      蟲極道蜜団子抗争編 壱ノ巻     NaN   \n",
       "941594  1941595                      蟲極道蜜団子抗争編 弐ノ巻     NaN   \n",
       "941595  1941596                                 重生     NaN   \n",
       "941596  1941597                             青ひげ公の城     NaN   \n",
       "\n",
       "                                                 tagline  \\\n",
       "0                       She's everything. He's just Ken.   \n",
       "1                            Act like you own the place.   \n",
       "2       The universe is so much bigger than you realize.   \n",
       "3                                Mischief. Mayhem. Soap.   \n",
       "4                         Here's to the fools who dream.   \n",
       "...                                                  ...   \n",
       "941592                                               NaN   \n",
       "941593                                               NaN   \n",
       "941594                                               NaN   \n",
       "941595                                               NaN   \n",
       "941596                                               NaN   \n",
       "\n",
       "                                              description  minute  rating  \n",
       "0       Barbie and Ken are having the time of their li...   114.0    3.86  \n",
       "1       All unemployed, Ki-taek's family takes peculia...   133.0    4.56  \n",
       "2       An aging Chinese immigrant is swept up in an i...   140.0    4.30  \n",
       "3       A ticking-time-bomb insomniac and a slippery s...   139.0    4.27  \n",
       "4       Mia, an aspiring actress, serves lattes to mov...   129.0    4.09  \n",
       "...                                                   ...     ...     ...  \n",
       "941592                                                NaN     NaN     NaN  \n",
       "941593  Shinjuku forest at night. In the sap taverns o...    30.0     NaN  \n",
       "941594  The city that never sleeps, where insects gath...    30.0     NaN  \n",
       "941595  In a world where order has broken down, darkne...     NaN     NaN  \n",
       "941596                                                NaN   130.0     NaN  \n",
       "\n",
       "[941597 rows x 7 columns]"
      ],
      "text/html": [
       "<div>\n",
       "<style scoped>\n",
       "    .dataframe tbody tr th:only-of-type {\n",
       "        vertical-align: middle;\n",
       "    }\n",
       "\n",
       "    .dataframe tbody tr th {\n",
       "        vertical-align: top;\n",
       "    }\n",
       "\n",
       "    .dataframe thead th {\n",
       "        text-align: right;\n",
       "    }\n",
       "</style>\n",
       "<table border=\"1\" class=\"dataframe\">\n",
       "  <thead>\n",
       "    <tr style=\"text-align: right;\">\n",
       "      <th></th>\n",
       "      <th>id</th>\n",
       "      <th>name</th>\n",
       "      <th>date</th>\n",
       "      <th>tagline</th>\n",
       "      <th>description</th>\n",
       "      <th>minute</th>\n",
       "      <th>rating</th>\n",
       "    </tr>\n",
       "  </thead>\n",
       "  <tbody>\n",
       "    <tr>\n",
       "      <th>0</th>\n",
       "      <td>1000001</td>\n",
       "      <td>Barbie</td>\n",
       "      <td>2023.0</td>\n",
       "      <td>She's everything. He's just Ken.</td>\n",
       "      <td>Barbie and Ken are having the time of their li...</td>\n",
       "      <td>114.0</td>\n",
       "      <td>3.86</td>\n",
       "    </tr>\n",
       "    <tr>\n",
       "      <th>1</th>\n",
       "      <td>1000002</td>\n",
       "      <td>Parasite</td>\n",
       "      <td>2019.0</td>\n",
       "      <td>Act like you own the place.</td>\n",
       "      <td>All unemployed, Ki-taek's family takes peculia...</td>\n",
       "      <td>133.0</td>\n",
       "      <td>4.56</td>\n",
       "    </tr>\n",
       "    <tr>\n",
       "      <th>2</th>\n",
       "      <td>1000003</td>\n",
       "      <td>Everything Everywhere All at Once</td>\n",
       "      <td>2022.0</td>\n",
       "      <td>The universe is so much bigger than you realize.</td>\n",
       "      <td>An aging Chinese immigrant is swept up in an i...</td>\n",
       "      <td>140.0</td>\n",
       "      <td>4.30</td>\n",
       "    </tr>\n",
       "    <tr>\n",
       "      <th>3</th>\n",
       "      <td>1000004</td>\n",
       "      <td>Fight Club</td>\n",
       "      <td>1999.0</td>\n",
       "      <td>Mischief. Mayhem. Soap.</td>\n",
       "      <td>A ticking-time-bomb insomniac and a slippery s...</td>\n",
       "      <td>139.0</td>\n",
       "      <td>4.27</td>\n",
       "    </tr>\n",
       "    <tr>\n",
       "      <th>4</th>\n",
       "      <td>1000005</td>\n",
       "      <td>La La Land</td>\n",
       "      <td>2016.0</td>\n",
       "      <td>Here's to the fools who dream.</td>\n",
       "      <td>Mia, an aspiring actress, serves lattes to mov...</td>\n",
       "      <td>129.0</td>\n",
       "      <td>4.09</td>\n",
       "    </tr>\n",
       "    <tr>\n",
       "      <th>...</th>\n",
       "      <td>...</td>\n",
       "      <td>...</td>\n",
       "      <td>...</td>\n",
       "      <td>...</td>\n",
       "      <td>...</td>\n",
       "      <td>...</td>\n",
       "      <td>...</td>\n",
       "    </tr>\n",
       "    <tr>\n",
       "      <th>941592</th>\n",
       "      <td>1941593</td>\n",
       "      <td>神笛</td>\n",
       "      <td>NaN</td>\n",
       "      <td>NaN</td>\n",
       "      <td>NaN</td>\n",
       "      <td>NaN</td>\n",
       "      <td>NaN</td>\n",
       "    </tr>\n",
       "    <tr>\n",
       "      <th>941593</th>\n",
       "      <td>1941594</td>\n",
       "      <td>蟲極道蜜団子抗争編 壱ノ巻</td>\n",
       "      <td>NaN</td>\n",
       "      <td>NaN</td>\n",
       "      <td>Shinjuku forest at night. In the sap taverns o...</td>\n",
       "      <td>30.0</td>\n",
       "      <td>NaN</td>\n",
       "    </tr>\n",
       "    <tr>\n",
       "      <th>941594</th>\n",
       "      <td>1941595</td>\n",
       "      <td>蟲極道蜜団子抗争編 弐ノ巻</td>\n",
       "      <td>NaN</td>\n",
       "      <td>NaN</td>\n",
       "      <td>The city that never sleeps, where insects gath...</td>\n",
       "      <td>30.0</td>\n",
       "      <td>NaN</td>\n",
       "    </tr>\n",
       "    <tr>\n",
       "      <th>941595</th>\n",
       "      <td>1941596</td>\n",
       "      <td>重生</td>\n",
       "      <td>NaN</td>\n",
       "      <td>NaN</td>\n",
       "      <td>In a world where order has broken down, darkne...</td>\n",
       "      <td>NaN</td>\n",
       "      <td>NaN</td>\n",
       "    </tr>\n",
       "    <tr>\n",
       "      <th>941596</th>\n",
       "      <td>1941597</td>\n",
       "      <td>青ひげ公の城</td>\n",
       "      <td>NaN</td>\n",
       "      <td>NaN</td>\n",
       "      <td>NaN</td>\n",
       "      <td>130.0</td>\n",
       "      <td>NaN</td>\n",
       "    </tr>\n",
       "  </tbody>\n",
       "</table>\n",
       "<p>941597 rows × 7 columns</p>\n",
       "</div>"
      ]
     },
     "execution_count": 127,
     "metadata": {},
     "output_type": "execute_result"
    }
   ],
   "execution_count": 127
  },
  {
   "metadata": {},
   "cell_type": "markdown",
   "source": "Checking for total dimension of the csv",
   "id": "8ad89536ddd1700a"
  },
  {
   "metadata": {
    "ExecuteTime": {
     "end_time": "2025-06-09T11:15:14.085785Z",
     "start_time": "2025-06-09T11:15:14.078786Z"
    }
   },
   "cell_type": "code",
   "source": "df_movies.shape",
   "id": "b9e5a2d172c56567",
   "outputs": [
    {
     "data": {
      "text/plain": [
       "(941597, 7)"
      ]
     },
     "execution_count": 128,
     "metadata": {},
     "output_type": "execute_result"
    }
   ],
   "execution_count": 128
  },
  {
   "metadata": {},
   "cell_type": "markdown",
   "source": "Check info about column type",
   "id": "e0715abbf6238708"
  },
  {
   "metadata": {
    "ExecuteTime": {
     "end_time": "2025-06-09T11:15:14.161718Z",
     "start_time": "2025-06-09T11:15:14.153716Z"
    }
   },
   "cell_type": "code",
   "source": "df_movies.dtypes",
   "id": "4a8f184564b2c2d",
   "outputs": [
    {
     "data": {
      "text/plain": [
       "id               int64\n",
       "name            object\n",
       "date           float64\n",
       "tagline         object\n",
       "description     object\n",
       "minute         float64\n",
       "rating         float64\n",
       "dtype: object"
      ]
     },
     "execution_count": 129,
     "metadata": {},
     "output_type": "execute_result"
    }
   ],
   "execution_count": 129
  },
  {
   "metadata": {},
   "cell_type": "markdown",
   "source": "Correction of data type of the records",
   "id": "f7e67212b7997077"
  },
  {
   "metadata": {
    "ExecuteTime": {
     "end_time": "2025-06-09T11:15:14.992092Z",
     "start_time": "2025-06-09T11:15:14.403761Z"
    }
   },
   "cell_type": "code",
   "source": [
    "df_movies['id'] = df_movies['id'].astype('Int64')\n",
    "df_movies['name'] = df_movies['name'].fillna(pd.NA).astype('string')\n",
    "df_movies['date'] = df_movies['date'].fillna(pd.NA).astype('Int64')\n",
    "df_movies['tagline'] = df_movies['tagline'].fillna(pd.NA).astype('string')\n",
    "df_movies['description'] = df_movies['description'].fillna(pd.NA).astype('string')\n",
    "df_movies['minute'] = df_movies['minute'].fillna(pd.NA).astype('float64')\n",
    "df_movies['rating'] = df_movies['rating'].fillna(pd.NA).astype('float64')\n",
    "df_movies.dtypes"
   ],
   "id": "20c87a6f2699e841",
   "outputs": [
    {
     "data": {
      "text/plain": [
       "id                      Int64\n",
       "name           string[python]\n",
       "date                    Int64\n",
       "tagline        string[python]\n",
       "description    string[python]\n",
       "minute                float64\n",
       "rating                float64\n",
       "dtype: object"
      ]
     },
     "execution_count": 130,
     "metadata": {},
     "output_type": "execute_result"
    }
   ],
   "execution_count": 130
  },
  {
   "metadata": {},
   "cell_type": "markdown",
   "source": "Check if there are duplicates",
   "id": "3cc33c02e392bc4f"
  },
  {
   "metadata": {
    "ExecuteTime": {
     "end_time": "2025-06-09T11:15:15.928532Z",
     "start_time": "2025-06-09T11:15:15.041009Z"
    }
   },
   "cell_type": "code",
   "source": "df_movies.duplicated().sum()\n",
   "id": "e288c88bf9b288cd",
   "outputs": [
    {
     "data": {
      "text/plain": [
       "np.int64(0)"
      ]
     },
     "execution_count": 131,
     "metadata": {},
     "output_type": "execute_result"
    }
   ],
   "execution_count": 131
  },
  {
   "metadata": {
    "ExecuteTime": {
     "end_time": "2025-06-09T11:15:17.382605Z",
     "start_time": "2025-06-09T11:15:15.961556Z"
    }
   },
   "cell_type": "code",
   "source": [
    "df_movies.drop_duplicates(inplace = True)\n",
    "df_movies.duplicated().sum()"
   ],
   "id": "31233cfa0b9b3ce1",
   "outputs": [
    {
     "data": {
      "text/plain": [
       "np.int64(0)"
      ]
     },
     "execution_count": 132,
     "metadata": {},
     "output_type": "execute_result"
    }
   ],
   "execution_count": 132
  },
  {
   "metadata": {},
   "cell_type": "markdown",
   "source": "Check the missing values",
   "id": "66200eda95af4101"
  },
  {
   "metadata": {
    "ExecuteTime": {
     "end_time": "2025-06-09T11:15:17.517463Z",
     "start_time": "2025-06-09T11:15:17.419611Z"
    }
   },
   "cell_type": "code",
   "source": "df_movies.isnull().sum()",
   "id": "fcef002a4002753c",
   "outputs": [
    {
     "data": {
      "text/plain": [
       "id                  0\n",
       "name               10\n",
       "date            91913\n",
       "tagline        802210\n",
       "description    160812\n",
       "minute         181570\n",
       "rating         850598\n",
       "dtype: int64"
      ]
     },
     "execution_count": 133,
     "metadata": {},
     "output_type": "execute_result"
    }
   ],
   "execution_count": 133
  },
  {
   "metadata": {},
   "cell_type": "markdown",
   "source": "Dropping records with missing value ",
   "id": "c17318c3ff878166"
  },
  {
   "metadata": {
    "ExecuteTime": {
     "end_time": "2025-06-09T11:15:17.912486Z",
     "start_time": "2025-06-09T11:15:17.550256Z"
    }
   },
   "cell_type": "code",
   "source": [
    "df_movies.dropna(subset=['id', 'name'], inplace = True)\n",
    "df_movies.isnull().sum()"
   ],
   "id": "920630a50cad8756",
   "outputs": [
    {
     "data": {
      "text/plain": [
       "id                  0\n",
       "name                0\n",
       "date            91905\n",
       "tagline        802200\n",
       "description    160804\n",
       "minute         181563\n",
       "rating         850588\n",
       "dtype: int64"
      ]
     },
     "execution_count": 134,
     "metadata": {},
     "output_type": "execute_result"
    }
   ],
   "execution_count": 134
  },
  {
   "metadata": {},
   "cell_type": "markdown",
   "source": [
    "Save a new CSV file containing only valid movie IDs\n",
    "This file will be used in other notebooks to filter out invalid references in related datasets"
   ],
   "id": "b3935e261142b6ba"
  },
  {
   "metadata": {
    "ExecuteTime": {
     "end_time": "2025-06-09T11:15:20.570762Z",
     "start_time": "2025-06-09T11:15:17.962007Z"
    }
   },
   "cell_type": "code",
   "source": "df_movies[[\"id\"]].to_csv(\"movies_valid_ids.csv\", index=False)",
   "id": "2f31873422ec6e1d",
   "outputs": [],
   "execution_count": 135
  },
  {
   "metadata": {},
   "cell_type": "markdown",
   "source": "Connecting to PostgreSQL database and creating the table",
   "id": "f9b5768b1ee676f3"
  },
  {
   "metadata": {
    "ExecuteTime": {
     "end_time": "2025-06-09T11:15:22.750065Z",
     "start_time": "2025-06-09T11:15:20.600281Z"
    }
   },
   "cell_type": "code",
   "source": [
    "engine = get_db_engine()\n",
    "sql = \\\n",
    "    \"\"\"CREATE TABLE IF NOT EXISTS movies (\n",
    "            id INTEGER CHECK (id>=0),\n",
    "            name TEXT CHECK (name<>''),\n",
    "            date INTEGER,\n",
    "            tagline TEXT,\n",
    "            description TEXT,\n",
    "            minute INTEGER,\n",
    "            rating DECIMAL(3,2),\n",
    "\n",
    "            PRIMARY KEY (id)\n",
    "            );\n",
    "    \"\"\"\n",
    "execute_query(sql)"
   ],
   "id": "9402999812cf83c2",
   "outputs": [
    {
     "name": "stdout",
     "output_type": "stream",
     "text": [
      "Query Executed Successfully!\n"
     ]
    }
   ],
   "execution_count": 136
  },
  {
   "metadata": {},
   "cell_type": "markdown",
   "source": "Population of the table using .to_sql function",
   "id": "aeda22c3bdd7fad7"
  },
  {
   "metadata": {
    "ExecuteTime": {
     "end_time": "2025-06-09T11:16:38.065575Z",
     "start_time": "2025-06-09T11:15:23.021464Z"
    }
   },
   "cell_type": "code",
   "source": "df_movies.to_sql(\"movies\", engine, if_exists=\"append\", index=False)",
   "id": "b8d5f03f1d052dce",
   "outputs": [
    {
     "data": {
      "text/plain": [
       "587"
      ]
     },
     "execution_count": 137,
     "metadata": {},
     "output_type": "execute_result"
    }
   ],
   "execution_count": 137
  }
 ],
 "metadata": {
  "kernelspec": {
   "display_name": "Python 3",
   "language": "python",
   "name": "python3"
  },
  "language_info": {
   "codemirror_mode": {
    "name": "ipython",
    "version": 2
   },
   "file_extension": ".py",
   "mimetype": "text/x-python",
   "name": "python",
   "nbconvert_exporter": "python",
   "pygments_lexer": "ipython2",
   "version": "2.7.6"
  }
 },
 "nbformat": 4,
 "nbformat_minor": 5
}
